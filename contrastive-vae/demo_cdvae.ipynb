{
  "cells": [
    {
      "cell_type": "code",
      "execution_count": 1,
      "metadata": {
        "id": "lWnGaRTQYhxX"
      },
      "outputs": [],
      "source": [
        "from src.model import VAE\n",
        "from src.trainer import CDVAETrainer\n",
        "from src.model import interpolate_latent\n",
        "import torch\n",
        "import torchvision\n",
        "import torchvision.transforms as transforms\n",
        "import numpy as np\n",
        "\n",
        "from torch.utils.data import DataLoader, random_split\n",
        "import matplotlib.pyplot as plt\n",
        "from torchvision.utils import make_grid\n",
        "\n",
        "%load_ext autoreload\n",
        "%autoreload 2"
      ]
    },
    {
      "cell_type": "code",
      "execution_count": 2,
      "metadata": {},
      "outputs": [],
      "source": [
        "from corruption_utils import corruptions"
      ]
    },
    {
      "cell_type": "code",
      "execution_count": 3,
      "metadata": {
        "colab": {
          "base_uri": "https://localhost:8080/"
        },
        "id": "GTp1UaySZmSW",
        "outputId": "590f3157-f309-4467-9c85-38192da9571b"
      },
      "outputs": [
        {
          "data": {
            "text/plain": [
              "device(type='cuda')"
            ]
          },
          "execution_count": 3,
          "metadata": {},
          "output_type": "execute_result"
        }
      ],
      "source": [
        "device = torch.device(\"cuda\" if torch.cuda.is_available() else \"cpu\")\n",
        "device"
      ]
    },
    {
      "cell_type": "code",
      "execution_count": 4,
      "metadata": {
        "id": "NzgAgndYYpWu"
      },
      "outputs": [],
      "source": [
        "%%capture\n",
        "mnist = torchvision.datasets.MNIST(\"../data\", train=True, download=True)"
      ]
    },
    {
      "cell_type": "code",
      "execution_count": 5,
      "metadata": {},
      "outputs": [
        {
          "data": {
            "text/plain": [
              "60000"
            ]
          },
          "execution_count": 5,
          "metadata": {},
          "output_type": "execute_result"
        }
      ],
      "source": [
        "len(mnist)"
      ]
    },
    {
      "cell_type": "code",
      "execution_count": 6,
      "metadata": {},
      "outputs": [],
      "source": [
        "from src.utils import CMNISTGenerator, CMNIST"
      ]
    },
    {
      "cell_type": "code",
      "execution_count": 7,
      "metadata": {},
      "outputs": [],
      "source": [
        "def display_util(idx1, idx2, z: torch.Tensor, model: VAE, z_dim):\n",
        "    with torch.no_grad():\n",
        "        z1, z2 = z[idx1], z[idx2]\n",
        "        display(transforms.ToPILImage()(model.decode(z1.view(1, -1))[0]))\n",
        "        display(transforms.ToPILImage()(model.decode(z2.view(1, -1))[0]))\n",
        "        z_inter = interpolate_latent(latent1=z1[z_dim:], latent2=z2[z_dim:], num_steps=11, device=device)\n",
        "        z_combined = torch.cat([z1[:z_dim][None, :].repeat(11, 1), z_inter], dim=1)\n",
        "        x_inter = model.decode(z_combined)\n",
        "        print(\"interpolate style:\")\n",
        "        plt.imshow(make_grid(x_inter, nrow=11).permute(1, 2, 0).cpu())\n",
        "        plt.axis('off')\n",
        "        plt.show()\n",
        "\n",
        "        z_inter = interpolate_latent(latent1=z1[:z_dim], latent2=z2[:z_dim], num_steps=11, device=device)\n",
        "        z_combined = torch.cat([z_inter, z1[z_dim:][None, :].repeat(11, 1)], dim=1)\n",
        "        x_inter = model.decode(z_combined)\n",
        "        print(\"interpolate content:\")\n",
        "        plt.imshow(make_grid(x_inter, nrow=11).permute(1, 2, 0).cpu())\n",
        "        plt.axis('off')\n",
        "        plt.show()\n"
      ]
    },
    {
      "cell_type": "code",
      "execution_count": 8,
      "metadata": {},
      "outputs": [],
      "source": [
        "generator = CMNISTGenerator(\n",
        "    mnist,\n",
        "    {\n",
        "        corruptions.identity: 0.2,\n",
        "        corruptions.stripe: 0.2,\n",
        "        corruptions.zigzag: 0.3,\n",
        "        corruptions.canny_edges: 0.1,\n",
        "        corruptions.brightness: 0.2\n",
        "    },\n",
        ")\n"
      ]
    },
    {
      "cell_type": "code",
      "execution_count": 9,
      "metadata": {
        "colab": {
          "base_uri": "https://localhost:8080/"
        },
        "id": "4Xl-lmReQPop",
        "outputId": "f5838243-225b-4e69-de60-e70bf55453c5"
      },
      "outputs": [
        {
          "name": "stderr",
          "output_type": "stream",
          "text": [
            "Generating dataset: 100%|██████████| 60000/60000 [00:14<00:00, 4270.73item/s]\n"
          ]
        }
      ],
      "source": [
        "dataset = CMNIST(\n",
        "    generator, transforms.Compose([transforms.ToTensor(), lambda img: img / 255.0])\n",
        ")\n",
        "\n",
        "train, test, valid = random_split(dataset, [40000, 10000, 10000])\n"
      ]
    },
    {
      "cell_type": "code",
      "execution_count": 10,
      "metadata": {},
      "outputs": [
        {
          "data": {
            "image/png": "[encoded data removed]",
            "text/plain": [
              "<Figure size 640x480 with 1 Axes>"
            ]
          },
          "metadata": {},
          "output_type": "display_data"
        }
      ],
      "source": [
        "test_loader = DataLoader(test, batch_size=32, shuffle=False)\n",
        "\n",
        "\n",
        "X, label, _ = next(iter(test_loader))\n",
        "X = X.to(device)\n",
        "label = label.to(device)\n",
        "\n",
        "plt.imshow(\n",
        "    make_grid(X.cpu(), nrow=16).permute(1, 2, 0)\n",
        ")\n",
        "plt.axis('off')\n",
        "plt.show()\n"
      ]
    },
    {
      "cell_type": "markdown",
      "metadata": {},
      "source": [
        "### cosine sim + label-flipping"
      ]
    },
    {
      "cell_type": "code",
      "execution_count": 11,
      "metadata": {
        "id": "SC72dUgvZiWs"
      },
      "outputs": [],
      "source": [
        "Z_DIM = 16\n",
        "TEMP = 0.1\n",
        "ALPHA = [100, 100]\n",
        "LABEL_FLIPPING = True\n",
        "\n",
        "vae = VAE(total_z_dim=Z_DIM).to(device)\n",
        "dataloader = DataLoader(train, batch_size=128, shuffle=True)\n",
        "val_dataloader = DataLoader(valid, batch_size=128, shuffle=False)\n",
        "optimizer = torch.optim.Adam(vae.parameters(), lr=5e-4)\n",
        "trainer = CDVAETrainer(\n",
        "    vae,\n",
        "    optimizer,\n",
        "    sim_fn=\"cosine\",\n",
        "    hyperparameter={\"temperature\": TEMP, \"beta\": 1/4, \"loc\": 0, \"scale\": 1,\n",
        "                    \"alpha\": ALPHA, \"label_flipping\": LABEL_FLIPPING},\n",
        "    verbose_period=5,\n",
        "    device=device,\n",
        ")"
      ]
    },
    {
      "cell_type": "code",
      "execution_count": 12,
      "metadata": {
        "colab": {
          "base_uri": "https://localhost:8080/"
        },
        "id": "CDuqyEP0Z-L3",
        "outputId": "4f29a4d8-fe01-4f76-cf9c-e1081f5d5908"
      },
      "outputs": [
        {
          "name": "stderr",
          "output_type": "stream",
          "text": [
            "Epoch 0: 100%|██████████| 313/313 [00:05<00:00, 60.91batch/s, c_loss=0.227, kl_c=9, kl_s=10.4, recontr_loss=60.4, s_loss=0.13]     \n",
            "val-epoch 0: 100%|██████████| 79/79 [00:00<00:00, 99.62it/s] \n"
          ]
        },
        {
          "name": "stdout",
          "output_type": "stream",
          "text": [
            "val_recontr_loss=60.779, val_kl_c=8.791, val_kl_s=10.126, val_c_loss=0.203, val_s_loss=0.110\n",
            "gMIG: 0.182; elbo: 79.697\n"
          ]
        },
        {
          "name": "stderr",
          "output_type": "stream",
          "text": [
            "Epoch 5: 100%|██████████| 313/313 [00:03<00:00, 92.42batch/s, c_loss=0.0652, kl_c=10.2, kl_s=14.1, recontr_loss=28.3, s_loss=0.144]  \n",
            "val-epoch 5: 100%|██████████| 79/79 [00:00<00:00, 256.52it/s]\n"
          ]
        },
        {
          "name": "stdout",
          "output_type": "stream",
          "text": [
            "val_recontr_loss=31.902, val_kl_c=9.822, val_kl_s=13.868, val_c_loss=0.095, val_s_loss=0.113\n",
            "gMIG: 0.254; elbo: 55.592\n"
          ]
        },
        {
          "name": "stderr",
          "output_type": "stream",
          "text": [
            "Epoch 10: 100%|██████████| 313/313 [00:03<00:00, 97.59batch/s, c_loss=0.0265, kl_c=10.7, kl_s=15.2, recontr_loss=24.4, s_loss=0.142]   \n",
            "val-epoch 10: 100%|██████████| 79/79 [00:00<00:00, 254.83it/s]\n"
          ]
        },
        {
          "name": "stdout",
          "output_type": "stream",
          "text": [
            "val_recontr_loss=25.960, val_kl_c=10.530, val_kl_s=15.065, val_c_loss=0.086, val_s_loss=0.113\n",
            "gMIG: 0.267; elbo: 51.555\n"
          ]
        },
        {
          "name": "stderr",
          "output_type": "stream",
          "text": [
            "Epoch 15: 100%|██████████| 313/313 [00:04<00:00, 74.03batch/s, c_loss=0.0463, kl_c=11.5, kl_s=14.8, recontr_loss=20.8, s_loss=0.128]  \n",
            "val-epoch 15: 100%|██████████| 79/79 [00:00<00:00, 202.53it/s]\n"
          ]
        },
        {
          "name": "stdout",
          "output_type": "stream",
          "text": [
            "val_recontr_loss=23.521, val_kl_c=11.151, val_kl_s=15.792, val_c_loss=0.077, val_s_loss=0.112\n",
            "gMIG: 0.275; elbo: 50.465\n"
          ]
        },
        {
          "name": "stderr",
          "output_type": "stream",
          "text": [
            "Epoch 20: 100%|██████████| 313/313 [00:03<00:00, 88.75batch/s, c_loss=0.0102, kl_c=11.6, kl_s=16.8, recontr_loss=25.5, s_loss=0.147]   \n",
            "val-epoch 20: 100%|██████████| 79/79 [00:00<00:00, 240.15it/s]\n"
          ]
        },
        {
          "name": "stdout",
          "output_type": "stream",
          "text": [
            "val_recontr_loss=22.068, val_kl_c=11.417, val_kl_s=16.666, val_c_loss=0.086, val_s_loss=0.112\n",
            "gMIG: 0.269; elbo: 50.151\n"
          ]
        },
        {
          "name": "stderr",
          "output_type": "stream",
          "text": [
            "Epoch 25: 100%|██████████| 313/313 [00:03<00:00, 90.25batch/s, c_loss=0.00745, kl_c=11.3, kl_s=16.9, recontr_loss=22.4, s_loss=0.141] \n",
            "val-epoch 25: 100%|██████████| 79/79 [00:00<00:00, 250.79it/s]\n"
          ]
        },
        {
          "name": "stdout",
          "output_type": "stream",
          "text": [
            "val_recontr_loss=19.892, val_kl_c=12.001, val_kl_s=16.698, val_c_loss=0.071, val_s_loss=0.111\n",
            "gMIG: 0.28; elbo: 48.592\n"
          ]
        },
        {
          "name": "stderr",
          "output_type": "stream",
          "text": [
            "Epoch 30: 100%|██████████| 313/313 [00:03<00:00, 88.10batch/s, c_loss=0.00916, kl_c=12.4, kl_s=17.3, recontr_loss=19.9, s_loss=0.127] \n",
            "val-epoch 30: 100%|██████████| 79/79 [00:00<00:00, 245.93it/s]\n"
          ]
        },
        {
          "name": "stdout",
          "output_type": "stream",
          "text": [
            "val_recontr_loss=19.144, val_kl_c=12.129, val_kl_s=16.688, val_c_loss=0.070, val_s_loss=0.112\n",
            "gMIG: 0.275; elbo: 47.961\n"
          ]
        }
      ],
      "source": [
        "trainer.fit(31, dataloader, val_dataloader)"
      ]
    },
    {
      "cell_type": "code",
      "execution_count": 13,
      "metadata": {},
      "outputs": [
        {
          "data": {
            "text/plain": [
              "(0.28282013769544423, -47.96543655151757)"
            ]
          },
          "execution_count": 13,
          "metadata": {},
          "output_type": "execute_result"
        }
      ],
      "source": [
        "trainer.evaluate(test_loader, False, 0)"
      ]
    },
    {
      "cell_type": "code",
      "execution_count": null,
      "metadata": {},
      "outputs": [],
      "source": [
        "from tqdm import tqdm\n",
        "\n",
        "mu_cs = []\n",
        "mu_ss = []\n",
        "labels = []\n",
        "styles = []\n",
        "with torch.no_grad():\n",
        "    for X, label, style in tqdm(val_dataloader):\n",
        "        X = X.to(device)\n",
        "        label = label.to(device)\n",
        "\n",
        "        _, latent_params = vae(X)\n",
        "        mu_cs.append(latent_params['mu_c'])\n",
        "        mu_ss.append(latent_params['mu_s'])\n",
        "        labels.append(label)\n",
        "        styles.append(style)\n",
        "\n",
        "mu_cs = torch.cat(mu_cs, dim=0)\n",
        "mu_ss = torch.cat(mu_ss, dim=0)\n",
        "labels = torch.cat(labels, dim=0)\n",
        "styles = torch.cat(styles, dim=0)\n"
      ]
    },
    {
      "cell_type": "code",
      "execution_count": 124,
      "metadata": {},
      "outputs": [],
      "source": [
        "from sklearn.manifold import TSNE\n",
        "\n",
        "tsne = TSNE(n_components=2, perplexity=30, learning_rate=200, init='pca')\n",
        "mu_cs_tsne = tsne.fit_transform(mu_cs.cpu().numpy())"
      ]
    },
    {
      "cell_type": "code",
      "execution_count": null,
      "metadata": {},
      "outputs": [],
      "source": [
        "import matplotlib.pyplot as plt\n",
        "\n",
        "plt.scatter(mu_cs_tsne[:, 0], mu_cs_tsne[:, 1], alpha=0.3, \n",
        "            c=labels.cpu().numpy(), cmap='tab10')\n",
        "plt.colorbar(label='Digit Class')"
      ]
    },
    {
      "cell_type": "code",
      "execution_count": null,
      "metadata": {},
      "outputs": [],
      "source": [
        "style_labels = ['identity', 'stripe', 'zigzag', 'canny_edge', 'brightness']\n",
        "\n",
        "cmap = plt.get_cmap('viridis')\n",
        "colors = [cmap(i) for i in np.linspace(0, 1, len(style_labels))]\n",
        "\n",
        "fig, ax = plt.subplots()\n",
        "for g in range(len(style_labels)):\n",
        "    i = np.where(styles == g)[0]\n",
        "    ax.scatter(mu_cs_tsne[i,0], mu_cs_tsne[i,1], alpha=0.2, \n",
        "               c=colors[g], label=style_labels[g])\n",
        "ax.legend()\n",
        "plt.show()"
      ]
    },
    {
      "cell_type": "code",
      "execution_count": 127,
      "metadata": {},
      "outputs": [],
      "source": [
        "tsne = TSNE(n_components=2, perplexity=30, learning_rate=200, init='pca')\n",
        "mu_ss_tsne = tsne.fit_transform(mu_ss.cpu().numpy())"
      ]
    },
    {
      "cell_type": "code",
      "execution_count": null,
      "metadata": {},
      "outputs": [],
      "source": [
        "plt.scatter(mu_ss_tsne[:,0], mu_ss_tsne[:,1], alpha=0.3,\n",
        "            c=labels.cpu().numpy(), cmap='tab10')\n",
        "plt.colorbar(label='Digit Class')"
      ]
    },
    {
      "cell_type": "code",
      "execution_count": null,
      "metadata": {},
      "outputs": [],
      "source": [
        "fig, axs = plt.subplots(2, 5, figsize=(12, 5))\n",
        "for i, ax in enumerate(axs.flat):\n",
        "    cond = torch.where(labels == i)[0].cpu().numpy()\n",
        "    ax.scatter(mu_ss_tsne[cond,0], mu_ss_tsne[cond,1], alpha=0.3)"
      ]
    },
    {
      "cell_type": "code",
      "execution_count": null,
      "metadata": {},
      "outputs": [],
      "source": [
        "style_labels = ['identity', 'stripe', 'zigzag', 'canny_edge', 'brightness']\n",
        "\n",
        "cmap = plt.get_cmap('viridis')\n",
        "colors = [cmap(i) for i in np.linspace(0, 1, len(style_labels))]\n",
        "fig, ax = plt.subplots()\n",
        "for g in range(len(style_labels)):\n",
        "    i = np.where(styles == g)[0]\n",
        "    ax.scatter(mu_ss_tsne[i,0], mu_ss_tsne[i,1], alpha=0.3, \n",
        "               c=colors[g], label=style_labels[g])\n",
        "ax.legend()\n",
        "plt.show()"
      ]
    },
    {
      "cell_type": "code",
      "execution_count": 131,
      "metadata": {},
      "outputs": [],
      "source": [
        "X, label, _ = next(iter(test_loader))\n",
        "X = X.to(device)\n",
        "label = label.to(device)\n"
      ]
    },
    {
      "cell_type": "code",
      "execution_count": 132,
      "metadata": {},
      "outputs": [],
      "source": [
        "vae.eval()\n",
        "X_hat, latent_params, z = vae(X.clone(), explicit=True)"
      ]
    },
    {
      "cell_type": "code",
      "execution_count": null,
      "metadata": {},
      "outputs": [],
      "source": [
        "display_util(9, 2, z, vae, int(Z_DIM / 2))"
      ]
    },
    {
      "cell_type": "markdown",
      "metadata": {},
      "source": [
        "### cosine sim + no lable-flipping"
      ]
    },
    {
      "cell_type": "code",
      "execution_count": 166,
      "metadata": {},
      "outputs": [],
      "source": [
        "Z_DIM = 16\n",
        "TEMP = 0.1\n",
        "ALPHA = [100, 100]\n",
        "LABEL_FLIPPING = False\n",
        "\n",
        "vae = VAE(total_z_dim=Z_DIM).to(device)\n",
        "dataloader = DataLoader(train, batch_size=128, shuffle=True)\n",
        "val_dataloader = DataLoader(valid, batch_size=128, shuffle=False)\n",
        "optimizer = torch.optim.Adam(vae.parameters(), lr=5e-4)\n",
        "trainer = CDVAETrainer(\n",
        "    vae,\n",
        "    optimizer,\n",
        "    sim_fn=\"cosine\",\n",
        "    hyperparameter={\"temperature\": TEMP, \"beta\": 1/8, \"loc\": 0, \"scale\": 1,\n",
        "                    \"alpha\": ALPHA, \"label_flipping\": LABEL_FLIPPING},\n",
        "    verbose_period=5,\n",
        "    device=device,\n",
        ")"
      ]
    },
    {
      "cell_type": "code",
      "execution_count": null,
      "metadata": {},
      "outputs": [],
      "source": [
        "trainer.fit(31, dataloader, val_dataloader)"
      ]
    },
    {
      "cell_type": "code",
      "execution_count": 168,
      "metadata": {},
      "outputs": [],
      "source": [
        "X, label, _ = next(iter(test_loader))\n",
        "X = X.to(device)\n",
        "label = label.to(device)\n"
      ]
    },
    {
      "cell_type": "code",
      "execution_count": 169,
      "metadata": {},
      "outputs": [],
      "source": [
        "vae.eval()\n",
        "X_hat, latent_params, z = vae(X.clone(), explicit=True)"
      ]
    },
    {
      "cell_type": "code",
      "execution_count": null,
      "metadata": {},
      "outputs": [],
      "source": [
        "display_util(9, 26, z, vae, int(Z_DIM / 2))"
      ]
    },
    {
      "cell_type": "code",
      "execution_count": null,
      "metadata": {},
      "outputs": [],
      "source": [
        "display_util(1, 3, z, vae, int(Z_DIM / 2))"
      ]
    },
    {
      "cell_type": "code",
      "execution_count": null,
      "metadata": {},
      "outputs": [],
      "source": [
        "display_util(17, 30, z, vae, int(Z_DIM / 2))"
      ]
    },
    {
      "cell_type": "code",
      "execution_count": null,
      "metadata": {},
      "outputs": [],
      "source": [
        "display_util(14, 6, z, vae, int(Z_DIM / 2))"
      ]
    },
    {
      "cell_type": "code",
      "execution_count": null,
      "metadata": {},
      "outputs": [],
      "source": [
        "display_util(1, 31, z, vae, int(Z_DIM / 2))"
      ]
    },
    {
      "cell_type": "code",
      "execution_count": null,
      "metadata": {},
      "outputs": [],
      "source": [
        "from tqdm import tqdm\n",
        "\n",
        "mu_cs = []\n",
        "mu_ss = []\n",
        "labels = []\n",
        "styles = []\n",
        "with torch.no_grad():\n",
        "    for X, label, style in tqdm(val_dataloader):\n",
        "        X = X.to(device)\n",
        "        label = label.to(device)\n",
        "\n",
        "        _, latent_params = vae(X)\n",
        "        mu_cs.append(latent_params['mu_c'])\n",
        "        mu_ss.append(latent_params['mu_s'])\n",
        "        labels.append(label)\n",
        "        styles.append(style)\n",
        "\n",
        "mu_cs = torch.cat(mu_cs, dim=0)\n",
        "mu_ss = torch.cat(mu_ss, dim=0)\n",
        "labels = torch.cat(labels, dim=0)\n",
        "styles = torch.cat(styles, dim=0)\n"
      ]
    },
    {
      "cell_type": "code",
      "execution_count": 32,
      "metadata": {},
      "outputs": [],
      "source": [
        "from sklearn.manifold import TSNE\n",
        "\n",
        "tsne = TSNE(n_components=2, perplexity=30, learning_rate=200, init='pca')\n",
        "mu_cs_tsne = tsne.fit_transform(mu_cs.cpu().numpy())"
      ]
    },
    {
      "cell_type": "code",
      "execution_count": null,
      "metadata": {},
      "outputs": [],
      "source": [
        "import matplotlib.pyplot as plt\n",
        "\n",
        "plt.scatter(mu_cs_tsne[:, 0], mu_cs_tsne[:, 1], alpha=0.3, \n",
        "            c=labels.cpu().numpy(), cmap='tab10')\n",
        "plt.colorbar(label='Digit Class')"
      ]
    },
    {
      "cell_type": "code",
      "execution_count": null,
      "metadata": {},
      "outputs": [],
      "source": [
        "style_labels = ['identity', 'stripe', 'zigzag', 'canny_edge', 'brightness']\n",
        "\n",
        "cmap = plt.get_cmap('viridis')\n",
        "colors = [cmap(i) for i in np.linspace(0, 1, len(style_labels))]\n",
        "\n",
        "fig, ax = plt.subplots()\n",
        "for g in range(len(style_labels)):\n",
        "    i = np.where(styles == g)[0]\n",
        "    ax.scatter(mu_cs_tsne[i,0], mu_cs_tsne[i,1], alpha=0.2, \n",
        "               c=colors[g], label=style_labels[g])\n",
        "ax.legend()\n",
        "plt.show()"
      ]
    },
    {
      "cell_type": "code",
      "execution_count": 35,
      "metadata": {},
      "outputs": [],
      "source": [
        "tsne = TSNE(n_components=2, perplexity=30, learning_rate=200, init='pca')\n",
        "mu_ss_tsne = tsne.fit_transform(mu_ss.cpu().numpy())"
      ]
    },
    {
      "cell_type": "code",
      "execution_count": null,
      "metadata": {},
      "outputs": [],
      "source": [
        "plt.scatter(mu_ss_tsne[:,0], mu_ss_tsne[:,1], alpha=0.3,\n",
        "            c=labels.cpu().numpy(), cmap='tab10')\n",
        "plt.colorbar(label='Digit Class')"
      ]
    },
    {
      "cell_type": "code",
      "execution_count": null,
      "metadata": {},
      "outputs": [],
      "source": [
        "fig, axs = plt.subplots(2, 5, figsize=(12, 5))\n",
        "for i, ax in enumerate(axs.flat):\n",
        "    cond = torch.where(labels == i)[0].cpu().numpy()\n",
        "    ax.scatter(mu_ss_tsne[cond,0], mu_ss_tsne[cond,1], alpha=0.3)"
      ]
    },
    {
      "cell_type": "code",
      "execution_count": null,
      "metadata": {},
      "outputs": [],
      "source": [
        "style_labels = ['identity', 'stripe', 'zigzag', 'canny_edge', 'brightness']\n",
        "\n",
        "cmap = plt.get_cmap('viridis')\n",
        "colors = [cmap(i) for i in np.linspace(0, 1, len(style_labels))]\n",
        "fig, ax = plt.subplots()\n",
        "for g in range(len(style_labels)):\n",
        "    i = np.where(styles == g)[0]\n",
        "    ax.scatter(mu_ss_tsne[i,0], mu_ss_tsne[i,1], alpha=0.3, \n",
        "               c=colors[g], label=style_labels[g])\n",
        "ax.legend()\n",
        "plt.show()"
      ]
    },
    {
      "cell_type": "code",
      "execution_count": null,
      "metadata": {},
      "outputs": [],
      "source": [
        "idxs = list(range(50, 100))\n",
        "\n",
        "plt.scatter(mu_ss_tsne[:1000, 0], mu_ss_tsne[:1000, 1], alpha=0.3)\n",
        "plt.scatter(mu_ss_tsne[idxs, 0], mu_ss_tsne[idxs, 1], c=labels[idxs].cpu().numpy(), cmap=\"tab10\")\n",
        "for i in idxs:\n",
        "    plt.text(mu_ss_tsne[i, 0], mu_ss_tsne[i, 1], f\"idx:{i}\", fontsize=10)\n",
        "plt.colorbar()"
      ]
    },
    {
      "cell_type": "code",
      "execution_count": null,
      "metadata": {},
      "outputs": [],
      "source": [
        "idx = 9\n",
        "display(transforms.ToPILImage()(vae.decode(\n",
        "    torch.cat([mu_cs[idx], mu_ss[idx]]).view(1, -1)\n",
        ")[0]))"
      ]
    },
    {
      "cell_type": "code",
      "execution_count": null,
      "metadata": {},
      "outputs": [],
      "source": [
        "for i in [53, 88, 62, 67, 73, 85, 71, 79, 98, 68]:\n",
        "    display(transforms.ToPILImage()(vae.decode(\n",
        "        torch.cat([mu_cs[idx], mu_ss[i]]).view(1, -1)\n",
        "    )[0]))"
      ]
    },
    {
      "cell_type": "markdown",
      "metadata": {},
      "source": [
        "### mahalanobis + label flipping"
      ]
    },
    {
      "cell_type": "code",
      "execution_count": 111,
      "metadata": {},
      "outputs": [],
      "source": [
        "Z_DIM = 32\n",
        "TEMP = 1\n",
        "ALPHA = [50, 50]\n",
        "LABEL_FLIPPING = True"
      ]
    },
    {
      "cell_type": "code",
      "execution_count": 94,
      "metadata": {},
      "outputs": [],
      "source": [
        "vae = VAE(total_z_dim=Z_DIM).to(device)\n",
        "dataloader = DataLoader(train, batch_size=128, shuffle=True)\n",
        "val_dataloader = DataLoader(valid, batch_size=128, shuffle=False)\n",
        "optimizer = torch.optim.Adam(vae.parameters(), lr=1e-3)\n",
        "trainer = CDVAETrainer(\n",
        "    vae,\n",
        "    optimizer,\n",
        "    sim_fn=\"mahalanobis\",\n",
        "    hyperparameter={\"temperature\": TEMP, \"beta\": 1, \"loc\": 0, \"scale\": 1,\n",
        "                    \"alpha\": ALPHA, \"label_flipping\": LABEL_FLIPPING},\n",
        "    verbose_period=5,\n",
        "    device=device,\n",
        ")"
      ]
    },
    {
      "cell_type": "code",
      "execution_count": null,
      "metadata": {},
      "outputs": [],
      "source": [
        "trainer.fit(31, dataloader, val_dataloader)"
      ]
    },
    {
      "cell_type": "code",
      "execution_count": 96,
      "metadata": {},
      "outputs": [],
      "source": [
        "X, label, _ = next(iter(test_loader))\n",
        "X = X.to(device)\n",
        "label = label.to(device)\n",
        "vae.eval()\n",
        "X_hat, latent_params, z = vae(X, explicit=True)"
      ]
    },
    {
      "cell_type": "code",
      "execution_count": null,
      "metadata": {},
      "outputs": [],
      "source": [
        "display_util(9, 16, z, vae, 16)"
      ]
    },
    {
      "cell_type": "code",
      "execution_count": null,
      "metadata": {},
      "outputs": [],
      "source": [
        "display_util(1, 3, z, vae, int(Z_DIM / 2))"
      ]
    },
    {
      "cell_type": "code",
      "execution_count": null,
      "metadata": {},
      "outputs": [],
      "source": [
        "display_util(17, 14, z, vae, int(Z_DIM / 2))"
      ]
    },
    {
      "cell_type": "code",
      "execution_count": null,
      "metadata": {},
      "outputs": [],
      "source": [
        "display_util(14, 6, z, vae, int(Z_DIM / 2))"
      ]
    },
    {
      "cell_type": "code",
      "execution_count": null,
      "metadata": {},
      "outputs": [],
      "source": [
        "display_util(31, 1, z, vae, int(Z_DIM / 2))"
      ]
    },
    {
      "cell_type": "code",
      "execution_count": null,
      "metadata": {},
      "outputs": [],
      "source": [
        "from tqdm import tqdm\n",
        "\n",
        "mu_cs = []\n",
        "mu_ss = []\n",
        "labels = []\n",
        "styles = []\n",
        "with torch.no_grad():\n",
        "    for X, label, style in tqdm(val_dataloader):\n",
        "        X = X.to(device)\n",
        "        label = label.to(device)\n",
        "\n",
        "        _, latent_params = vae(X)\n",
        "        mu_cs.append(latent_params['mu_c'])\n",
        "        mu_ss.append(latent_params['mu_s'])\n",
        "        labels.append(label)\n",
        "        styles.append(style)\n",
        "\n",
        "mu_cs = torch.cat(mu_cs, dim=0)\n",
        "mu_ss = torch.cat(mu_ss, dim=0)\n",
        "labels = torch.cat(labels, dim=0)\n",
        "styles = torch.cat(styles, dim=0)"
      ]
    },
    {
      "cell_type": "code",
      "execution_count": 103,
      "metadata": {},
      "outputs": [],
      "source": [
        "from sklearn.manifold import TSNE\n",
        "\n",
        "tsne = TSNE(n_components=2, perplexity=30, learning_rate=200, init='pca')\n",
        "mu_cs_tsne = tsne.fit_transform(mu_cs.cpu().numpy())"
      ]
    },
    {
      "cell_type": "code",
      "execution_count": null,
      "metadata": {},
      "outputs": [],
      "source": [
        "import matplotlib.pyplot as plt\n",
        "\n",
        "plt.scatter(mu_cs_tsne[:, 0], mu_cs_tsne[:, 1], alpha=0.3, \n",
        "            c=labels.cpu().numpy(), cmap='tab10')\n",
        "plt.colorbar(label='Digit Class')"
      ]
    },
    {
      "cell_type": "code",
      "execution_count": null,
      "metadata": {},
      "outputs": [],
      "source": [
        "style_labels = ['identity', 'stripe', 'zigzag', 'canny_edge', 'brightness']\n",
        "\n",
        "cmap = plt.get_cmap('viridis')\n",
        "colors = [cmap(i) for i in np.linspace(0, 1, len(style_labels))]\n",
        "\n",
        "fig, ax = plt.subplots()\n",
        "for g in range(len(style_labels)):\n",
        "    i = np.where(styles == g)[0]\n",
        "    ax.scatter(mu_cs_tsne[i,0], mu_cs_tsne[i,1], alpha=0.2, \n",
        "               c=colors[g], label=style_labels[g])\n",
        "ax.legend()\n",
        "plt.show()"
      ]
    },
    {
      "cell_type": "code",
      "execution_count": 106,
      "metadata": {},
      "outputs": [],
      "source": [
        "tsne = TSNE(n_components=2, perplexity=30, learning_rate=200, init='pca')\n",
        "mu_ss_tsne = tsne.fit_transform(mu_ss.cpu().numpy())"
      ]
    },
    {
      "cell_type": "code",
      "execution_count": null,
      "metadata": {},
      "outputs": [],
      "source": [
        "plt.scatter(mu_ss_tsne[:,0], mu_ss_tsne[:,1], alpha=0.3,\n",
        "            c=labels.cpu().numpy(), cmap='tab10')\n",
        "plt.colorbar(label='Digit Class')"
      ]
    },
    {
      "cell_type": "code",
      "execution_count": null,
      "metadata": {},
      "outputs": [],
      "source": [
        "fig, axs = plt.subplots(2, 5, figsize=(12, 5))\n",
        "for i, ax in enumerate(axs.flat):\n",
        "    cond = torch.where(labels == i)[0].cpu().numpy()\n",
        "    ax.scatter(mu_ss_tsne[cond,0], mu_ss_tsne[cond,1], alpha=0.3)"
      ]
    },
    {
      "cell_type": "code",
      "execution_count": null,
      "metadata": {},
      "outputs": [],
      "source": [
        "style_labels = ['identity', 'stripe', 'zigzag', 'canny_edge', 'brightness']\n",
        "\n",
        "cmap = plt.get_cmap('viridis')\n",
        "colors = [cmap(i) for i in np.linspace(0, 1, len(style_labels))]\n",
        "\n",
        "fig, ax = plt.subplots()\n",
        "for g in range(len(style_labels)):\n",
        "    i = np.where(styles == g)[0]\n",
        "    ax.scatter(mu_ss_tsne[i,0], mu_ss_tsne[i,1], alpha=0.3, \n",
        "               c=colors[g], label=style_labels[g])\n",
        "ax.legend()\n",
        "plt.show()"
      ]
    },
    {
      "cell_type": "code",
      "execution_count": null,
      "metadata": {},
      "outputs": [],
      "source": [
        "idxs = list(range(50, 150))\n",
        "\n",
        "plt.scatter(mu_ss_tsne[:1000, 0], mu_ss_tsne[:1000, 1], alpha=0.3)\n",
        "plt.scatter(mu_ss_tsne[idxs, 0], mu_ss_tsne[idxs, 1], c=labels[idxs].cpu().numpy(), cmap=\"tab10\")\n",
        "for i in idxs:\n",
        "    plt.text(mu_ss_tsne[i, 0], mu_ss_tsne[i, 1], f\"idx:{i}\", fontsize=10)\n",
        "plt.colorbar()"
      ]
    },
    {
      "cell_type": "code",
      "execution_count": null,
      "metadata": {},
      "outputs": [],
      "source": [
        "idx = 1\n",
        "display(transforms.ToPILImage()(vae.decode(\n",
        "    torch.cat([mu_cs[idx], mu_ss[idx]]).view(1, -1)\n",
        ")[0]))"
      ]
    },
    {
      "cell_type": "code",
      "execution_count": null,
      "metadata": {},
      "outputs": [],
      "source": [
        "for i in [136, 120, 84, 50, 52]:\n",
        "    display(transforms.ToPILImage()(vae.decode(\n",
        "        torch.cat([mu_cs[idx], mu_ss[i]]).view(1, -1)\n",
        "    )[0]))"
      ]
    },
    {
      "cell_type": "code",
      "execution_count": null,
      "metadata": {},
      "outputs": [],
      "source": []
    }
  ],
  "metadata": {
    "accelerator": "GPU",
    "colab": {
      "gpuType": "V100",
      "provenance": []
    },
    "kernelspec": {
      "display_name": "Python 3",
      "name": "python3"
    },
    "language_info": {
      "codemirror_mode": {
        "name": "ipython",
        "version": 3
      },
      "file_extension": ".py",
      "mimetype": "text/x-python",
      "name": "python",
      "nbconvert_exporter": "python",
      "pygments_lexer": "ipython3",
      "version": "3.10.4"
    }
  },
  "nbformat": 4,
  "nbformat_minor": 0
}
