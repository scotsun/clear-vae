{
  "cells": [
    {
      "cell_type": "code",
      "execution_count": null,
      "metadata": {
        "id": "lWnGaRTQYhxX"
      },
      "outputs": [],
      "source": [
        "from src.model import VAE\n",
        "from src.trainer import CDVAETrainer\n",
        "from src.model import interpolate_latent\n",
        "import torch\n",
        "import torchvision\n",
        "import torchvision.transforms as transforms\n",
        "import numpy as np\n",
        "\n",
        "from torch.utils.data import DataLoader, random_split\n",
        "import matplotlib.pyplot as plt\n",
        "from torchvision.utils import make_grid\n",
        "\n",
        "%load_ext autoreload\n",
        "%autoreload 2"
      ]
    },
    {
      "cell_type": "code",
      "execution_count": null,
      "metadata": {},
      "outputs": [],
      "source": [
        "from corruption_utils import corruptions"
      ]
    },
    {
      "cell_type": "code",
      "execution_count": null,
      "metadata": {
        "colab": {
          "base_uri": "https://localhost:8080/"
        },
        "id": "GTp1UaySZmSW",
        "outputId": "590f3157-f309-4467-9c85-38192da9571b"
      },
      "outputs": [],
      "source": [
        "device = torch.device(\"cuda\" if torch.cuda.is_available() else \"cpu\")\n",
        "device"
      ]
    },
    {
      "cell_type": "code",
      "execution_count": null,
      "metadata": {
        "id": "NzgAgndYYpWu"
      },
      "outputs": [],
      "source": [
        "%%capture\n",
        "mnist = torchvision.datasets.MNIST(\"../data\", train=True, download=True)"
      ]
    },
    {
      "cell_type": "code",
      "execution_count": null,
      "metadata": {},
      "outputs": [],
      "source": [
        "from src.utils import CMNISTGenerator, CMNIST"
      ]
    },
    {
      "cell_type": "code",
      "execution_count": null,
      "metadata": {},
      "outputs": [],
      "source": [
        "def display_util(idx1, idx2, z: torch.Tensor, model: VAE, z_dim):\n",
        "    with torch.no_grad():\n",
        "        z1, z2 = z[idx1], z[idx2]\n",
        "        display(transforms.ToPILImage()(model.decode(z1.view(1, -1))[0]))\n",
        "        display(transforms.ToPILImage()(model.decode(z2.view(1, -1))[0]))\n",
        "        z_inter = interpolate_latent(latent1=z1[z_dim:], latent2=z2[z_dim:], num_steps=11, device=device)\n",
        "        z_combined = torch.cat([z1[:z_dim][None, :].repeat(11, 1), z_inter], dim=1)\n",
        "        x_inter = model.decode(z_combined)\n",
        "        print(\"interpolate style:\")\n",
        "        plt.imshow(make_grid(x_inter, nrow=11).permute(1, 2, 0).cpu())\n",
        "        plt.axis('off')\n",
        "        plt.show()\n",
        "\n",
        "        z_inter = interpolate_latent(latent1=z1[:z_dim], latent2=z2[:z_dim], num_steps=11, device=device)\n",
        "        z_combined = torch.cat([z_inter, z1[z_dim:][None, :].repeat(11, 1)], dim=1)\n",
        "        x_inter = model.decode(z_combined)\n",
        "        print(\"interpolate content:\")\n",
        "        plt.imshow(make_grid(x_inter, nrow=11).permute(1, 2, 0).cpu())\n",
        "        plt.axis('off')\n",
        "        plt.show()\n"
      ]
    },
    {
      "cell_type": "code",
      "execution_count": null,
      "metadata": {},
      "outputs": [],
      "source": [
        "generator = CMNISTGenerator(\n",
        "    mnist,\n",
        "    {\n",
        "        corruptions.identity: 0.3,\n",
        "        corruptions.stripe: 0.2,\n",
        "        corruptions.zigzag: 0.3,\n",
        "        corruptions.canny_edges: 0.1,\n",
        "        corruptions.brightness: 0.1\n",
        "    },\n",
        ")\n"
      ]
    },
    {
      "cell_type": "code",
      "execution_count": null,
      "metadata": {
        "colab": {
          "base_uri": "https://localhost:8080/"
        },
        "id": "4Xl-lmReQPop",
        "outputId": "f5838243-225b-4e69-de60-e70bf55453c5"
      },
      "outputs": [],
      "source": [
        "dataset = CMNIST(\n",
        "    generator, transforms.Compose([transforms.ToTensor(), lambda img: img / 255.0])\n",
        ")\n",
        "\n",
        "test, train = random_split(dataset, [32, len(dataset) - 32])\n",
        "valid, train = random_split(train, [10000, len(train) - 10000])\n"
      ]
    },
    {
      "cell_type": "code",
      "execution_count": null,
      "metadata": {},
      "outputs": [],
      "source": [
        "test_loader = DataLoader(test, batch_size=32, shuffle=True)\n",
        "\n",
        "\n",
        "X, label, _ = next(iter(test_loader))\n",
        "X = X.to(device)\n",
        "label = label.to(device)\n",
        "\n",
        "plt.imshow(\n",
        "    make_grid(X.cpu(), nrow=16).permute(1, 2, 0)\n",
        ")\n",
        "plt.axis('off')\n",
        "plt.show()\n"
      ]
    },
    {
      "cell_type": "markdown",
      "metadata": {},
      "source": [
        "### cosine sim + label-flipping"
      ]
    },
    {
      "cell_type": "code",
      "execution_count": null,
      "metadata": {},
      "outputs": [],
      "source": [
        "Z_DIM = 32\n",
        "TEMP = 0.1\n",
        "ALPHA = [1000, 1000]\n",
        "LABEL_FLIPPING = True"
      ]
    },
    {
      "cell_type": "code",
      "execution_count": null,
      "metadata": {
        "id": "SC72dUgvZiWs"
      },
      "outputs": [],
      "source": [
        "vae = VAE(total_z_dim=Z_DIM).to(device)\n",
        "dataloader = DataLoader(train, batch_size=128, shuffle=True)\n",
        "val_dataloader = DataLoader(valid, batch_size=128, shuffle=False)\n",
        "optimizer = torch.optim.Adam(vae.parameters(), lr=5e-4)\n",
        "trainer = CDVAETrainer(\n",
        "    vae,\n",
        "    optimizer,\n",
        "    sim_fn=\"cosine\",\n",
        "    hyperparameter={\"temperature\": TEMP, \"beta\": 1, \"loc\": 0, \"scale\": 1,\n",
        "                    \"alpha\": ALPHA, \"label_flipping\": LABEL_FLIPPING},\n",
        "    verbose_period=5,\n",
        "    device=device,\n",
        ")"
      ]
    },
    {
      "cell_type": "code",
      "execution_count": null,
      "metadata": {
        "colab": {
          "base_uri": "https://localhost:8080/"
        },
        "id": "CDuqyEP0Z-L3",
        "outputId": "4f29a4d8-fe01-4f76-cf9c-e1081f5d5908"
      },
      "outputs": [],
      "source": [
        "trainer.fit(16, dataloader, val_dataloader)"
      ]
    },
    {
      "cell_type": "code",
      "execution_count": null,
      "metadata": {},
      "outputs": [],
      "source": [
        "X, label, _ = next(iter(test_loader))\n",
        "X = X.to(device)\n",
        "label = label.to(device)\n"
      ]
    },
    {
      "cell_type": "code",
      "execution_count": null,
      "metadata": {},
      "outputs": [],
      "source": [
        "vae.eval()\n",
        "X_hat, latent_params, z = vae(X.clone(), explicit=True)"
      ]
    },
    {
      "cell_type": "code",
      "execution_count": null,
      "metadata": {},
      "outputs": [],
      "source": [
        "display_util(9, 26, z, vae, int(Z_DIM / 2))"
      ]
    },
    {
      "cell_type": "code",
      "execution_count": null,
      "metadata": {},
      "outputs": [],
      "source": [
        "display_util(1, 3, z, vae, int(Z_DIM / 2))"
      ]
    },
    {
      "cell_type": "code",
      "execution_count": null,
      "metadata": {},
      "outputs": [],
      "source": [
        "display_util(17, 30, z, vae, int(Z_DIM / 2))"
      ]
    },
    {
      "cell_type": "code",
      "execution_count": null,
      "metadata": {},
      "outputs": [],
      "source": [
        "display_util(14, 6, z, vae, int(Z_DIM / 2))"
      ]
    },
    {
      "cell_type": "code",
      "execution_count": null,
      "metadata": {},
      "outputs": [],
      "source": [
        "display_util(1, 31, z, vae, int(Z_DIM / 2))"
      ]
    },
    {
      "cell_type": "code",
      "execution_count": null,
      "metadata": {},
      "outputs": [],
      "source": [
        "from tqdm import tqdm\n",
        "\n",
        "mu_cs = []\n",
        "mu_ss = []\n",
        "labels = []\n",
        "styles = []\n",
        "with torch.no_grad():\n",
        "    for X, label, style in tqdm(val_dataloader):\n",
        "        X = X.to(device)\n",
        "        label = label.to(device)\n",
        "\n",
        "        _, latent_params = vae(X)\n",
        "        mu_cs.append(latent_params['mu_c'])\n",
        "        mu_ss.append(latent_params['mu_s'])\n",
        "        labels.append(label)\n",
        "        styles.append(style)\n",
        "\n",
        "mu_cs = torch.cat(mu_cs, dim=0)\n",
        "mu_ss = torch.cat(mu_ss, dim=0)\n",
        "labels = torch.cat(labels, dim=0)\n",
        "styles = torch.cat(styles, dim=0)\n"
      ]
    },
    {
      "cell_type": "code",
      "execution_count": null,
      "metadata": {},
      "outputs": [],
      "source": [
        "from sklearn.manifold import TSNE\n",
        "\n",
        "tsne = TSNE(n_components=2, perplexity=30, learning_rate=200, init='pca')\n",
        "mu_cs_tsne = tsne.fit_transform(mu_cs.cpu().numpy())"
      ]
    },
    {
      "cell_type": "code",
      "execution_count": null,
      "metadata": {},
      "outputs": [],
      "source": [
        "import matplotlib.pyplot as plt\n",
        "\n",
        "plt.scatter(mu_cs_tsne[:, 0], mu_cs_tsne[:, 1], alpha=0.3, \n",
        "            c=labels.cpu().numpy(), cmap='tab10')\n",
        "plt.colorbar(label='Digit Class')"
      ]
    },
    {
      "cell_type": "code",
      "execution_count": null,
      "metadata": {},
      "outputs": [],
      "source": [
        "style_labels = ['identity', 'stripe', 'zigzag', 'canny_edge', 'brightness']\n",
        "\n",
        "cmap = plt.get_cmap('viridis')\n",
        "colors = [cmap(i) for i in np.linspace(0, 1, len(style_labels))]\n",
        "\n",
        "fig, ax = plt.subplots()\n",
        "for g in range(len(style_labels)):\n",
        "    i = np.where(styles == g)[0]\n",
        "    ax.scatter(mu_cs_tsne[i,0], mu_cs_tsne[i,1], alpha=0.2, \n",
        "               c=colors[g], label=style_labels[g])\n",
        "ax.legend()\n",
        "plt.show()"
      ]
    },
    {
      "cell_type": "code",
      "execution_count": null,
      "metadata": {},
      "outputs": [],
      "source": [
        "tsne = TSNE(n_components=2, perplexity=30, learning_rate=200, init='pca')\n",
        "mu_ss_tsne = tsne.fit_transform(mu_ss.cpu().numpy())"
      ]
    },
    {
      "cell_type": "code",
      "execution_count": null,
      "metadata": {},
      "outputs": [],
      "source": [
        "plt.scatter(mu_ss_tsne[:,0], mu_ss_tsne[:,1], alpha=0.3,\n",
        "            c=labels.cpu().numpy(), cmap='tab10')\n",
        "plt.colorbar(label='Digit Class')"
      ]
    },
    {
      "cell_type": "code",
      "execution_count": null,
      "metadata": {},
      "outputs": [],
      "source": [
        "fig, axs = plt.subplots(2, 5, figsize=(12, 5))\n",
        "for i, ax in enumerate(axs.flat):\n",
        "    cond = torch.where(labels == i)[0].cpu().numpy()\n",
        "    ax.scatter(mu_ss_tsne[cond,0], mu_ss_tsne[cond,1], alpha=0.3)"
      ]
    },
    {
      "cell_type": "code",
      "execution_count": null,
      "metadata": {},
      "outputs": [],
      "source": [
        "style_labels = ['identity', 'stripe', 'zigzag', 'canny_edge', 'brightness']\n",
        "\n",
        "cmap = plt.get_cmap('viridis')\n",
        "colors = [cmap(i) for i in np.linspace(0, 1, len(style_labels))]\n",
        "fig, ax = plt.subplots()\n",
        "for g in range(len(style_labels)):\n",
        "    i = np.where(styles == g)[0]\n",
        "    ax.scatter(mu_ss_tsne[i,0], mu_ss_tsne[i,1], alpha=0.3, \n",
        "               c=colors[g], label=style_labels[g])\n",
        "ax.legend()\n",
        "plt.show()"
      ]
    },
    {
      "cell_type": "code",
      "execution_count": null,
      "metadata": {},
      "outputs": [],
      "source": [
        "idxs = list(range(50, 100))\n",
        "\n",
        "plt.scatter(mu_ss_tsne[:1000, 0], mu_ss_tsne[:1000, 1], alpha=0.3)\n",
        "plt.scatter(mu_ss_tsne[idxs, 0], mu_ss_tsne[idxs, 1], c=labels[idxs].cpu().numpy(), cmap=\"tab10\")\n",
        "for i in idxs:\n",
        "    plt.text(mu_ss_tsne[i, 0], mu_ss_tsne[i, 1], f\"idx:{i}\", fontsize=10)\n",
        "plt.colorbar()"
      ]
    },
    {
      "cell_type": "code",
      "execution_count": null,
      "metadata": {},
      "outputs": [],
      "source": [
        "idx = 19\n",
        "display(transforms.ToPILImage()(vae.decode(\n",
        "    torch.cat([mu_cs[idx], mu_ss[idx]]).view(1, -1)\n",
        ")[0]))"
      ]
    },
    {
      "cell_type": "code",
      "execution_count": null,
      "metadata": {},
      "outputs": [],
      "source": [
        "for i in [53, 88, 62, 67, 73, 85, 79, 98, 68]:\n",
        "    display(transforms.ToPILImage()(vae.decode(\n",
        "        torch.cat([mu_cs[idx], mu_ss[i]]).view(1, -1)\n",
        "    )[0]))"
      ]
    },
    {
      "cell_type": "markdown",
      "metadata": {},
      "source": [
        "### cosine sim + (-L)"
      ]
    },
    {
      "cell_type": "code",
      "execution_count": null,
      "metadata": {},
      "outputs": [],
      "source": [
        "Z_DIM = 16\n",
        "TEMP = 0.3\n",
        "ALPHA = [100, 100]\n",
        "LABEL_FLIPPING = False"
      ]
    },
    {
      "cell_type": "code",
      "execution_count": null,
      "metadata": {},
      "outputs": [],
      "source": [
        "vae = VAE(total_z_dim=Z_DIM).to(device)\n",
        "dataloader = DataLoader(train, batch_size=128, shuffle=True)\n",
        "val_dataloader = DataLoader(valid, batch_size=128, shuffle=False)\n",
        "optimizer = torch.optim.Adam(vae.parameters(), lr=1e-3)\n",
        "trainer = CDVAETrainer(\n",
        "    vae,\n",
        "    optimizer,\n",
        "    sim_fn=\"cosine\",\n",
        "    hyperparameter={\"temperature\": TEMP, \"beta\": 1, \"loc\": 5e3, \"scale\": 1e3,\n",
        "                    \"alpha\": ALPHA, \"label_flipping\": LABEL_FLIPPING},\n",
        "    verbose_period=3,\n",
        "    device=device,\n",
        ")"
      ]
    },
    {
      "cell_type": "code",
      "execution_count": null,
      "metadata": {},
      "outputs": [],
      "source": [
        "trainer.fit(40, dataloader, val_dataloader)"
      ]
    },
    {
      "cell_type": "code",
      "execution_count": null,
      "metadata": {},
      "outputs": [],
      "source": [
        "X, label, _ = next(iter(test_loader))\n",
        "X = X.to(device)\n",
        "label = label.to(device)\n",
        "vae.eval()\n",
        "X_hat, latent_params, z = vae(X, explicit=True)"
      ]
    },
    {
      "cell_type": "code",
      "execution_count": null,
      "metadata": {},
      "outputs": [],
      "source": [
        "display_util(9, 16, z, vae, 16)"
      ]
    },
    {
      "cell_type": "code",
      "execution_count": null,
      "metadata": {},
      "outputs": [],
      "source": [
        "display_util(1, 3, z, vae, int(Z_DIM / 2))"
      ]
    },
    {
      "cell_type": "code",
      "execution_count": null,
      "metadata": {},
      "outputs": [],
      "source": [
        "display_util(17, 14, z, vae, int(Z_DIM / 2))"
      ]
    },
    {
      "cell_type": "code",
      "execution_count": null,
      "metadata": {},
      "outputs": [],
      "source": [
        "display_util(14, 6, z, vae, int(Z_DIM / 2))"
      ]
    },
    {
      "cell_type": "code",
      "execution_count": null,
      "metadata": {},
      "outputs": [],
      "source": [
        "display_util(31, 1, z, vae, int(Z_DIM / 2))"
      ]
    },
    {
      "cell_type": "code",
      "execution_count": null,
      "metadata": {},
      "outputs": [],
      "source": [
        "from tqdm import tqdm\n",
        "\n",
        "mu_cs = []\n",
        "mu_ss = []\n",
        "labels = []\n",
        "styles = []\n",
        "with torch.no_grad():\n",
        "    for X, label, style in tqdm(val_dataloader):\n",
        "        X = X.to(device)\n",
        "        label = label.to(device)\n",
        "\n",
        "        _, latent_params = vae(X)\n",
        "        mu_cs.append(latent_params['mu_c'])\n",
        "        mu_ss.append(latent_params['mu_s'])\n",
        "        labels.append(label)\n",
        "        styles.append(style)\n",
        "\n",
        "mu_cs = torch.cat(mu_cs, dim=0)\n",
        "mu_ss = torch.cat(mu_ss, dim=0)\n",
        "labels = torch.cat(labels, dim=0)\n",
        "styles = torch.cat(styles, dim=0)"
      ]
    },
    {
      "cell_type": "code",
      "execution_count": null,
      "metadata": {},
      "outputs": [],
      "source": [
        "from sklearn.manifold import TSNE\n",
        "\n",
        "tsne = TSNE(n_components=2, perplexity=30, learning_rate=200, init='pca')\n",
        "mu_cs_tsne = tsne.fit_transform(mu_cs.cpu().numpy())"
      ]
    },
    {
      "cell_type": "code",
      "execution_count": null,
      "metadata": {},
      "outputs": [],
      "source": [
        "import matplotlib.pyplot as plt\n",
        "\n",
        "plt.scatter(mu_cs_tsne[:, 0], mu_cs_tsne[:, 1], alpha=0.3, \n",
        "            c=labels.cpu().numpy(), cmap='tab10')\n",
        "plt.colorbar(label='Digit Class')"
      ]
    },
    {
      "cell_type": "code",
      "execution_count": null,
      "metadata": {},
      "outputs": [],
      "source": [
        "style_labels = ['identity', 'stripe', 'zigzag', 'canny_edge', 'brightness']\n",
        "\n",
        "cmap = plt.get_cmap('viridis')\n",
        "colors = [cmap(i) for i in np.linspace(0, 1, len(style_labels))]\n",
        "\n",
        "fig, ax = plt.subplots()\n",
        "for g in range(len(style_labels)):\n",
        "    i = np.where(styles == g)[0]\n",
        "    ax.scatter(mu_cs_tsne[i,0], mu_cs_tsne[i,1], alpha=0.2, \n",
        "               c=colors[g], label=style_labels[g])\n",
        "ax.legend()\n",
        "plt.show()"
      ]
    },
    {
      "cell_type": "code",
      "execution_count": null,
      "metadata": {},
      "outputs": [],
      "source": [
        "tsne = TSNE(n_components=2, perplexity=30, learning_rate=200, init='pca')\n",
        "mu_ss_tsne = tsne.fit_transform(mu_ss.cpu().numpy())"
      ]
    },
    {
      "cell_type": "code",
      "execution_count": null,
      "metadata": {},
      "outputs": [],
      "source": [
        "plt.scatter(mu_ss_tsne[:,0], mu_ss_tsne[:,1], alpha=0.3,\n",
        "            c=labels.cpu().numpy(), cmap='tab10')\n",
        "plt.colorbar(label='Digit Class')"
      ]
    },
    {
      "cell_type": "code",
      "execution_count": null,
      "metadata": {},
      "outputs": [],
      "source": [
        "fig, axs = plt.subplots(2, 5, figsize=(12, 5))\n",
        "for i, ax in enumerate(axs.flat):\n",
        "    cond = torch.where(labels == i)[0].cpu().numpy()\n",
        "    ax.scatter(mu_ss_tsne[cond,0], mu_ss_tsne[cond,1], alpha=0.3)"
      ]
    },
    {
      "cell_type": "code",
      "execution_count": null,
      "metadata": {},
      "outputs": [],
      "source": [
        "style_labels = ['identity', 'stripe', 'zigzag', 'canny_edge', 'brightness']\n",
        "\n",
        "cmap = plt.get_cmap('viridis')\n",
        "colors = [cmap(i) for i in np.linspace(0, 1, len(style_labels))]\n",
        "\n",
        "fig, ax = plt.subplots()\n",
        "for g in range(len(style_labels)):\n",
        "    i = np.where(styles == g)[0]\n",
        "    ax.scatter(mu_ss_tsne[i,0], mu_ss_tsne[i,1], alpha=0.3, \n",
        "               c=colors[g], label=style_labels[g])\n",
        "ax.legend()\n",
        "plt.show()"
      ]
    },
    {
      "cell_type": "code",
      "execution_count": null,
      "metadata": {},
      "outputs": [],
      "source": [
        "idxs = list(range(50, 150))\n",
        "\n",
        "plt.scatter(mu_ss_tsne[:1000, 0], mu_ss_tsne[:1000, 1], alpha=0.3)\n",
        "plt.scatter(mu_ss_tsne[idxs, 0], mu_ss_tsne[idxs, 1], c=labels[idxs].cpu().numpy(), cmap=\"tab10\")\n",
        "for i in idxs:\n",
        "    plt.text(mu_ss_tsne[i, 0], mu_ss_tsne[i, 1], f\"idx:{i}\", fontsize=10)\n",
        "plt.colorbar()"
      ]
    },
    {
      "cell_type": "code",
      "execution_count": null,
      "metadata": {},
      "outputs": [],
      "source": [
        "idx = 8\n",
        "display(transforms.ToPILImage()(vae.decode(\n",
        "    torch.cat([mu_cs[idx], mu_ss[idx]]).view(1, -1)\n",
        ")[0]))"
      ]
    },
    {
      "cell_type": "code",
      "execution_count": null,
      "metadata": {},
      "outputs": [],
      "source": [
        "for i in [53, 88, 62, 67, 73, 85, 79, 98, 68]:\n",
        "    display(transforms.ToPILImage()(vae.decode(\n",
        "        torch.cat([mu_cs[idx], mu_ss[i]]).view(1, -1)\n",
        "    )[0]))"
      ]
    }
  ],
  "metadata": {
    "accelerator": "GPU",
    "colab": {
      "gpuType": "V100",
      "provenance": []
    },
    "kernelspec": {
      "display_name": "Python 3",
      "name": "python3"
    },
    "language_info": {
      "codemirror_mode": {
        "name": "ipython",
        "version": 3
      },
      "file_extension": ".py",
      "mimetype": "text/x-python",
      "name": "python",
      "nbconvert_exporter": "python",
      "pygments_lexer": "ipython3",
      "version": "3.10.4"
    }
  },
  "nbformat": 4,
  "nbformat_minor": 0
}
