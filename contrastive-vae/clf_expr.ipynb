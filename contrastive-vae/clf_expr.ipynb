{
 "cells": [
  {
   "cell_type": "code",
   "execution_count": 1,
   "metadata": {},
   "outputs": [],
   "source": [
    "from src.model import VAE\n",
    "from src.trainer import SimCLRTrainer\n",
    "from src.losses import accurary\n",
    "import torch\n",
    "import torchvision\n",
    "import torchvision.transforms as transforms\n",
    "from torch.utils.data import DataLoader, random_split, ConcatDataset\n",
    "\n",
    "\n",
    "from tqdm import tqdm\n",
    "\n",
    "%load_ext autoreload\n",
    "%autoreload 2"
   ]
  },
  {
   "cell_type": "code",
   "execution_count": 2,
   "metadata": {},
   "outputs": [],
   "source": [
    "from corruption_utils import corruptions"
   ]
  },
  {
   "cell_type": "code",
   "execution_count": 3,
   "metadata": {},
   "outputs": [
    {
     "data": {
      "text/plain": [
       "device(type='cuda')"
      ]
     },
     "execution_count": 3,
     "metadata": {},
     "output_type": "execute_result"
    }
   ],
   "source": [
    "device = torch.device(\"cuda\" if torch.cuda.is_available() else \"cpu\")\n",
    "device"
   ]
  },
  {
   "cell_type": "code",
   "execution_count": 4,
   "metadata": {},
   "outputs": [],
   "source": [
    "mnist = torchvision.datasets.MNIST(\"../data\", train=True, download=True)"
   ]
  },
  {
   "cell_type": "code",
   "execution_count": 5,
   "metadata": {},
   "outputs": [],
   "source": [
    "majority = list(filter(lambda elem: elem[1] != 5, mnist)) # not 5\n",
    "minority = list(filter(lambda elem: elem[1] == 5, mnist)) # 5"
   ]
  },
  {
   "cell_type": "code",
   "execution_count": 41,
   "metadata": {},
   "outputs": [
    {
     "data": {
      "text/plain": [
       "<torch._C.Generator at 0x26b7e6148f0>"
      ]
     },
     "execution_count": 41,
     "metadata": {},
     "output_type": "execute_result"
    }
   ],
   "source": [
    "torch.manual_seed(101)"
   ]
  },
  {
   "cell_type": "code",
   "execution_count": 42,
   "metadata": {},
   "outputs": [
    {
     "name": "stderr",
     "output_type": "stream",
     "text": [
      "Generating dataset: 100%|██████████| 54579/54579 [00:08<00:00, 6719.04item/s]\n"
     ]
    }
   ],
   "source": [
    "from src.utils import CMNISTGenerator, CMNIST\n",
    "\n",
    "cmnist_generator = CMNISTGenerator(\n",
    "    majority, # assign rich styles to non-5 digits\n",
    "    {\n",
    "        corruptions.identity: 0.3,\n",
    "        corruptions.stripe: 0.3,\n",
    "        corruptions.zigzag: 0.2,\n",
    "        corruptions.canny_edges: 0.2,\n",
    "    },\n",
    ")\n",
    "cmnist = CMNIST(\n",
    "    cmnist_generator, \n",
    "    transforms.Compose([transforms.ToTensor(), lambda img: img / 255.0])\n",
    ")\n"
   ]
  },
  {
   "cell_type": "code",
   "execution_count": 43,
   "metadata": {},
   "outputs": [],
   "source": [
    "train_5, test_5 = random_split(minority, [2500, len(minority) - 2500])"
   ]
  },
  {
   "cell_type": "code",
   "execution_count": 44,
   "metadata": {},
   "outputs": [
    {
     "name": "stderr",
     "output_type": "stream",
     "text": [
      "Generating dataset: 100%|██████████| 2500/2500 [00:00<00:00, 30601.51item/s]\n"
     ]
    }
   ],
   "source": [
    "train_5_generator = CMNISTGenerator(\n",
    "    train_5,\n",
    "    {\n",
    "        corruptions.identity: 1.0\n",
    "    },\n",
    ")\n",
    "train_5 = CMNIST(\n",
    "    train_5_generator, \n",
    "    transforms.Compose([transforms.ToTensor(), lambda img: img / 255.0])\n",
    ")"
   ]
  },
  {
   "cell_type": "code",
   "execution_count": 45,
   "metadata": {},
   "outputs": [],
   "source": [
    "train = ConcatDataset([cmnist, train_5])\n",
    "# train = train_5\n",
    "train_size = int(0.8 * len(train))\n",
    "train, valid = random_split(train, [train_size, len(train) - train_size])"
   ]
  },
  {
   "cell_type": "code",
   "execution_count": 46,
   "metadata": {},
   "outputs": [
    {
     "name": "stderr",
     "output_type": "stream",
     "text": [
      "Generating dataset: 100%|██████████| 2921/2921 [00:00<00:00, 3779.47item/s]\n"
     ]
    }
   ],
   "source": [
    "test_5_generator = CMNISTGenerator(\n",
    "    test_5,\n",
    "    {\n",
    "        corruptions.stripe: 0.3,\n",
    "        corruptions.zigzag: 0.3,\n",
    "        corruptions.canny_edges: 0.4\n",
    "    },\n",
    ")\n",
    "test_5 = CMNIST(\n",
    "    test_5_generator, \n",
    "    transforms.Compose([transforms.ToTensor(), lambda img: img / 255.0])\n",
    ")"
   ]
  },
  {
   "cell_type": "code",
   "execution_count": 47,
   "metadata": {},
   "outputs": [],
   "source": [
    "train_loader = DataLoader(train, batch_size=128, shuffle=True)\n",
    "valid_loader = DataLoader(valid, batch_size=128, shuffle=False)\n",
    "test_loader = DataLoader(test_5, batch_size=128, shuffle=False)"
   ]
  },
  {
   "cell_type": "markdown",
   "metadata": {},
   "source": [
    "### CNN classifier"
   ]
  },
  {
   "cell_type": "code",
   "execution_count": 48,
   "metadata": {},
   "outputs": [],
   "source": [
    "from src.model import SimpleCNNClassifier\n",
    "from src.trainer import SimpleCNNTrainer\n",
    "\n",
    "cnn = SimpleCNNClassifier(n_class=10).to(device)\n",
    "optimizer = torch.optim.Adam(cnn.parameters(), lr=1e-4)\n",
    "criterion = torch.nn.CrossEntropyLoss()\n",
    "trainer = SimpleCNNTrainer(cnn, optimizer, criterion, 5, device)"
   ]
  },
  {
   "cell_type": "code",
   "execution_count": 49,
   "metadata": {},
   "outputs": [
    {
     "name": "stderr",
     "output_type": "stream",
     "text": [
      "epoch 0: 100%|██████████| 357/357 [00:01<00:00, 210.78batch/s, acc=0.937, loss=0.307]\n",
      "val-epoch 0: 100%|██████████| 90/90 [00:00<00:00, 483.82it/s]\n"
     ]
    },
    {
     "name": "stdout",
     "output_type": "stream",
     "text": [
      "val_acc=0.926\n"
     ]
    },
    {
     "name": "stderr",
     "output_type": "stream",
     "text": [
      "epoch 5: 100%|██████████| 357/357 [00:01<00:00, 229.54batch/s, acc=0.979, loss=0.0663]\n",
      "val-epoch 5: 100%|██████████| 90/90 [00:00<00:00, 482.11it/s]\n"
     ]
    },
    {
     "name": "stdout",
     "output_type": "stream",
     "text": [
      "val_acc=0.978\n"
     ]
    },
    {
     "name": "stderr",
     "output_type": "stream",
     "text": [
      "epoch 10: 100%|██████████| 357/357 [00:01<00:00, 239.67batch/s, acc=0.989, loss=0.0477]\n",
      "val-epoch 10: 100%|██████████| 90/90 [00:00<00:00, 529.46it/s]\n"
     ]
    },
    {
     "name": "stdout",
     "output_type": "stream",
     "text": [
      "val_acc=0.981\n"
     ]
    },
    {
     "name": "stderr",
     "output_type": "stream",
     "text": [
      "epoch 15: 100%|██████████| 357/357 [00:01<00:00, 235.05batch/s, acc=1, loss=0.00894]   \n",
      "val-epoch 15: 100%|██████████| 90/90 [00:00<00:00, 531.29it/s]\n"
     ]
    },
    {
     "name": "stdout",
     "output_type": "stream",
     "text": [
      "val_acc=0.980\n"
     ]
    },
    {
     "name": "stderr",
     "output_type": "stream",
     "text": [
      "epoch 20: 100%|██████████| 357/357 [00:01<00:00, 226.94batch/s, acc=1, loss=0.00328] \n",
      "val-epoch 20: 100%|██████████| 90/90 [00:00<00:00, 504.22it/s]\n"
     ]
    },
    {
     "name": "stdout",
     "output_type": "stream",
     "text": [
      "val_acc=0.982\n"
     ]
    },
    {
     "name": "stderr",
     "output_type": "stream",
     "text": [
      "epoch 25: 100%|██████████| 357/357 [00:01<00:00, 226.99batch/s, acc=1, loss=0.00126]   \n",
      "val-epoch 25: 100%|██████████| 90/90 [00:00<00:00, 498.08it/s]"
     ]
    },
    {
     "name": "stdout",
     "output_type": "stream",
     "text": [
      "val_acc=0.981\n"
     ]
    },
    {
     "name": "stderr",
     "output_type": "stream",
     "text": [
      "\n"
     ]
    }
   ],
   "source": [
    "trainer.fit(26, train_loader, valid_loader)"
   ]
  },
  {
   "cell_type": "code",
   "execution_count": 50,
   "metadata": {},
   "outputs": [
    {
     "name": "stderr",
     "output_type": "stream",
     "text": [
      "val-epoch 0: 100%|██████████| 23/23 [00:00<00:00, 511.08it/s]"
     ]
    },
    {
     "name": "stdout",
     "output_type": "stream",
     "text": [
      "val_acc=0.696\n"
     ]
    },
    {
     "name": "stderr",
     "output_type": "stream",
     "text": [
      "\n"
     ]
    }
   ],
   "source": [
    "trainer._valid(test_loader, True, epoch_id=0)"
   ]
  },
  {
   "cell_type": "markdown",
   "metadata": {},
   "source": [
    "### CD-VAE zero-shot"
   ]
  },
  {
   "cell_type": "code",
   "execution_count": 51,
   "metadata": {},
   "outputs": [],
   "source": [
    "vae = VAE(total_z_dim=32).to(device)\n",
    "optimizer = torch.optim.Adam(vae.parameters(), lr=3e-4)\n",
    "trainer = SimCLRTrainer(\n",
    "    vae,\n",
    "    optimizer,\n",
    "    sim_fn=\"cosine\",\n",
    "    hyperparameter={\"temperature\": 0.1, \"beta\": 1.0, \"alpha\": [50, 50]},\n",
    "    verbose_period=20,\n",
    "    device=device,\n",
    ")"
   ]
  },
  {
   "cell_type": "code",
   "execution_count": 52,
   "metadata": {},
   "outputs": [
    {
     "name": "stderr",
     "output_type": "stream",
     "text": [
      "Epoch 0: 100%|██████████| 357/357 [00:04<00:00, 81.07batch/s, c_loss=0.219, s_loss=-2.72, vae_loss=80.3]\n"
     ]
    }
   ],
   "source": [
    "trainer.fit(41, train_loader)"
   ]
  },
  {
   "cell_type": "code",
   "execution_count": null,
   "metadata": {},
   "outputs": [],
   "source": [
    "vae.eval()\n",
    "for p in vae.parameters():\n",
    "    p.requires_grad = False"
   ]
  },
  {
   "cell_type": "code",
   "execution_count": null,
   "metadata": {},
   "outputs": [],
   "source": [
    "model = torch.nn.Sequential(\n",
    "    torch.nn.Linear(16, 256),\n",
    "    torch.nn.ReLU(),\n",
    "    torch.nn.Linear(256, 10)\n",
    ").to(device)\n",
    "optimizer = torch.optim.Adam(model.parameters(), lr=3e-4)\n",
    "criterion = torch.nn.CrossEntropyLoss()"
   ]
  },
  {
   "cell_type": "code",
   "execution_count": null,
   "metadata": {},
   "outputs": [
    {
     "name": "stderr",
     "output_type": "stream",
     "text": [
      "epoch 0: 100%|██████████| 357/357 [00:01<00:00, 246.67batch/s, acc=0.989, loss=0.16] \n",
      "100%|██████████| 90/90 [00:00<00:00, 448.36it/s]\n"
     ]
    },
    {
     "name": "stdout",
     "output_type": "stream",
     "text": [
      "val_acc=0.978\n"
     ]
    },
    {
     "name": "stderr",
     "output_type": "stream",
     "text": [
      "epoch 5: 100%|██████████| 357/357 [00:01<00:00, 255.41batch/s, acc=1, loss=0.0124]    \n",
      "100%|██████████| 90/90 [00:00<00:00, 435.14it/s]\n"
     ]
    },
    {
     "name": "stdout",
     "output_type": "stream",
     "text": [
      "val_acc=0.981\n"
     ]
    },
    {
     "name": "stderr",
     "output_type": "stream",
     "text": [
      "epoch 10: 100%|██████████| 357/357 [00:01<00:00, 247.48batch/s, acc=1, loss=0.00291]    \n",
      "100%|██████████| 90/90 [00:00<00:00, 366.06it/s]\n"
     ]
    },
    {
     "name": "stdout",
     "output_type": "stream",
     "text": [
      "val_acc=0.981\n"
     ]
    },
    {
     "name": "stderr",
     "output_type": "stream",
     "text": [
      "epoch 15: 100%|██████████| 357/357 [00:01<00:00, 240.38batch/s, acc=1, loss=0.009]      \n",
      "100%|██████████| 90/90 [00:00<00:00, 388.93it/s]\n"
     ]
    },
    {
     "name": "stdout",
     "output_type": "stream",
     "text": [
      "val_acc=0.980\n"
     ]
    },
    {
     "name": "stderr",
     "output_type": "stream",
     "text": [
      "epoch 20: 100%|██████████| 357/357 [00:01<00:00, 250.85batch/s, acc=1, loss=0.00343]    \n",
      "100%|██████████| 90/90 [00:00<00:00, 441.18it/s]\n"
     ]
    },
    {
     "name": "stdout",
     "output_type": "stream",
     "text": [
      "val_acc=0.981\n"
     ]
    },
    {
     "name": "stderr",
     "output_type": "stream",
     "text": [
      "epoch 25: 100%|██████████| 357/357 [00:01<00:00, 255.57batch/s, acc=0.989, loss=0.0364] \n",
      "100%|██████████| 90/90 [00:00<00:00, 414.56it/s]"
     ]
    },
    {
     "name": "stdout",
     "output_type": "stream",
     "text": [
      "val_acc=0.981\n"
     ]
    },
    {
     "name": "stderr",
     "output_type": "stream",
     "text": [
      "\n"
     ]
    }
   ],
   "source": [
    "EPOCHS = 26\n",
    "VERBOSE_PERIOD = 5\n",
    "\n",
    "for epoch in range(EPOCHS):\n",
    "    verbose = (epoch % VERBOSE_PERIOD) == 0\n",
    "    model.train()\n",
    "    with tqdm(train_loader, unit=\"batch\", disable=not verbose) as bar:\n",
    "        bar.set_description(f\"epoch {epoch}\")\n",
    "        for X_batch, y_batch, _ in bar:\n",
    "            X_batch, y_batch = X_batch.to(device), y_batch.to(device)\n",
    "            optimizer.zero_grad()\n",
    "            mu_c, logvar_c = vae.encode(X_batch)[:2]\n",
    "            logits = model(mu_c)\n",
    "            # logits = model(torch.cat([mu_c, logvar_c], dim=1))\n",
    "            loss = criterion(logits, y_batch)\n",
    "            loss.backward()\n",
    "            optimizer.step()\n",
    "\n",
    "            # update running stats\n",
    "            acc = accurary(logits, y_batch)\n",
    "            bar.set_postfix(loss=float(loss), acc=float(acc))\n",
    "    model.eval()\n",
    "    total_acc = 0\n",
    "    with torch.no_grad():\n",
    "        for X_batch, y_batch, _ in tqdm(valid_loader, disable=not verbose):\n",
    "            X_batch, y_batch = X_batch.to(device), y_batch.to(device)\n",
    "            mu_c, logvar_c = vae.encode(X_batch)[:2]\n",
    "            logits = model(mu_c)\n",
    "            # logits = model(torch.cat([mu_c, logvar_c], dim=1))\n",
    "            acc = accurary(logits, y_batch)\n",
    "            total_acc += acc.item()\n",
    "    if verbose:\n",
    "        print(\"val_acc={:.3f}\".format(total_acc / len(valid_loader)))\n",
    "    \n",
    "            \n"
   ]
  },
  {
   "cell_type": "code",
   "execution_count": null,
   "metadata": {},
   "outputs": [
    {
     "name": "stderr",
     "output_type": "stream",
     "text": [
      "100%|██████████| 23/23 [00:00<00:00, 386.20it/s]"
     ]
    },
    {
     "name": "stdout",
     "output_type": "stream",
     "text": [
      "val_acc=0.949\n"
     ]
    },
    {
     "name": "stderr",
     "output_type": "stream",
     "text": [
      "\n"
     ]
    }
   ],
   "source": [
    "model.eval()\n",
    "total_acc = 0\n",
    "with torch.no_grad():\n",
    "    for X_batch, y_batch, _ in tqdm(test_loader, disable=not verbose):\n",
    "        X_batch, y_batch = X_batch.to(device), y_batch.to(device)\n",
    "        mu_c, logvar_c = vae.encode(X_batch)[:2]\n",
    "        logits = model(mu_c)\n",
    "        # logits = model(torch.cat([mu_c, logvar_c], dim=1))\n",
    "        acc = accurary(logits, y_batch)\n",
    "        total_acc += acc.item()\n",
    "if verbose:\n",
    "    print(\"val_acc={:.3f}\".format(total_acc / len(test_loader)))"
   ]
  },
  {
   "cell_type": "code",
   "execution_count": null,
   "metadata": {},
   "outputs": [],
   "source": []
  }
 ],
 "metadata": {
  "kernelspec": {
   "display_name": "research",
   "language": "python",
   "name": "python3"
  },
  "language_info": {
   "codemirror_mode": {
    "name": "ipython",
    "version": 3
   },
   "file_extension": ".py",
   "mimetype": "text/x-python",
   "name": "python",
   "nbconvert_exporter": "python",
   "pygments_lexer": "ipython3",
   "version": "3.10.4"
  }
 },
 "nbformat": 4,
 "nbformat_minor": 2
}
