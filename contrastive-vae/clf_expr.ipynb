{
 "cells": [
  {
   "cell_type": "code",
   "execution_count": 1,
   "metadata": {},
   "outputs": [],
   "source": [
    "from src.model import VAE\n",
    "from src.trainer import SimCLRTrainer\n",
    "import torch\n",
    "import torchvision\n",
    "import torchvision.transforms as transforms\n",
    "\n",
    "\n",
    "from torch.utils.data import DataLoader, random_split, ConcatDataset\n",
    "import matplotlib.pyplot as plt\n",
    "from torchvision.utils import make_grid\n",
    "\n",
    "from tqdm import tqdm\n",
    "\n",
    "%load_ext autoreload\n",
    "%autoreload 2"
   ]
  },
  {
   "cell_type": "code",
   "execution_count": 2,
   "metadata": {},
   "outputs": [],
   "source": [
    "from corruption_utils import corruptions"
   ]
  },
  {
   "cell_type": "code",
   "execution_count": 3,
   "metadata": {},
   "outputs": [
    {
     "data": {
      "text/plain": [
       "device(type='cuda')"
      ]
     },
     "execution_count": 3,
     "metadata": {},
     "output_type": "execute_result"
    }
   ],
   "source": [
    "device = torch.device(\"cuda\" if torch.cuda.is_available() else \"cpu\")\n",
    "device"
   ]
  },
  {
   "cell_type": "code",
   "execution_count": 4,
   "metadata": {},
   "outputs": [],
   "source": [
    "mnist = torchvision.datasets.MNIST(\"../data\", train=True, download=True)"
   ]
  },
  {
   "cell_type": "code",
   "execution_count": 5,
   "metadata": {},
   "outputs": [],
   "source": [
    "majority = list(filter(lambda elem: elem[1] != 5, mnist)) # not 5\n",
    "minority = list(filter(lambda elem: elem[1] == 5, mnist)) # 5"
   ]
  },
  {
   "cell_type": "code",
   "execution_count": 6,
   "metadata": {},
   "outputs": [
    {
     "name": "stderr",
     "output_type": "stream",
     "text": [
      "Generating dataset: 100%|██████████| 54579/54579 [00:08<00:00, 6165.67item/s]\n"
     ]
    }
   ],
   "source": [
    "from src.utils import CMNISTGenerator, CMNIST\n",
    "\n",
    "cmnist_generator = CMNISTGenerator(\n",
    "    majority, # assign rich styles to non-5 digits\n",
    "    {\n",
    "        corruptions.identity: 0.2,\n",
    "        corruptions.stripe: 0.3,\n",
    "        corruptions.zigzag: 0.3,\n",
    "        corruptions.canny_edges: 0.2,\n",
    "    },\n",
    ")\n",
    "cmnist = CMNIST(\n",
    "    cmnist_generator, \n",
    "    transforms.Compose([transforms.ToTensor(), lambda img: img / 255.0])\n",
    ")\n"
   ]
  },
  {
   "cell_type": "code",
   "execution_count": 7,
   "metadata": {},
   "outputs": [],
   "source": [
    "train_5, test_5 = random_split(minority, [2500, len(minority) - 2500])"
   ]
  },
  {
   "cell_type": "code",
   "execution_count": 8,
   "metadata": {},
   "outputs": [
    {
     "name": "stderr",
     "output_type": "stream",
     "text": [
      "Generating dataset: 100%|██████████| 2500/2500 [00:00<00:00, 54334.30item/s]\n"
     ]
    }
   ],
   "source": [
    "train_5_generator = CMNISTGenerator(\n",
    "    train_5,\n",
    "    {\n",
    "        corruptions.identity: 1.0\n",
    "    },\n",
    ")\n",
    "train_5 = CMNIST(\n",
    "    train_5_generator, \n",
    "    transforms.Compose([transforms.ToTensor(), lambda img: img / 255.0])\n",
    ")"
   ]
  },
  {
   "cell_type": "code",
   "execution_count": 9,
   "metadata": {},
   "outputs": [],
   "source": [
    "train = ConcatDataset([cmnist, train_5])"
   ]
  },
  {
   "cell_type": "code",
   "execution_count": 10,
   "metadata": {},
   "outputs": [
    {
     "name": "stderr",
     "output_type": "stream",
     "text": [
      "Generating dataset: 100%|██████████| 2921/2921 [00:00<00:00, 4435.50item/s]\n"
     ]
    }
   ],
   "source": [
    "test_5_generator = CMNISTGenerator(\n",
    "    test_5,\n",
    "    {\n",
    "        corruptions.stripe: 0.3,\n",
    "        corruptions.zigzag: 0.3,\n",
    "        corruptions.canny_edges: 0.4,\n",
    "    },\n",
    ")\n",
    "test_5 = CMNIST(\n",
    "    test_5_generator, \n",
    "    transforms.Compose([transforms.ToTensor(), lambda img: img / 255.0])\n",
    ")"
   ]
  },
  {
   "cell_type": "code",
   "execution_count": 11,
   "metadata": {},
   "outputs": [],
   "source": [
    "train_loader = DataLoader(train, batch_size=128, shuffle=True)\n",
    "test_loader = DataLoader(test_5, batch_size=128, shuffle=False)"
   ]
  },
  {
   "cell_type": "code",
   "execution_count": 12,
   "metadata": {},
   "outputs": [],
   "source": [
    "def accurary(logit: torch.Tensor, y: torch.Tensor):\n",
    "    yh = logit.argmax(dim=1)\n",
    "    return (yh == y).float().mean()"
   ]
  },
  {
   "cell_type": "code",
   "execution_count": 83,
   "metadata": {},
   "outputs": [],
   "source": [
    "from src.model import SimpleCNNClassifier\n",
    "from src.trainer import SimpleCNNTrainer\n",
    "\n",
    "cnn = SimpleCNNClassifier(n_class=10).to(device)\n",
    "optimizer = torch.optim.Adam(cnn.parameters(), lr=3e-4)\n",
    "criterion = torch.nn.CrossEntropyLoss()\n",
    "trainer = SimpleCNNTrainer(cnn, optimizer, criterion, 2, device)"
   ]
  },
  {
   "cell_type": "code",
   "execution_count": 84,
   "metadata": {},
   "outputs": [
    {
     "name": "stderr",
     "output_type": "stream",
     "text": [
      "epoch 0: 100%|██████████| 446/446 [00:02<00:00, 169.75batch/s, acc=0.966, loss=0.103] \n",
      "epoch 2: 100%|██████████| 446/446 [00:02<00:00, 203.51batch/s, acc=0.983, loss=0.0402]\n",
      "epoch 4: 100%|██████████| 446/446 [00:02<00:00, 202.38batch/s, acc=1, loss=0.015]     \n"
     ]
    }
   ],
   "source": [
    "trainer.fit(train_loader, 5)"
   ]
  },
  {
   "cell_type": "code",
   "execution_count": 64,
   "metadata": {},
   "outputs": [
    {
     "name": "stderr",
     "output_type": "stream",
     "text": [
      "100%|██████████| 23/23 [00:00<00:00, 256.82it/s]"
     ]
    },
    {
     "name": "stdout",
     "output_type": "stream",
     "text": [
      "0.6973893642425537\n"
     ]
    },
    {
     "name": "stderr",
     "output_type": "stream",
     "text": [
      "\n"
     ]
    }
   ],
   "source": [
    "with torch.no_grad():\n",
    "    cnn.eval()\n",
    "    total_acc = 0\n",
    "    for X_batch, y_batch in tqdm(test_loader):\n",
    "        X_batch, y_batch = X_batch.to(device), y_batch.to(device)\n",
    "        logits = cnn(X_batch)\n",
    "        acc = accurary(logits, y_batch)\n",
    "        total_acc += acc.item()\n",
    "print(total_acc / len(test_loader))"
   ]
  },
  {
   "cell_type": "code",
   "execution_count": 74,
   "metadata": {},
   "outputs": [],
   "source": [
    "model = torch.nn.Sequential(\n",
    "    torch.nn.Linear(784, 128),\n",
    "    torch.nn.ReLU(),\n",
    "    torch.nn.Linear(128, 10)\n",
    ").to(device)\n",
    "optimizer = torch.optim.Adam(model.parameters(), lr=3e-4)\n",
    "criterion = torch.nn.CrossEntropyLoss()"
   ]
  },
  {
   "cell_type": "code",
   "execution_count": 75,
   "metadata": {},
   "outputs": [
    {
     "name": "stderr",
     "output_type": "stream",
     "text": [
      "epoch 0: 100%|██████████| 446/446 [00:02<00:00, 205.41batch/s, acc=0.916, loss=0.364]\n",
      "epoch 1: 100%|██████████| 446/446 [00:02<00:00, 205.82batch/s, acc=0.908, loss=0.365]\n",
      "epoch 2: 100%|██████████| 446/446 [00:02<00:00, 204.99batch/s, acc=0.916, loss=0.308]\n",
      "epoch 3: 100%|██████████| 446/446 [00:02<00:00, 213.09batch/s, acc=0.857, loss=0.372]\n",
      "epoch 4: 100%|██████████| 446/446 [00:02<00:00, 209.88batch/s, acc=0.899, loss=0.271]\n"
     ]
    }
   ],
   "source": [
    "for epoch in range(5):\n",
    "    with tqdm(train_loader, unit=\"batch\") as bar:\n",
    "        bar.set_description(f\"epoch {epoch}\")\n",
    "        for X_batch, y_batch in bar:\n",
    "            X_batch, y_batch = X_batch.view(-1, 784).to(device), y_batch.to(device)\n",
    "            optimizer.zero_grad()\n",
    "            logits = model(X_batch)\n",
    "            loss = criterion(logits, y_batch)\n",
    "            loss.backward()\n",
    "            optimizer.step()\n",
    "\n",
    "            # update running stats\n",
    "            acc = accurary(logits, y_batch)\n",
    "            bar.set_postfix(loss=float(loss), acc=float(acc))"
   ]
  },
  {
   "cell_type": "code",
   "execution_count": 77,
   "metadata": {},
   "outputs": [
    {
     "name": "stderr",
     "output_type": "stream",
     "text": [
      "100%|██████████| 23/23 [00:00<00:00, 383.25it/s]"
     ]
    },
    {
     "name": "stdout",
     "output_type": "stream",
     "text": [
      "0.28125323549560877\n"
     ]
    },
    {
     "name": "stderr",
     "output_type": "stream",
     "text": [
      "\n"
     ]
    }
   ],
   "source": [
    "with torch.no_grad():\n",
    "    total_acc = 0\n",
    "    for X_batch, y_batch in tqdm(test_loader):\n",
    "        X_batch, y_batch = X_batch.view(-1, 784).to(device), y_batch.to(device)\n",
    "        logits = model(X_batch)\n",
    "        loss = criterion(logits, y_batch)\n",
    "        acc = accurary(logits, y_batch)\n",
    "        total_acc += acc.item()\n",
    "print(total_acc / len(test_loader))"
   ]
  },
  {
   "cell_type": "code",
   "execution_count": 65,
   "metadata": {},
   "outputs": [],
   "source": [
    "vae = VAE(z_dim=16).to(device)\n",
    "optimizer = torch.optim.Adam(vae.parameters(), lr=3e-4)\n",
    "trainer = SimCLRTrainer(\n",
    "    vae,\n",
    "    optimizer,\n",
    "    sim_fn=\"cosine\",\n",
    "    hyperparameter={\"temperature\": 0.1, \"beta\": 100},\n",
    "    verbose_period=5,\n",
    "    device=device,\n",
    ")"
   ]
  },
  {
   "cell_type": "code",
   "execution_count": 66,
   "metadata": {},
   "outputs": [
    {
     "name": "stderr",
     "output_type": "stream",
     "text": [
      "Epoch 0: 100%|██████████| 446/446 [00:05<00:00, 86.29batch/s, c_loss=0.157, vae_loss=75.3]  \n",
      "Epoch 5: 100%|██████████| 446/446 [00:04<00:00, 103.54batch/s, c_loss=0.0217, vae_loss=37.6]\n",
      "Epoch 10: 100%|██████████| 446/446 [00:07<00:00, 58.09batch/s, c_loss=0.0254, vae_loss=25.8]  \n",
      "Epoch 15: 100%|██████████| 446/446 [00:10<00:00, 43.43batch/s, c_loss=0.0131, vae_loss=22.3]  \n",
      "Epoch 20: 100%|██████████| 446/446 [00:04<00:00, 110.90batch/s, c_loss=0.0116, vae_loss=21.7] \n",
      "Epoch 25: 100%|██████████| 446/446 [00:04<00:00, 108.34batch/s, c_loss=0.0113, vae_loss=16.4] \n",
      "Epoch 30: 100%|██████████| 446/446 [00:04<00:00, 105.16batch/s, c_loss=0.0029, vae_loss=17.5] \n"
     ]
    }
   ],
   "source": [
    "trainer.fit(train_loader, 31)"
   ]
  },
  {
   "cell_type": "code",
   "execution_count": 78,
   "metadata": {},
   "outputs": [],
   "source": [
    "model = torch.nn.Sequential(\n",
    "    torch.nn.Linear(16, 128),\n",
    "    torch.nn.ReLU(),\n",
    "    torch.nn.Linear(128, 10)\n",
    ").to(device)\n",
    "optimizer = torch.optim.Adam(model.parameters(), lr=3e-4)\n",
    "criterion = torch.nn.CrossEntropyLoss()"
   ]
  },
  {
   "cell_type": "code",
   "execution_count": 79,
   "metadata": {},
   "outputs": [
    {
     "name": "stderr",
     "output_type": "stream",
     "text": [
      "epoch 0: 100%|██████████| 446/446 [00:02<00:00, 157.03batch/s, acc=1, loss=0.0974]   \n",
      "epoch 1: 100%|██████████| 446/446 [00:02<00:00, 185.65batch/s, acc=1, loss=0.0183]    \n",
      "epoch 2: 100%|██████████| 446/446 [00:02<00:00, 190.69batch/s, acc=1, loss=0.0201]   \n",
      "epoch 3: 100%|██████████| 446/446 [00:02<00:00, 188.44batch/s, acc=1, loss=0.00615]   \n",
      "epoch 4: 100%|██████████| 446/446 [00:02<00:00, 181.65batch/s, acc=1, loss=0.00535]\n"
     ]
    }
   ],
   "source": [
    "vae.eval()\n",
    "for epoch in range(5):\n",
    "    with tqdm(train_loader, unit=\"batch\") as bar:\n",
    "        bar.set_description(f\"epoch {epoch}\")\n",
    "        for X_batch, y_batch in bar:\n",
    "            X_batch, y_batch = X_batch.to(device), y_batch.to(device)\n",
    "            optimizer.zero_grad()\n",
    "            mu_c = vae.encode(X_batch)[0]\n",
    "            logits = model(mu_c)\n",
    "            loss = criterion(logits, y_batch)\n",
    "            loss.backward()\n",
    "            optimizer.step()\n",
    "\n",
    "            # update running stats\n",
    "            acc = accurary(logits, y_batch)\n",
    "            bar.set_postfix(loss=float(loss), acc=float(acc))\n",
    "            \n"
   ]
  },
  {
   "cell_type": "code",
   "execution_count": 82,
   "metadata": {},
   "outputs": [
    {
     "name": "stderr",
     "output_type": "stream",
     "text": [
      "100%|██████████| 23/23 [00:00<00:00, 223.99it/s]"
     ]
    },
    {
     "name": "stdout",
     "output_type": "stream",
     "text": [
      "0.6503234998039578\n"
     ]
    },
    {
     "name": "stderr",
     "output_type": "stream",
     "text": [
      "\n"
     ]
    }
   ],
   "source": [
    "with torch.no_grad():\n",
    "    total_acc = 0\n",
    "    for X_batch, y_batch in tqdm(test_loader):\n",
    "        X_batch, y_batch = X_batch.to(device), y_batch.to(device)\n",
    "        mu_c = vae.encode(X_batch)[0]\n",
    "        logits = model(mu_c)\n",
    "        acc = accurary(logits, y_batch)\n",
    "        total_acc += acc.item()\n",
    "print(total_acc / len(test_loader))"
   ]
  }
 ],
 "metadata": {
  "kernelspec": {
   "display_name": "research",
   "language": "python",
   "name": "python3"
  },
  "language_info": {
   "codemirror_mode": {
    "name": "ipython",
    "version": 3
   },
   "file_extension": ".py",
   "mimetype": "text/x-python",
   "name": "python",
   "nbconvert_exporter": "python",
   "pygments_lexer": "ipython3",
   "version": "3.10.4"
  }
 },
 "nbformat": 4,
 "nbformat_minor": 2
}
