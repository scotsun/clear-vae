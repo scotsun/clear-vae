{
 "cells": [
  {
   "cell_type": "code",
   "execution_count": 1,
   "metadata": {},
   "outputs": [],
   "source": [
    "from src.model import VAE\n",
    "from src.trainer import SimCLRTrainer\n",
    "from src.losses import accurary\n",
    "import torch\n",
    "import torchvision\n",
    "import torchvision.transforms as transforms\n",
    "from torch.utils.data import DataLoader, random_split, ConcatDataset\n",
    "\n",
    "\n",
    "from tqdm import tqdm\n",
    "\n",
    "%load_ext autoreload\n",
    "%autoreload 2"
   ]
  },
  {
   "cell_type": "code",
   "execution_count": 2,
   "metadata": {},
   "outputs": [],
   "source": [
    "from corruption_utils import corruptions"
   ]
  },
  {
   "cell_type": "code",
   "execution_count": 3,
   "metadata": {},
   "outputs": [
    {
     "data": {
      "text/plain": [
       "device(type='cuda')"
      ]
     },
     "execution_count": 3,
     "metadata": {},
     "output_type": "execute_result"
    }
   ],
   "source": [
    "device = torch.device(\"cuda\" if torch.cuda.is_available() else \"cpu\")\n",
    "device"
   ]
  },
  {
   "cell_type": "code",
   "execution_count": 4,
   "metadata": {},
   "outputs": [],
   "source": [
    "mnist = torchvision.datasets.MNIST(\"../data\", train=True, download=True)"
   ]
  },
  {
   "cell_type": "code",
   "execution_count": 5,
   "metadata": {},
   "outputs": [],
   "source": [
    "majority = list(filter(lambda elem: elem[1] != 5, mnist)) # not 5\n",
    "minority = list(filter(lambda elem: elem[1] == 5, mnist)) # 5"
   ]
  },
  {
   "cell_type": "code",
   "execution_count": 6,
   "metadata": {},
   "outputs": [
    {
     "name": "stderr",
     "output_type": "stream",
     "text": [
      "Generating dataset: 100%|██████████| 54579/54579 [00:07<00:00, 7237.91item/s]\n"
     ]
    }
   ],
   "source": [
    "from src.utils import CMNISTGenerator, CMNIST\n",
    "\n",
    "cmnist_generator = CMNISTGenerator(\n",
    "    majority, # assign rich styles to non-5 digits\n",
    "    {\n",
    "        corruptions.identity: 0.3,\n",
    "        corruptions.stripe: 0.3,\n",
    "        corruptions.zigzag: 0.2,\n",
    "        corruptions.canny_edges: 0.2,\n",
    "    },\n",
    ")\n",
    "cmnist = CMNIST(\n",
    "    cmnist_generator, \n",
    "    transforms.Compose([transforms.ToTensor(), lambda img: img / 255.0])\n",
    ")\n"
   ]
  },
  {
   "cell_type": "code",
   "execution_count": 7,
   "metadata": {},
   "outputs": [],
   "source": [
    "train_5, test_5 = random_split(minority, [2500, len(minority) - 2500])"
   ]
  },
  {
   "cell_type": "code",
   "execution_count": 8,
   "metadata": {},
   "outputs": [
    {
     "name": "stderr",
     "output_type": "stream",
     "text": [
      "Generating dataset: 100%|██████████| 2500/2500 [00:00<00:00, 62471.39item/s]\n"
     ]
    }
   ],
   "source": [
    "train_5_generator = CMNISTGenerator(\n",
    "    train_5,\n",
    "    {\n",
    "        corruptions.identity: 1.0\n",
    "    },\n",
    ")\n",
    "train_5 = CMNIST(\n",
    "    train_5_generator, \n",
    "    transforms.Compose([transforms.ToTensor(), lambda img: img / 255.0])\n",
    ")"
   ]
  },
  {
   "cell_type": "code",
   "execution_count": 9,
   "metadata": {},
   "outputs": [],
   "source": [
    "train = ConcatDataset([cmnist, train_5])\n",
    "train, valid = random_split(train, [46000, len(train) - 46000])"
   ]
  },
  {
   "cell_type": "code",
   "execution_count": 10,
   "metadata": {},
   "outputs": [
    {
     "name": "stderr",
     "output_type": "stream",
     "text": [
      "Generating dataset: 100%|██████████| 2921/2921 [00:00<00:00, 4629.46item/s]\n"
     ]
    }
   ],
   "source": [
    "test_5_generator = CMNISTGenerator(\n",
    "    test_5,\n",
    "    {\n",
    "        corruptions.stripe: 0.3,\n",
    "        corruptions.zigzag: 0.3,\n",
    "        corruptions.canny_edges: 0.4,\n",
    "        # corruptions.dotted_line: 0.3,\n",
    "        # corruptions.translate: 0.3,\n",
    "        # corruptions.shear: 0.4\n",
    "    },\n",
    ")\n",
    "test_5 = CMNIST(\n",
    "    test_5_generator, \n",
    "    transforms.Compose([transforms.ToTensor(), lambda img: img / 255.0])\n",
    ")"
   ]
  },
  {
   "cell_type": "code",
   "execution_count": 12,
   "metadata": {},
   "outputs": [],
   "source": [
    "train_loader = DataLoader(train, batch_size=128, shuffle=True)\n",
    "valid_loader = DataLoader(valid, batch_size=128, shuffle=False)\n",
    "test_loader = DataLoader(test_5, batch_size=128, shuffle=False)"
   ]
  },
  {
   "cell_type": "markdown",
   "metadata": {},
   "source": [
    "### CNN classifier"
   ]
  },
  {
   "cell_type": "code",
   "execution_count": 30,
   "metadata": {},
   "outputs": [],
   "source": [
    "from src.model import SimpleCNNClassifier\n",
    "from src.trainer import SimpleCNNTrainer\n",
    "\n",
    "cnn = SimpleCNNClassifier(n_class=10).to(device)\n",
    "optimizer = torch.optim.Adam(cnn.parameters(), lr=1e-4)\n",
    "criterion = torch.nn.CrossEntropyLoss()\n",
    "trainer = SimpleCNNTrainer(cnn, optimizer, criterion, 2, device)"
   ]
  },
  {
   "cell_type": "code",
   "execution_count": 31,
   "metadata": {},
   "outputs": [
    {
     "name": "stderr",
     "output_type": "stream",
     "text": [
      "epoch 0: 100%|██████████| 360/360 [00:02<00:00, 162.56batch/s, acc=0.979, loss=0.242]\n",
      "val-epoch 0: 100%|██████████| 87/87 [00:00<00:00, 396.38it/s]\n"
     ]
    },
    {
     "name": "stdout",
     "output_type": "stream",
     "text": [
      "val_acc=0.920\n"
     ]
    },
    {
     "name": "stderr",
     "output_type": "stream",
     "text": [
      "epoch 2: 100%|██████████| 360/360 [00:01<00:00, 243.48batch/s, acc=1, loss=0.0396]    \n",
      "val-epoch 2: 100%|██████████| 87/87 [00:00<00:00, 530.48it/s]\n"
     ]
    },
    {
     "name": "stdout",
     "output_type": "stream",
     "text": [
      "val_acc=0.964\n"
     ]
    },
    {
     "name": "stderr",
     "output_type": "stream",
     "text": [
      "epoch 4: 100%|██████████| 360/360 [00:01<00:00, 239.81batch/s, acc=0.958, loss=0.142] \n",
      "val-epoch 4: 100%|██████████| 87/87 [00:00<00:00, 508.45it/s]\n"
     ]
    },
    {
     "name": "stdout",
     "output_type": "stream",
     "text": [
      "val_acc=0.973\n"
     ]
    },
    {
     "name": "stderr",
     "output_type": "stream",
     "text": [
      "epoch 6: 100%|██████████| 360/360 [00:01<00:00, 237.47batch/s, acc=1, loss=0.0409]    \n",
      "val-epoch 6: 100%|██████████| 87/87 [00:00<00:00, 514.43it/s]\n"
     ]
    },
    {
     "name": "stdout",
     "output_type": "stream",
     "text": [
      "val_acc=0.976\n"
     ]
    },
    {
     "name": "stderr",
     "output_type": "stream",
     "text": [
      "epoch 8: 100%|██████████| 360/360 [00:01<00:00, 239.88batch/s, acc=1, loss=0.03]      \n",
      "val-epoch 8: 100%|██████████| 87/87 [00:00<00:00, 524.09it/s]\n"
     ]
    },
    {
     "name": "stdout",
     "output_type": "stream",
     "text": [
      "val_acc=0.977\n"
     ]
    },
    {
     "name": "stderr",
     "output_type": "stream",
     "text": [
      "epoch 10: 100%|██████████| 360/360 [00:01<00:00, 238.45batch/s, acc=0.979, loss=0.0292]\n",
      "val-epoch 10: 100%|██████████| 87/87 [00:00<00:00, 521.69it/s]\n"
     ]
    },
    {
     "name": "stdout",
     "output_type": "stream",
     "text": [
      "val_acc=0.980\n"
     ]
    },
    {
     "name": "stderr",
     "output_type": "stream",
     "text": [
      "epoch 12: 100%|██████████| 360/360 [00:01<00:00, 238.31batch/s, acc=0.979, loss=0.0824]\n",
      "val-epoch 12: 100%|██████████| 87/87 [00:00<00:00, 504.30it/s]\n"
     ]
    },
    {
     "name": "stdout",
     "output_type": "stream",
     "text": [
      "val_acc=0.980\n"
     ]
    },
    {
     "name": "stderr",
     "output_type": "stream",
     "text": [
      "epoch 14: 100%|██████████| 360/360 [00:01<00:00, 229.07batch/s, acc=1, loss=0.0204]    \n",
      "val-epoch 14: 100%|██████████| 87/87 [00:00<00:00, 388.40it/s]\n"
     ]
    },
    {
     "name": "stdout",
     "output_type": "stream",
     "text": [
      "val_acc=0.981\n"
     ]
    },
    {
     "name": "stderr",
     "output_type": "stream",
     "text": [
      "epoch 16: 100%|██████████| 360/360 [00:01<00:00, 233.64batch/s, acc=1, loss=0.013]     \n",
      "val-epoch 16: 100%|██████████| 87/87 [00:00<00:00, 511.70it/s]\n"
     ]
    },
    {
     "name": "stdout",
     "output_type": "stream",
     "text": [
      "val_acc=0.980\n"
     ]
    },
    {
     "name": "stderr",
     "output_type": "stream",
     "text": [
      "epoch 18: 100%|██████████| 360/360 [00:01<00:00, 238.13batch/s, acc=1, loss=0.00437]    \n",
      "val-epoch 18: 100%|██████████| 87/87 [00:00<00:00, 545.28it/s]\n"
     ]
    },
    {
     "name": "stdout",
     "output_type": "stream",
     "text": [
      "val_acc=0.981\n"
     ]
    },
    {
     "name": "stderr",
     "output_type": "stream",
     "text": [
      "epoch 20: 100%|██████████| 360/360 [00:01<00:00, 220.53batch/s, acc=1, loss=0.00308]   \n",
      "val-epoch 20: 100%|██████████| 87/87 [00:00<00:00, 527.04it/s]"
     ]
    },
    {
     "name": "stdout",
     "output_type": "stream",
     "text": [
      "val_acc=0.981\n"
     ]
    },
    {
     "name": "stderr",
     "output_type": "stream",
     "text": [
      "\n"
     ]
    }
   ],
   "source": [
    "trainer.fit(21, train_loader, valid_loader)"
   ]
  },
  {
   "cell_type": "code",
   "execution_count": 32,
   "metadata": {},
   "outputs": [
    {
     "name": "stderr",
     "output_type": "stream",
     "text": [
      "val-epoch 0: 100%|██████████| 23/23 [00:00<00:00, 287.46it/s]"
     ]
    },
    {
     "name": "stdout",
     "output_type": "stream",
     "text": [
      "val_acc=0.610\n"
     ]
    },
    {
     "name": "stderr",
     "output_type": "stream",
     "text": [
      "\n"
     ]
    }
   ],
   "source": [
    "trainer._valid(test_loader, True, epoch_id=0)"
   ]
  },
  {
   "cell_type": "markdown",
   "metadata": {},
   "source": [
    "### CD-VAE zero-shot"
   ]
  },
  {
   "cell_type": "code",
   "execution_count": 16,
   "metadata": {},
   "outputs": [],
   "source": [
    "vae = VAE(total_z_dim=32).to(device)\n",
    "optimizer = torch.optim.Adam(vae.parameters(), lr=3e-4)\n",
    "trainer = SimCLRTrainer(\n",
    "    vae,\n",
    "    optimizer,\n",
    "    sim_fn=\"cosine\",\n",
    "    hyperparameter={\"temperature\": 0.1, \"beta\": 100},\n",
    "    verbose_period=5,\n",
    "    device=device,\n",
    ")"
   ]
  },
  {
   "cell_type": "code",
   "execution_count": 17,
   "metadata": {},
   "outputs": [
    {
     "name": "stderr",
     "output_type": "stream",
     "text": [
      "Epoch 0: 100%|██████████| 360/360 [00:04<00:00, 82.54batch/s, c_loss=0.208, vae_loss=88.2]  \n",
      "Epoch 5: 100%|██████████| 360/360 [00:03<00:00, 108.06batch/s, c_loss=0.021, vae_loss=50.2] \n",
      "Epoch 10: 100%|██████████| 360/360 [00:03<00:00, 101.63batch/s, c_loss=0.0191, vae_loss=29.3] \n",
      "Epoch 15: 100%|██████████| 360/360 [00:03<00:00, 110.22batch/s, c_loss=0.0113, vae_loss=24]   \n",
      "Epoch 20: 100%|██████████| 360/360 [00:03<00:00, 110.40batch/s, c_loss=0.0178, vae_loss=22.5] \n",
      "Epoch 25: 100%|██████████| 360/360 [00:03<00:00, 107.47batch/s, c_loss=0.0274, vae_loss=18.8] \n",
      "Epoch 30: 100%|██████████| 360/360 [00:03<00:00, 97.23batch/s, c_loss=0.00734, vae_loss=19.6] \n"
     ]
    }
   ],
   "source": [
    "trainer.fit(31, train_loader)"
   ]
  },
  {
   "cell_type": "code",
   "execution_count": 18,
   "metadata": {},
   "outputs": [],
   "source": [
    "vae.eval()\n",
    "for p in vae.parameters():\n",
    "    p.requires_grad = False"
   ]
  },
  {
   "cell_type": "code",
   "execution_count": 26,
   "metadata": {},
   "outputs": [],
   "source": [
    "model = torch.nn.Sequential(\n",
    "    torch.nn.Linear(16, 256),\n",
    "    torch.nn.ReLU(),\n",
    "    torch.nn.Linear(256, 10)\n",
    ").to(device)\n",
    "optimizer = torch.optim.Adam(model.parameters(), lr=3e-4)\n",
    "criterion = torch.nn.CrossEntropyLoss()"
   ]
  },
  {
   "cell_type": "code",
   "execution_count": 27,
   "metadata": {},
   "outputs": [
    {
     "name": "stderr",
     "output_type": "stream",
     "text": [
      "epoch 0: 100%|██████████| 360/360 [00:02<00:00, 177.23batch/s, acc=1, loss=0.0584]    \n",
      "100%|██████████| 87/87 [00:00<00:00, 303.08it/s]\n"
     ]
    },
    {
     "name": "stdout",
     "output_type": "stream",
     "text": [
      "val_acc=0.987\n"
     ]
    },
    {
     "name": "stderr",
     "output_type": "stream",
     "text": [
      "epoch 2: 100%|██████████| 360/360 [00:01<00:00, 248.89batch/s, acc=1, loss=0.0125]   \n",
      "100%|██████████| 87/87 [00:00<00:00, 327.04it/s]\n"
     ]
    },
    {
     "name": "stdout",
     "output_type": "stream",
     "text": [
      "val_acc=0.987\n"
     ]
    },
    {
     "name": "stderr",
     "output_type": "stream",
     "text": [
      "epoch 4: 100%|██████████| 360/360 [00:01<00:00, 242.04batch/s, acc=1, loss=0.00191]   \n",
      "100%|██████████| 87/87 [00:00<00:00, 332.28it/s]\n"
     ]
    },
    {
     "name": "stdout",
     "output_type": "stream",
     "text": [
      "val_acc=0.988\n"
     ]
    },
    {
     "name": "stderr",
     "output_type": "stream",
     "text": [
      "epoch 6: 100%|██████████| 360/360 [00:01<00:00, 260.59batch/s, acc=1, loss=0.000627]   \n",
      "100%|██████████| 87/87 [00:00<00:00, 343.43it/s]\n"
     ]
    },
    {
     "name": "stdout",
     "output_type": "stream",
     "text": [
      "val_acc=0.988\n"
     ]
    },
    {
     "name": "stderr",
     "output_type": "stream",
     "text": [
      "epoch 8: 100%|██████████| 360/360 [00:01<00:00, 245.42batch/s, acc=1, loss=0.00601]    \n",
      "100%|██████████| 87/87 [00:00<00:00, 335.45it/s]\n"
     ]
    },
    {
     "name": "stdout",
     "output_type": "stream",
     "text": [
      "val_acc=0.988\n"
     ]
    },
    {
     "name": "stderr",
     "output_type": "stream",
     "text": [
      "epoch 10: 100%|██████████| 360/360 [00:01<00:00, 253.98batch/s, acc=1, loss=0.00108]    \n",
      "100%|██████████| 87/87 [00:00<00:00, 321.03it/s]\n"
     ]
    },
    {
     "name": "stdout",
     "output_type": "stream",
     "text": [
      "val_acc=0.987\n"
     ]
    },
    {
     "name": "stderr",
     "output_type": "stream",
     "text": [
      "epoch 12: 100%|██████████| 360/360 [00:01<00:00, 255.73batch/s, acc=1, loss=0.000111]\n",
      "100%|██████████| 87/87 [00:00<00:00, 322.50it/s]\n"
     ]
    },
    {
     "name": "stdout",
     "output_type": "stream",
     "text": [
      "val_acc=0.987\n"
     ]
    },
    {
     "name": "stderr",
     "output_type": "stream",
     "text": [
      "epoch 14: 100%|██████████| 360/360 [00:01<00:00, 258.55batch/s, acc=1, loss=4.23e-5] \n",
      "100%|██████████| 87/87 [00:00<00:00, 337.63it/s]\n"
     ]
    },
    {
     "name": "stdout",
     "output_type": "stream",
     "text": [
      "val_acc=0.987\n"
     ]
    },
    {
     "name": "stderr",
     "output_type": "stream",
     "text": [
      "epoch 16: 100%|██████████| 360/360 [00:01<00:00, 260.03batch/s, acc=1, loss=4.24e-5] \n",
      "100%|██████████| 87/87 [00:00<00:00, 357.70it/s]\n"
     ]
    },
    {
     "name": "stdout",
     "output_type": "stream",
     "text": [
      "val_acc=0.987\n"
     ]
    },
    {
     "name": "stderr",
     "output_type": "stream",
     "text": [
      "epoch 18: 100%|██████████| 360/360 [00:01<00:00, 220.85batch/s, acc=1, loss=1.64e-5] \n",
      "100%|██████████| 87/87 [00:00<00:00, 325.23it/s]\n"
     ]
    },
    {
     "name": "stdout",
     "output_type": "stream",
     "text": [
      "val_acc=0.987\n"
     ]
    },
    {
     "name": "stderr",
     "output_type": "stream",
     "text": [
      "epoch 20: 100%|██████████| 360/360 [00:01<00:00, 252.30batch/s, acc=1, loss=0.000213]\n",
      "100%|██████████| 87/87 [00:00<00:00, 334.04it/s]"
     ]
    },
    {
     "name": "stdout",
     "output_type": "stream",
     "text": [
      "val_acc=0.987\n"
     ]
    },
    {
     "name": "stderr",
     "output_type": "stream",
     "text": [
      "\n"
     ]
    }
   ],
   "source": [
    "EPOCHS = 21\n",
    "VERBOSE_PERIOD = 2\n",
    "\n",
    "for epoch in range(EPOCHS):\n",
    "    verbose = (epoch % VERBOSE_PERIOD) == 0\n",
    "    model.train()\n",
    "    with tqdm(train_loader, unit=\"batch\", disable=not verbose) as bar:\n",
    "        bar.set_description(f\"epoch {epoch}\")\n",
    "        for X_batch, y_batch in bar:\n",
    "            X_batch, y_batch = X_batch.to(device), y_batch.to(device)\n",
    "            optimizer.zero_grad()\n",
    "            mu_c, logvar_c = vae.encode(X_batch)[:2]\n",
    "            logits = model(mu_c)\n",
    "            # logits = model(torch.cat([mu_c, logvar_c], dim=1))\n",
    "            loss = criterion(logits, y_batch)\n",
    "            loss.backward()\n",
    "            optimizer.step()\n",
    "\n",
    "            # update running stats\n",
    "            acc = accurary(logits, y_batch)\n",
    "            bar.set_postfix(loss=float(loss), acc=float(acc))\n",
    "    model.eval()\n",
    "    total_acc = 0\n",
    "    with torch.no_grad():\n",
    "        for X_batch, y_batch in tqdm(valid_loader, disable=not verbose):\n",
    "            X_batch, y_batch = X_batch.to(device), y_batch.to(device)\n",
    "            mu_c, logvar_c = vae.encode(X_batch)[:2]\n",
    "            logits = model(mu_c)\n",
    "            # logits = model(torch.cat([mu_c, logvar_c], dim=1))\n",
    "            acc = accurary(logits, y_batch)\n",
    "            total_acc += acc.item()\n",
    "    if verbose:\n",
    "        print(\"val_acc={:.3f}\".format(total_acc / len(valid_loader)))\n",
    "    \n",
    "            \n"
   ]
  },
  {
   "cell_type": "code",
   "execution_count": 29,
   "metadata": {},
   "outputs": [
    {
     "name": "stderr",
     "output_type": "stream",
     "text": [
      "100%|██████████| 23/23 [00:00<00:00, 255.55it/s]"
     ]
    },
    {
     "name": "stdout",
     "output_type": "stream",
     "text": [
      "val_acc=0.714\n"
     ]
    },
    {
     "name": "stderr",
     "output_type": "stream",
     "text": [
      "\n"
     ]
    }
   ],
   "source": [
    "model.eval()\n",
    "total_acc = 0\n",
    "with torch.no_grad():\n",
    "    for X_batch, y_batch in tqdm(test_loader, disable=not verbose):\n",
    "        X_batch, y_batch = X_batch.to(device), y_batch.to(device)\n",
    "        mu_c, logvar_c = vae.encode(X_batch)[:2]\n",
    "        logits = model(mu_c)\n",
    "        # logits = model(torch.cat([mu_c, logvar_c], dim=1))\n",
    "        acc = accurary(logits, y_batch)\n",
    "        total_acc += acc.item()\n",
    "if verbose:\n",
    "    print(\"val_acc={:.3f}\".format(total_acc / len(test_loader)))"
   ]
  },
  {
   "cell_type": "code",
   "execution_count": null,
   "metadata": {},
   "outputs": [],
   "source": []
  }
 ],
 "metadata": {
  "kernelspec": {
   "display_name": "research",
   "language": "python",
   "name": "python3"
  },
  "language_info": {
   "codemirror_mode": {
    "name": "ipython",
    "version": 3
   },
   "file_extension": ".py",
   "mimetype": "text/x-python",
   "name": "python",
   "nbconvert_exporter": "python",
   "pygments_lexer": "ipython3",
   "version": "3.10.4"
  }
 },
 "nbformat": 4,
 "nbformat_minor": 2
}
