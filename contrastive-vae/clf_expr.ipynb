{
 "cells": [
  {
   "cell_type": "code",
   "execution_count": 21,
   "metadata": {},
   "outputs": [
    {
     "name": "stdout",
     "output_type": "stream",
     "text": [
      "The autoreload extension is already loaded. To reload it, use:\n",
      "  %reload_ext autoreload\n"
     ]
    }
   ],
   "source": [
    "from src.model import VAE\n",
    "from src.trainer import SimCLRTrainer\n",
    "from src.losses import accurary\n",
    "import torch\n",
    "import torchvision\n",
    "import torchvision.transforms as transforms\n",
    "from torch.utils.data import DataLoader, random_split, ConcatDataset\n",
    "\n",
    "\n",
    "from tqdm import tqdm\n",
    "\n",
    "%load_ext autoreload\n",
    "%autoreload 2"
   ]
  },
  {
   "cell_type": "code",
   "execution_count": 22,
   "metadata": {},
   "outputs": [],
   "source": [
    "from corruption_utils import corruptions"
   ]
  },
  {
   "cell_type": "code",
   "execution_count": 23,
   "metadata": {},
   "outputs": [
    {
     "data": {
      "text/plain": [
       "device(type='cuda')"
      ]
     },
     "execution_count": 23,
     "metadata": {},
     "output_type": "execute_result"
    }
   ],
   "source": [
    "device = torch.device(\"cuda\" if torch.cuda.is_available() else \"cpu\")\n",
    "device"
   ]
  },
  {
   "cell_type": "code",
   "execution_count": 24,
   "metadata": {},
   "outputs": [],
   "source": [
    "mnist = torchvision.datasets.MNIST(\"../data\", train=True, download=True)"
   ]
  },
  {
   "cell_type": "code",
   "execution_count": 25,
   "metadata": {},
   "outputs": [],
   "source": [
    "majority = list(filter(lambda elem: elem[1] != 5, mnist)) # not 5\n",
    "minority = list(filter(lambda elem: elem[1] == 5, mnist)) # 5"
   ]
  },
  {
   "cell_type": "code",
   "execution_count": 26,
   "metadata": {},
   "outputs": [
    {
     "name": "stderr",
     "output_type": "stream",
     "text": [
      "Generating dataset: 100%|██████████| 54579/54579 [00:07<00:00, 7023.53item/s]\n"
     ]
    }
   ],
   "source": [
    "from src.utils import CMNISTGenerator, CMNIST\n",
    "\n",
    "cmnist_generator = CMNISTGenerator(\n",
    "    majority, # assign rich styles to non-5 digits\n",
    "    {\n",
    "        corruptions.identity: 0.3,\n",
    "        corruptions.stripe: 0.3,\n",
    "        corruptions.zigzag: 0.2,\n",
    "        corruptions.canny_edges: 0.2,\n",
    "    },\n",
    ")\n",
    "cmnist = CMNIST(\n",
    "    cmnist_generator, \n",
    "    transforms.Compose([transforms.ToTensor(), lambda img: img / 255.0])\n",
    ")\n"
   ]
  },
  {
   "cell_type": "code",
   "execution_count": 27,
   "metadata": {},
   "outputs": [],
   "source": [
    "train_5, test_5 = random_split(minority, [2500, len(minority) - 2500])"
   ]
  },
  {
   "cell_type": "code",
   "execution_count": 28,
   "metadata": {},
   "outputs": [
    {
     "name": "stderr",
     "output_type": "stream",
     "text": [
      "Generating dataset: 100%|██████████| 2500/2500 [00:00<00:00, 57803.99item/s]\n"
     ]
    }
   ],
   "source": [
    "train_5_generator = CMNISTGenerator(\n",
    "    train_5,\n",
    "    {\n",
    "        corruptions.identity: 1.0\n",
    "    },\n",
    ")\n",
    "train_5 = CMNIST(\n",
    "    train_5_generator, \n",
    "    transforms.Compose([transforms.ToTensor(), lambda img: img / 255.0])\n",
    ")"
   ]
  },
  {
   "cell_type": "code",
   "execution_count": 29,
   "metadata": {},
   "outputs": [],
   "source": [
    "train = ConcatDataset([cmnist, train_5])\n",
    "train, valid = random_split(train, [46000, len(train) - 46000])"
   ]
  },
  {
   "cell_type": "code",
   "execution_count": 30,
   "metadata": {},
   "outputs": [
    {
     "name": "stderr",
     "output_type": "stream",
     "text": [
      "Generating dataset: 100%|██████████| 2921/2921 [00:00<00:00, 4640.15item/s]\n"
     ]
    }
   ],
   "source": [
    "test_5_generator = CMNISTGenerator(\n",
    "    test_5,\n",
    "    {\n",
    "        # corruptions.stripe: 0.3,\n",
    "        # corruptions.zigzag: 0.3,\n",
    "        # corruptions.canny_edges: 0.4,\n",
    "        corruptions.dotted_line: 0.5,\n",
    "        corruptions.brightness: 0.5\n",
    "    },\n",
    ")\n",
    "test_5 = CMNIST(\n",
    "    test_5_generator, \n",
    "    transforms.Compose([transforms.ToTensor(), lambda img: img / 255.0])\n",
    ")"
   ]
  },
  {
   "cell_type": "code",
   "execution_count": 31,
   "metadata": {},
   "outputs": [],
   "source": [
    "train_loader = DataLoader(train, batch_size=128, shuffle=True)\n",
    "valid_loader = DataLoader(valid, batch_size=128, shuffle=False)\n",
    "test_loader = DataLoader(test_5, batch_size=128, shuffle=False)"
   ]
  },
  {
   "cell_type": "markdown",
   "metadata": {},
   "source": [
    "### CNN classifier"
   ]
  },
  {
   "cell_type": "code",
   "execution_count": 32,
   "metadata": {},
   "outputs": [],
   "source": [
    "from src.model import SimpleCNNClassifier\n",
    "from src.trainer import SimpleCNNTrainer\n",
    "\n",
    "cnn = SimpleCNNClassifier(n_class=10).to(device)\n",
    "optimizer = torch.optim.Adam(cnn.parameters(), lr=1e-4)\n",
    "criterion = torch.nn.CrossEntropyLoss()\n",
    "trainer = SimpleCNNTrainer(cnn, optimizer, criterion, 5, device)"
   ]
  },
  {
   "cell_type": "code",
   "execution_count": 33,
   "metadata": {},
   "outputs": [
    {
     "name": "stderr",
     "output_type": "stream",
     "text": [
      "epoch 0: 100%|██████████| 360/360 [00:02<00:00, 171.30batch/s, acc=0.854, loss=0.334]\n",
      "val-epoch 0: 100%|██████████| 87/87 [00:00<00:00, 358.13it/s]\n"
     ]
    },
    {
     "name": "stdout",
     "output_type": "stream",
     "text": [
      "val_acc=0.917\n"
     ]
    },
    {
     "name": "stderr",
     "output_type": "stream",
     "text": [
      "epoch 5: 100%|██████████| 360/360 [00:01<00:00, 211.75batch/s, acc=0.958, loss=0.143] \n",
      "val-epoch 5: 100%|██████████| 87/87 [00:00<00:00, 396.75it/s]\n"
     ]
    },
    {
     "name": "stdout",
     "output_type": "stream",
     "text": [
      "val_acc=0.974\n"
     ]
    },
    {
     "name": "stderr",
     "output_type": "stream",
     "text": [
      "epoch 10: 100%|██████████| 360/360 [00:01<00:00, 211.99batch/s, acc=1, loss=0.0183]    \n",
      "val-epoch 10: 100%|██████████| 87/87 [00:00<00:00, 369.37it/s]\n"
     ]
    },
    {
     "name": "stdout",
     "output_type": "stream",
     "text": [
      "val_acc=0.978\n"
     ]
    },
    {
     "name": "stderr",
     "output_type": "stream",
     "text": [
      "epoch 15: 100%|██████████| 360/360 [00:01<00:00, 209.37batch/s, acc=1, loss=0.00773]   \n",
      "val-epoch 15: 100%|██████████| 87/87 [00:00<00:00, 373.61it/s]\n"
     ]
    },
    {
     "name": "stdout",
     "output_type": "stream",
     "text": [
      "val_acc=0.980\n"
     ]
    },
    {
     "name": "stderr",
     "output_type": "stream",
     "text": [
      "epoch 20: 100%|██████████| 360/360 [00:01<00:00, 210.22batch/s, acc=1, loss=0.0061]    \n",
      "val-epoch 20: 100%|██████████| 87/87 [00:00<00:00, 393.30it/s]\n"
     ]
    },
    {
     "name": "stdout",
     "output_type": "stream",
     "text": [
      "val_acc=0.979\n"
     ]
    },
    {
     "name": "stderr",
     "output_type": "stream",
     "text": [
      "epoch 25: 100%|██████████| 360/360 [00:01<00:00, 213.34batch/s, acc=1, loss=0.000469]\n",
      "val-epoch 25: 100%|██████████| 87/87 [00:00<00:00, 392.74it/s]\n"
     ]
    },
    {
     "name": "stdout",
     "output_type": "stream",
     "text": [
      "val_acc=0.980\n"
     ]
    },
    {
     "name": "stderr",
     "output_type": "stream",
     "text": [
      "epoch 30: 100%|██████████| 360/360 [00:01<00:00, 233.21batch/s, acc=1, loss=0.000811]\n",
      "val-epoch 30: 100%|██████████| 87/87 [00:00<00:00, 500.00it/s]"
     ]
    },
    {
     "name": "stdout",
     "output_type": "stream",
     "text": [
      "val_acc=0.980\n"
     ]
    },
    {
     "name": "stderr",
     "output_type": "stream",
     "text": [
      "\n"
     ]
    }
   ],
   "source": [
    "trainer.fit(31, train_loader, valid_loader)"
   ]
  },
  {
   "cell_type": "code",
   "execution_count": 34,
   "metadata": {},
   "outputs": [
    {
     "name": "stderr",
     "output_type": "stream",
     "text": [
      "val-epoch 0: 100%|██████████| 23/23 [00:00<00:00, 522.73it/s]"
     ]
    },
    {
     "name": "stdout",
     "output_type": "stream",
     "text": [
      "val_acc=0.438\n"
     ]
    },
    {
     "name": "stderr",
     "output_type": "stream",
     "text": [
      "\n"
     ]
    }
   ],
   "source": [
    "trainer._valid(test_loader, True, epoch_id=0)"
   ]
  },
  {
   "cell_type": "markdown",
   "metadata": {},
   "source": [
    "### CD-VAE zero-shot"
   ]
  },
  {
   "cell_type": "code",
   "execution_count": 35,
   "metadata": {},
   "outputs": [],
   "source": [
    "vae = VAE(total_z_dim=32).to(device)\n",
    "optimizer = torch.optim.Adam(vae.parameters(), lr=3e-4)\n",
    "trainer = SimCLRTrainer(\n",
    "    vae,\n",
    "    optimizer,\n",
    "    sim_fn=\"cosine\",\n",
    "    hyperparameter={\"temperature\": 0.1, \"beta\": 100},\n",
    "    verbose_period=5,\n",
    "    device=device,\n",
    ")"
   ]
  },
  {
   "cell_type": "code",
   "execution_count": 36,
   "metadata": {},
   "outputs": [
    {
     "name": "stderr",
     "output_type": "stream",
     "text": [
      "Epoch 0: 100%|██████████| 360/360 [00:03<00:00, 103.88batch/s, c_loss=0.106, vae_loss=79]  \n",
      "Epoch 5: 100%|██████████| 360/360 [00:03<00:00, 107.98batch/s, c_loss=0.0413, vae_loss=41.8]\n",
      "Epoch 10: 100%|██████████| 360/360 [00:03<00:00, 105.84batch/s, c_loss=0.063, vae_loss=33]    \n",
      "Epoch 15: 100%|██████████| 360/360 [00:03<00:00, 108.86batch/s, c_loss=0.0126, vae_loss=25.4] \n",
      "Epoch 20: 100%|██████████| 360/360 [00:03<00:00, 104.42batch/s, c_loss=0.0267, vae_loss=21.4] \n",
      "Epoch 25: 100%|██████████| 360/360 [00:03<00:00, 108.92batch/s, c_loss=0.0355, vae_loss=20.1] \n",
      "Epoch 30: 100%|██████████| 360/360 [00:03<00:00, 107.21batch/s, c_loss=0.00682, vae_loss=21.8]\n"
     ]
    }
   ],
   "source": [
    "trainer.fit(31, train_loader)"
   ]
  },
  {
   "cell_type": "code",
   "execution_count": 37,
   "metadata": {},
   "outputs": [],
   "source": [
    "vae.eval()\n",
    "for p in vae.parameters():\n",
    "    p.requires_grad = False"
   ]
  },
  {
   "cell_type": "code",
   "execution_count": 38,
   "metadata": {},
   "outputs": [],
   "source": [
    "model = torch.nn.Sequential(\n",
    "    torch.nn.Linear(16, 256),\n",
    "    torch.nn.ReLU(),\n",
    "    torch.nn.Linear(256, 10)\n",
    ").to(device)\n",
    "optimizer = torch.optim.Adam(model.parameters(), lr=3e-4)\n",
    "criterion = torch.nn.CrossEntropyLoss()"
   ]
  },
  {
   "cell_type": "code",
   "execution_count": 39,
   "metadata": {},
   "outputs": [
    {
     "name": "stderr",
     "output_type": "stream",
     "text": [
      "epoch 0: 100%|██████████| 360/360 [00:01<00:00, 255.85batch/s, acc=1, loss=0.059]    \n",
      "100%|██████████| 87/87 [00:00<00:00, 411.94it/s]\n"
     ]
    },
    {
     "name": "stdout",
     "output_type": "stream",
     "text": [
      "val_acc=0.984\n"
     ]
    },
    {
     "name": "stderr",
     "output_type": "stream",
     "text": [
      "epoch 5: 100%|██████████| 360/360 [00:01<00:00, 250.19batch/s, acc=1, loss=0.00329]   \n",
      "100%|██████████| 87/87 [00:00<00:00, 328.48it/s]\n"
     ]
    },
    {
     "name": "stdout",
     "output_type": "stream",
     "text": [
      "val_acc=0.985\n"
     ]
    },
    {
     "name": "stderr",
     "output_type": "stream",
     "text": [
      "epoch 10: 100%|██████████| 360/360 [00:01<00:00, 247.13batch/s, acc=1, loss=0.00316]   \n",
      "100%|██████████| 87/87 [00:00<00:00, 337.47it/s]\n"
     ]
    },
    {
     "name": "stdout",
     "output_type": "stream",
     "text": [
      "val_acc=0.985\n"
     ]
    },
    {
     "name": "stderr",
     "output_type": "stream",
     "text": [
      "epoch 15: 100%|██████████| 360/360 [00:01<00:00, 257.19batch/s, acc=1, loss=4.5e-5]   \n",
      "100%|██████████| 87/87 [00:00<00:00, 330.83it/s]\n"
     ]
    },
    {
     "name": "stdout",
     "output_type": "stream",
     "text": [
      "val_acc=0.985\n"
     ]
    },
    {
     "name": "stderr",
     "output_type": "stream",
     "text": [
      "epoch 20: 100%|██████████| 360/360 [00:01<00:00, 251.64batch/s, acc=1, loss=5.25e-5]   \n",
      "100%|██████████| 87/87 [00:00<00:00, 339.75it/s]\n"
     ]
    },
    {
     "name": "stdout",
     "output_type": "stream",
     "text": [
      "val_acc=0.985\n"
     ]
    },
    {
     "name": "stderr",
     "output_type": "stream",
     "text": [
      "epoch 25: 100%|██████████| 360/360 [00:01<00:00, 260.61batch/s, acc=1, loss=1.29e-6]    \n",
      "100%|██████████| 87/87 [00:00<00:00, 346.71it/s]\n"
     ]
    },
    {
     "name": "stdout",
     "output_type": "stream",
     "text": [
      "val_acc=0.985\n"
     ]
    },
    {
     "name": "stderr",
     "output_type": "stream",
     "text": [
      "epoch 30: 100%|██████████| 360/360 [00:01<00:00, 238.69batch/s, acc=1, loss=7.77e-7] \n",
      "100%|██████████| 87/87 [00:00<00:00, 328.27it/s]"
     ]
    },
    {
     "name": "stdout",
     "output_type": "stream",
     "text": [
      "val_acc=0.985\n"
     ]
    },
    {
     "name": "stderr",
     "output_type": "stream",
     "text": [
      "\n"
     ]
    }
   ],
   "source": [
    "EPOCHS = 31\n",
    "VERBOSE_PERIOD = 5\n",
    "\n",
    "for epoch in range(EPOCHS):\n",
    "    verbose = (epoch % VERBOSE_PERIOD) == 0\n",
    "    model.train()\n",
    "    with tqdm(train_loader, unit=\"batch\", disable=not verbose) as bar:\n",
    "        bar.set_description(f\"epoch {epoch}\")\n",
    "        for X_batch, y_batch in bar:\n",
    "            X_batch, y_batch = X_batch.to(device), y_batch.to(device)\n",
    "            optimizer.zero_grad()\n",
    "            mu_c, logvar_c = vae.encode(X_batch)[:2]\n",
    "            logits = model(mu_c)\n",
    "            # logits = model(torch.cat([mu_c, logvar_c], dim=1))\n",
    "            loss = criterion(logits, y_batch)\n",
    "            loss.backward()\n",
    "            optimizer.step()\n",
    "\n",
    "            # update running stats\n",
    "            acc = accurary(logits, y_batch)\n",
    "            bar.set_postfix(loss=float(loss), acc=float(acc))\n",
    "    model.eval()\n",
    "    total_acc = 0\n",
    "    with torch.no_grad():\n",
    "        for X_batch, y_batch in tqdm(valid_loader, disable=not verbose):\n",
    "            X_batch, y_batch = X_batch.to(device), y_batch.to(device)\n",
    "            mu_c, logvar_c = vae.encode(X_batch)[:2]\n",
    "            logits = model(mu_c)\n",
    "            # logits = model(torch.cat([mu_c, logvar_c], dim=1))\n",
    "            acc = accurary(logits, y_batch)\n",
    "            total_acc += acc.item()\n",
    "    if verbose:\n",
    "        print(\"val_acc={:.3f}\".format(total_acc / len(valid_loader)))\n",
    "    \n",
    "            \n"
   ]
  },
  {
   "cell_type": "code",
   "execution_count": 40,
   "metadata": {},
   "outputs": [
    {
     "name": "stderr",
     "output_type": "stream",
     "text": [
      "100%|██████████| 23/23 [00:00<00:00, 306.55it/s]"
     ]
    },
    {
     "name": "stdout",
     "output_type": "stream",
     "text": [
      "val_acc=0.480\n"
     ]
    },
    {
     "name": "stderr",
     "output_type": "stream",
     "text": [
      "\n"
     ]
    }
   ],
   "source": [
    "model.eval()\n",
    "total_acc = 0\n",
    "with torch.no_grad():\n",
    "    for X_batch, y_batch in tqdm(test_loader, disable=not verbose):\n",
    "        X_batch, y_batch = X_batch.to(device), y_batch.to(device)\n",
    "        mu_c, logvar_c = vae.encode(X_batch)[:2]\n",
    "        logits = model(mu_c)\n",
    "        # logits = model(torch.cat([mu_c, logvar_c], dim=1))\n",
    "        acc = accurary(logits, y_batch)\n",
    "        total_acc += acc.item()\n",
    "if verbose:\n",
    "    print(\"val_acc={:.3f}\".format(total_acc / len(test_loader)))"
   ]
  },
  {
   "cell_type": "code",
   "execution_count": null,
   "metadata": {},
   "outputs": [],
   "source": []
  }
 ],
 "metadata": {
  "kernelspec": {
   "display_name": "research",
   "language": "python",
   "name": "python3"
  },
  "language_info": {
   "codemirror_mode": {
    "name": "ipython",
    "version": 3
   },
   "file_extension": ".py",
   "mimetype": "text/x-python",
   "name": "python",
   "nbconvert_exporter": "python",
   "pygments_lexer": "ipython3",
   "version": "3.10.4"
  }
 },
 "nbformat": 4,
 "nbformat_minor": 2
}
