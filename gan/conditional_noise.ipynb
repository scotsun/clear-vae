{
 "cells": [
  {
   "cell_type": "code",
   "execution_count": 1,
   "metadata": {},
   "outputs": [],
   "source": [
    "import torch\n",
    "import torch.nn as nn\n",
    "from torchinfo import summary\n",
    "from tqdm import tqdm"
   ]
  },
  {
   "cell_type": "code",
   "execution_count": 2,
   "metadata": {},
   "outputs": [],
   "source": [
    "from src.loss import snn_loss"
   ]
  },
  {
   "cell_type": "code",
   "execution_count": 3,
   "metadata": {},
   "outputs": [
    {
     "data": {
      "text/plain": [
       "device(type='cuda')"
      ]
     },
     "execution_count": 3,
     "metadata": {},
     "output_type": "execute_result"
    }
   ],
   "source": [
    "device = torch.device(\"cuda\" if torch.cuda.is_available() else \"cpu\")\n",
    "device"
   ]
  },
  {
   "cell_type": "code",
   "execution_count": 16,
   "metadata": {},
   "outputs": [
    {
     "name": "stderr",
     "output_type": "stream",
     "text": [
      "100%|██████████| 100/100 [00:00<00:00, 117.96it/s, loss1=0.539, loss2=0.107]\n",
      "100%|██████████| 100/100 [00:00<00:00, 136.30it/s, loss1=0.121, loss2=0.11] \n",
      "100%|██████████| 100/100 [00:00<00:00, 142.36it/s, loss1=0.088, loss2=0.111] \n",
      "100%|██████████| 100/100 [00:00<00:00, 140.91it/s, loss1=0.0649, loss2=0.11] \n",
      "100%|██████████| 100/100 [00:00<00:00, 153.27it/s, loss1=0.0585, loss2=0.108]\n",
      "100%|██████████| 100/100 [00:00<00:00, 147.81it/s, loss1=0.0529, loss2=0.106]\n",
      "100%|██████████| 100/100 [00:00<00:00, 149.62it/s, loss1=0.0489, loss2=0.107]\n",
      "100%|██████████| 100/100 [00:00<00:00, 152.89it/s, loss1=0.0467, loss2=0.102]\n",
      "100%|██████████| 100/100 [00:00<00:00, 146.49it/s, loss1=0.0448, loss2=0.101]\n",
      "100%|██████████| 100/100 [00:00<00:00, 151.91it/s, loss1=0.0445, loss2=0.107]\n"
     ]
    }
   ],
   "source": [
    "encoder1 = nn.Sequential(\n",
    "    nn.Linear(110, 256),\n",
    "    nn.ReLU(),\n",
    "    nn.Linear(256, 50)\n",
    ").to(device)\n",
    "encoder2 = nn.Sequential(\n",
    "    nn.Linear(110, 256),\n",
    "    nn.ReLU(),\n",
    "    nn.Linear(256, 50)\n",
    ").to(device)\n",
    "params = list(encoder1.parameters()) + list(encoder2.parameters())\n",
    "optimizer = torch.optim.Adam(params, lr=1e-3)\n",
    "losses1, losses2 = [], []\n",
    "for _ in range(10):\n",
    "    with tqdm(range(100)) as bar:\n",
    "        for _ in bar:\n",
    "            z = torch.randn(128, 100).to(device)\n",
    "            label = torch.randint(0, 10, (128,)).to(device)\n",
    "            label_onehot = nn.functional.one_hot(label, 10).to(device)\n",
    "            z_c = encoder1(torch.cat([z, label_onehot], dim=-1))\n",
    "            z_s = encoder2(torch.cat([z, label_onehot], dim=-1))\n",
    "            loss1 = snn_loss(z_c, label, 0.2)\n",
    "            loss2 = snn_loss(z_s, label, 0.2, True)\n",
    "            (loss1 + loss2).backward()\n",
    "            optimizer.step()\n",
    "            optimizer.zero_grad()\n",
    "            bar.set_postfix(loss1=loss1.item(), loss2=loss2.item())\n",
    "            losses1.append(loss1.item())\n",
    "            losses2.append(loss2.item())\n"
   ]
  },
  {
   "cell_type": "code",
   "execution_count": 19,
   "metadata": {},
   "outputs": [
    {
     "data": {
      "text/plain": [
       "[<matplotlib.lines.Line2D at 0x24a49b1e1a0>]"
      ]
     },
     "execution_count": 19,
     "metadata": {},
     "output_type": "execute_result"
    },
    {
     "data": {
      "image/png": "[encoded data removed]",
      "text/plain": [
       "<Figure size 640x480 with 1 Axes>"
      ]
     },
     "metadata": {},
     "output_type": "display_data"
    }
   ],
   "source": [
    "import matplotlib.pyplot as plt\n",
    "plt.plot(losses1)\n",
    "plt.plot(losses2)"
   ]
  },
  {
   "cell_type": "code",
   "execution_count": 11,
   "metadata": {},
   "outputs": [],
   "source": [
    "encoder1.eval()\n",
    "z_cs = []\n",
    "labels = []\n",
    "with torch.no_grad():\n",
    "    for i in range(10):\n",
    "        z = torch.randn(128, 100).to(device)\n",
    "        label = torch.randint(0, 10, (128,)).to(device)\n",
    "        label_onehot = nn.functional.one_hot(label, 10).to(device)\n",
    "        z_c = encoder1(torch.cat([z, label_onehot], dim=-1))\n",
    "\n",
    "        z_cs.append(z_c)\n",
    "        labels.append(label)\n",
    "z_cs = torch.cat(z_cs, dim=0)\n",
    "labels = torch.cat(labels, dim=0)"
   ]
  },
  {
   "cell_type": "code",
   "execution_count": 12,
   "metadata": {},
   "outputs": [],
   "source": [
    "from sklearn.manifold import TSNE\n",
    "\n",
    "tsne = TSNE(n_components=2, perplexity=30, learning_rate=200, init='pca')\n",
    "z_cs_tsne = tsne.fit_transform(z_cs.cpu().numpy())"
   ]
  },
  {
   "cell_type": "code",
   "execution_count": null,
   "metadata": {},
   "outputs": [],
   "source": [
    "import matplotlib.pyplot as plt\n",
    "\n",
    "plt.scatter(z_cs_tsne[:, 0], z_cs_tsne[:, 1], alpha=0.3, \n",
    "            c=labels.cpu().numpy(), cmap='tab10')\n",
    "plt.colorbar(label='')"
   ]
  }
 ],
 "metadata": {
  "kernelspec": {
   "display_name": "research",
   "language": "python",
   "name": "python3"
  },
  "language_info": {
   "codemirror_mode": {
    "name": "ipython",
    "version": 3
   },
   "file_extension": ".py",
   "mimetype": "text/x-python",
   "name": "python",
   "nbconvert_exporter": "python",
   "pygments_lexer": "ipython3",
   "version": "3.10.4"
  }
 },
 "nbformat": 4,
 "nbformat_minor": 2
}
