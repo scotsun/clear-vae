{
 "cells": [
  {
   "cell_type": "code",
   "execution_count": 14,
   "metadata": {},
   "outputs": [
    {
     "name": "stdout",
     "output_type": "stream",
     "text": [
      "The autoreload extension is already loaded. To reload it, use:\n",
      "  %reload_ext autoreload\n"
     ]
    }
   ],
   "source": [
    "import torch\n",
    "import torch.nn as nn\n",
    "\n",
    "from tqdm import tqdm\n",
    "from torchtext.vocab import build_vocab_from_iterator\n",
    "from torch.utils.data import DataLoader, random_split\n",
    "from utils import tokenizer, Collator\n",
    "from data import AGNewsDataset\n",
    "%load_ext autoreload\n",
    "%autoreload 2\n"
   ]
  },
  {
   "cell_type": "code",
   "execution_count": 2,
   "metadata": {},
   "outputs": [
    {
     "data": {
      "text/plain": [
       "'cuda'"
      ]
     },
     "execution_count": 2,
     "metadata": {},
     "output_type": "execute_result"
    }
   ],
   "source": [
    "device = \"cuda\" if torch.cuda.is_available() else \"cpu\"\n",
    "device"
   ]
  },
  {
   "cell_type": "code",
   "execution_count": 3,
   "metadata": {},
   "outputs": [],
   "source": [
    "agnews = AGNewsDataset(text=\"Description\")"
   ]
  },
  {
   "cell_type": "code",
   "execution_count": 4,
   "metadata": {},
   "outputs": [
    {
     "data": {
      "text/plain": [
       "120000"
      ]
     },
     "execution_count": 4,
     "metadata": {},
     "output_type": "execute_result"
    }
   ],
   "source": [
    "len(agnews)"
   ]
  },
  {
   "cell_type": "code",
   "execution_count": 5,
   "metadata": {},
   "outputs": [],
   "source": [
    "agnews_train, agnews_valid = random_split(agnews, lengths=[30000, 90000])"
   ]
  },
  {
   "cell_type": "code",
   "execution_count": 6,
   "metadata": {},
   "outputs": [
    {
     "data": {
      "text/plain": [
       "(1,\n",
       " 'Ever since the start of the second Chechen war, the Russian leadership, and President Vladimir Putin in particular, have been terribly fond of saying that we are waging war against international terrorism in Chechnya.')"
      ]
     },
     "execution_count": 6,
     "metadata": {},
     "output_type": "execute_result"
    }
   ],
   "source": [
    "agnews_train[0]"
   ]
  },
  {
   "cell_type": "code",
   "execution_count": 7,
   "metadata": {},
   "outputs": [],
   "source": [
    "import re\n",
    "\n",
    "def clean_text(text: str):\n",
    "    text = text.lower().strip()\n",
    "    text = re.sub(r\"([.!?])\", r\" \\1\", text)\n",
    "    text = re.sub(r\"[^a-zA-Z!?]+\", r\" \", text)\n",
    "    return text\n",
    "\n",
    "def yield_tokens(dataset, tokenizer=tokenizer):\n",
    "    for row in tqdm(dataset):\n",
    "        yield tokenizer(clean_text(row[-1]))"
   ]
  },
  {
   "cell_type": "code",
   "execution_count": 8,
   "metadata": {},
   "outputs": [
    {
     "name": "stderr",
     "output_type": "stream",
     "text": [
      "100%|██████████| 30000/30000 [00:04<00:00, 7260.98it/s]\n"
     ]
    }
   ],
   "source": [
    "PAD_IDX, UNK_IDX, BOS_IDX, EOS_IDX = 0, 1, 2, 3\n",
    "special_symbols = [\"<pad>\", \"<unk>\", \"<bos>\", \"<eos>\"]\n",
    "vocab = build_vocab_from_iterator(\n",
    "    yield_tokens(agnews_train), min_freq=1, specials=special_symbols, special_first=True)\n",
    "vocab.set_default_index(UNK_IDX)"
   ]
  },
  {
   "cell_type": "code",
   "execution_count": 9,
   "metadata": {},
   "outputs": [
    {
     "data": {
      "text/plain": [
       "[383, 19, 24, 5249]"
      ]
     },
     "execution_count": 9,
     "metadata": {},
     "output_type": "execute_result"
    }
   ],
   "source": [
    "vocab(['here', 'is', 'an', 'example'])"
   ]
  },
  {
   "cell_type": "code",
   "execution_count": 10,
   "metadata": {},
   "outputs": [
    {
     "data": {
      "text/plain": [
       "34639"
      ]
     },
     "execution_count": 10,
     "metadata": {},
     "output_type": "execute_result"
    }
   ],
   "source": [
    "len(vocab)"
   ]
  },
  {
   "cell_type": "code",
   "execution_count": 11,
   "metadata": {},
   "outputs": [
    {
     "name": "stdout",
     "output_type": "stream",
     "text": [
      "raw text: the blue chip hang seng index slipped points or percent to on monday the index had gained points or percent \n",
      "tokenize text: ['the', 'blue', 'chip', 'hang', 'seng', 'index', 'slipped', 'points', 'or', 'percent', 'to', 'on', 'monday', 'the', 'index', 'had', 'gained', 'points', 'or', 'percent']\n",
      "token to idx: [4, 861, 592, 5744, 11768, 1930, 1966, 295, 102, 94, 6, 11, 47, 4, 1930, 75, 2398, 295, 102, 94]\n"
     ]
    }
   ],
   "source": [
    "text_1 = clean_text(agnews_train[101][-1])\n",
    "print(\"raw text:\", text_1)\n",
    "print(\"tokenize text:\", tokenizer(text_1))\n",
    "print(\"token to idx:\", vocab(tokenizer(text_1)))"
   ]
  },
  {
   "cell_type": "code",
   "execution_count": 12,
   "metadata": {},
   "outputs": [],
   "source": [
    "collate = Collator(vocab=vocab)"
   ]
  },
  {
   "cell_type": "code",
   "execution_count": 13,
   "metadata": {},
   "outputs": [],
   "source": [
    "train_loader = DataLoader(agnews_train, batch_size=32, shuffle=True, collate_fn=collate)\n",
    "valid_loader = DataLoader(agnews_train, batch_size=64, shuffle=False, collate_fn=collate)"
   ]
  },
  {
   "cell_type": "code",
   "execution_count": 16,
   "metadata": {},
   "outputs": [],
   "source": [
    "from model import EncoderRNN\n",
    "\n",
    "encoder = EncoderRNN(\n",
    "    embedding=nn.Embedding(len(vocab), 256, padding_idx=0),\n",
    "    embedding_size=256,\n",
    "    hidden_size=128,\n",
    "    device=device,\n",
    "    num_layers=2\n",
    ")\n",
    "_, encoder_inputs = next(iter(train_loader))"
   ]
  },
  {
   "cell_type": "code",
   "execution_count": 17,
   "metadata": {},
   "outputs": [
    {
     "data": {
      "text/plain": [
       "torch.Size([2, 32, 128])"
      ]
     },
     "execution_count": 17,
     "metadata": {},
     "output_type": "execute_result"
    }
   ],
   "source": [
    "encoder(encoder_inputs)[1].shape"
   ]
  },
  {
   "cell_type": "code",
   "execution_count": null,
   "metadata": {},
   "outputs": [],
   "source": []
  }
 ],
 "metadata": {
  "kernelspec": {
   "display_name": "research",
   "language": "python",
   "name": "python3"
  },
  "language_info": {
   "codemirror_mode": {
    "name": "ipython",
    "version": 3
   },
   "file_extension": ".py",
   "mimetype": "text/x-python",
   "name": "python",
   "nbconvert_exporter": "python",
   "pygments_lexer": "ipython3",
   "version": "3.10.4"
  }
 },
 "nbformat": 4,
 "nbformat_minor": 2
}
