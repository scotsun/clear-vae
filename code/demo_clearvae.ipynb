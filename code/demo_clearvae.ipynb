{
  "cells": [
    {
      "cell_type": "code",
      "execution_count": 1,
      "metadata": {
        "id": "lWnGaRTQYhxX"
      },
      "outputs": [],
      "source": [
        "from src.models.vae import VAE\n",
        "from src.trainer import CLEARVAETrainer\n",
        "from src.utils.display_utils import interpolate_latent\n",
        "import torch\n",
        "import torchvision\n",
        "import torchvision.transforms as transforms\n",
        "import numpy as np\n",
        "\n",
        "from torch.utils.data import DataLoader, random_split\n",
        "import matplotlib.pyplot as plt\n",
        "from torchvision.utils import make_grid\n",
        "\n",
        "from corruption_utils import corruptions\n",
        "from expr.expr_utils import generate_style_dict, KStyledMNISTGenerator, KStyledMNIST\n",
        "\n",
        "%load_ext autoreload\n",
        "%autoreload 2"
      ]
    },
    {
      "cell_type": "code",
      "execution_count": 2,
      "metadata": {
        "colab": {
          "base_uri": "https://localhost:8080/"
        },
        "id": "GTp1UaySZmSW",
        "outputId": "590f3157-f309-4467-9c85-38192da9571b"
      },
      "outputs": [
        {
          "data": {
            "text/plain": [
              "device(type='cuda')"
            ]
          },
          "execution_count": 2,
          "metadata": {},
          "output_type": "execute_result"
        }
      ],
      "source": [
        "device = torch.device(\"cuda\" if torch.cuda.is_available() else \"cpu\")\n",
        "device"
      ]
    },
    {
      "cell_type": "code",
      "execution_count": 3,
      "metadata": {
        "id": "NzgAgndYYpWu"
      },
      "outputs": [],
      "source": [
        "%%capture\n",
        "mnist = torchvision.datasets.MNIST(\"../data\", train=True, download=True)\n",
        "# mnist = torchvision.datasets.FashionMNIST(\"../data\", train=True, download=True)"
      ]
    },
    {
      "cell_type": "code",
      "execution_count": 4,
      "metadata": {},
      "outputs": [],
      "source": [
        "from src.utils.data_utils import StyledMNISTGenerator, StyledMNIST"
      ]
    },
    {
      "cell_type": "code",
      "execution_count": 5,
      "metadata": {},
      "outputs": [],
      "source": [
        "def display_util(idx1, idx2, z: torch.Tensor, model: VAE, z_dim):\n",
        "    with torch.no_grad():\n",
        "        z1, z2 = z[idx1], z[idx2]\n",
        "        display(transforms.ToPILImage()(model.decode(z1.view(1, -1))[0]))\n",
        "        display(transforms.ToPILImage()(model.decode(z2.view(1, -1))[0]))\n",
        "        z_inter = interpolate_latent(latent1=z1[z_dim:], latent2=z2[z_dim:], num_steps=11)\n",
        "        z_combined = torch.cat([z1[:z_dim][None, :].repeat(11, 1), z_inter], dim=1)\n",
        "        x_inter = model.decode(z_combined)\n",
        "        print(\"interpolate style:\")\n",
        "        plt.imshow(make_grid(x_inter, nrow=11).permute(1, 2, 0).cpu())\n",
        "        plt.axis('off')\n",
        "        plt.show()\n",
        "\n",
        "        z_inter = interpolate_latent(latent1=z1[:z_dim], latent2=z2[:z_dim], num_steps=11)\n",
        "        z_combined = torch.cat([z_inter, z1[z_dim:][None, :].repeat(11, 1)], dim=1)\n",
        "        x_inter = model.decode(z_combined)\n",
        "        print(\"interpolate content:\")\n",
        "        plt.imshow(make_grid(x_inter, nrow=11).permute(1, 2, 0).cpu())\n",
        "        plt.axis('off')\n",
        "        plt.show()\n"
      ]
    },
    {
      "cell_type": "markdown",
      "metadata": {},
      "source": [
        "### in distribution"
      ]
    },
    {
      "cell_type": "code",
      "execution_count": 6,
      "metadata": {},
      "outputs": [
        {
          "data": {
            "text/plain": [
              "<torch._C.Generator at 0x1a87fe3ea10>"
            ]
          },
          "execution_count": 6,
          "metadata": {},
          "output_type": "execute_result"
        }
      ],
      "source": [
        "np.random.seed(101)\n",
        "torch.manual_seed(101)"
      ]
    },
    {
      "cell_type": "code",
      "execution_count": 7,
      "metadata": {},
      "outputs": [],
      "source": [
        "generator = StyledMNISTGenerator(\n",
        "    mnist,\n",
        "    {\n",
        "        corruptions.identity: 0.1,\n",
        "        corruptions.stripe: 0.15,\n",
        "        corruptions.zigzag: 0.25,\n",
        "        corruptions.canny_edges: 0.15,\n",
        "        lambda x: corruptions.scale(x, 5): 0.15,\n",
        "        corruptions.brightness: 0.2\n",
        "    },\n",
        ")\n"
      ]
    },
    {
      "cell_type": "code",
      "execution_count": 8,
      "metadata": {
        "colab": {
          "base_uri": "https://localhost:8080/"
        },
        "id": "4Xl-lmReQPop",
        "outputId": "f5838243-225b-4e69-de60-e70bf55453c5"
      },
      "outputs": [
        {
          "name": "stderr",
          "output_type": "stream",
          "text": [
            "Generating dataset: 100%|██████████| 60000/60000 [00:15<00:00, 3850.71item/s]\n"
          ]
        }
      ],
      "source": [
        "dataset = StyledMNIST(\n",
        "    generator, transforms.Compose([transforms.ToTensor(), lambda img: img / 255.0])\n",
        ")\n",
        "\n",
        "train, test, valid = random_split(dataset, [40000, 10000, 10000])\n"
      ]
    },
    {
      "cell_type": "markdown",
      "metadata": {},
      "source": [
        "### out-of-distribution"
      ]
    },
    {
      "cell_type": "code",
      "execution_count": 5,
      "metadata": {},
      "outputs": [],
      "source": [
        "style_fns = [\n",
        "    corruptions.identity,\n",
        "    corruptions.stripe,\n",
        "    corruptions.zigzag,\n",
        "    corruptions.canny_edges,\n",
        "    lambda x: corruptions.scale(x, 5),\n",
        "    corruptions.brightness,\n",
        "]\n",
        "K = 3"
      ]
    },
    {
      "cell_type": "code",
      "execution_count": null,
      "metadata": {},
      "outputs": [],
      "source": [
        "np.random.seed(101)\n",
        "torch.manual_seed(101)\n",
        "mnist = torchvision.datasets.MNIST(\"../data\", train=True)\n",
        "mnist_train, mnist_test = random_split(mnist, [50000, 10000])\n",
        "style_dict = generate_style_dict(\n",
        "    classes=list(range(10)), styles=list(range(len(style_fns))), k=K\n",
        ")\n",
        "mnist_generator = KStyledMNISTGenerator(mnist_train, style_fns, style_dict, \"train\")\n",
        "train = KStyledMNIST(\n",
        "    mnist_generator,\n",
        "    transforms.Compose([transforms.ToTensor(), lambda img: img / 255.0]),\n",
        ")\n",
        "mnist_generator = KStyledMNISTGenerator(mnist_test, style_fns, style_dict, \"test\")\n",
        "test = KStyledMNIST(\n",
        "    mnist_generator,\n",
        "    transforms.Compose([transforms.ToTensor(), lambda img: img / 255.0]),\n",
        ")\n",
        "train, valid = random_split(train, [0.85, 0.15])"
      ]
    },
    {
      "cell_type": "code",
      "execution_count": null,
      "metadata": {},
      "outputs": [],
      "source": [
        "style_dict"
      ]
    },
    {
      "cell_type": "markdown",
      "metadata": {},
      "source": [
        "### Experiment"
      ]
    },
    {
      "cell_type": "code",
      "execution_count": 9,
      "metadata": {},
      "outputs": [
        {
          "data": {
            "image/png": "[encoded data removed]",
            "text/plain": [
              "<Figure size 640x480 with 1 Axes>"
            ]
          },
          "metadata": {},
          "output_type": "display_data"
        }
      ],
      "source": [
        "test_loader = DataLoader(test, batch_size=32, shuffle=False)\n",
        "\n",
        "X, label, style = next(iter(test_loader))\n",
        "X = X.to(device)\n",
        "label = label.to(device)\n",
        "\n",
        "plt.imshow(\n",
        "    make_grid(X.cpu(), nrow=16).permute(1, 2, 0)\n",
        ")\n",
        "plt.axis('off')\n",
        "plt.show()\n"
      ]
    },
    {
      "cell_type": "markdown",
      "metadata": {},
      "source": [
        "Hamaguchi, et al. (2019) state that the distance/similarity metric between two Gaussians is recommended to take both the $\\mu$ and the $\\Sigma$ into account. However, these unexpectedly lead to blurring in reconstruction and in turn result in lower gMIG. Therefore, we use `cosine` and `l2` in the constrastive loss."
      ]
    },
    {
      "cell_type": "markdown",
      "metadata": {},
      "source": [
        "### cosine sim + label-flipping"
      ]
    },
    {
      "cell_type": "code",
      "execution_count": 29,
      "metadata": {
        "id": "SC72dUgvZiWs"
      },
      "outputs": [],
      "source": [
        "Z_DIM = 16\n",
        "TEMP = 0.3\n",
        "ALPHA = 1e2\n",
        "LABEL_FLIPPING = True\n",
        "\n",
        "vae = VAE(total_z_dim=Z_DIM).to(device)\n",
        "dataloader = DataLoader(train, batch_size=128, shuffle=True)\n",
        "val_dataloader = DataLoader(valid, batch_size=128, shuffle=False)\n",
        "optimizer = torch.optim.Adam(vae.parameters(), lr=5e-4)\n",
        "trainer = CLEARVAETrainer(\n",
        "    vae,\n",
        "    optimizer,\n",
        "    sim_fn=\"cosine\",\n",
        "    hyperparameter={\"temperature\": TEMP, \"beta\": 1/8, \"loc\": 0, \"scale\": 1,\n",
        "                    \"alpha\": ALPHA, \"label_flipping\": LABEL_FLIPPING},\n",
        "    verbose_period=5,\n",
        "    device=device,\n",
        ")"
      ]
    },
    {
      "cell_type": "code",
      "execution_count": null,
      "metadata": {
        "colab": {
          "base_uri": "https://localhost:8080/"
        },
        "id": "CDuqyEP0Z-L3",
        "outputId": "4f29a4d8-fe01-4f76-cf9c-e1081f5d5908"
      },
      "outputs": [],
      "source": [
        "trainer.fit(31, dataloader, val_dataloader)"
      ]
    },
    {
      "cell_type": "code",
      "execution_count": 28,
      "metadata": {},
      "outputs": [
        {
          "data": {
            "text/plain": [
              "(0.2672092263343405, 20.362957000732422)"
            ]
          },
          "execution_count": 28,
          "metadata": {},
          "output_type": "execute_result"
        }
      ],
      "source": [
        "trainer.evaluate(test_loader, False, 0)"
      ]
    },
    {
      "cell_type": "code",
      "execution_count": null,
      "metadata": {},
      "outputs": [],
      "source": [
        "from tqdm import tqdm\n",
        "\n",
        "mu_cs = []\n",
        "mu_ss = []\n",
        "labels = []\n",
        "styles = []\n",
        "with torch.no_grad():\n",
        "    for X, label, style in tqdm(val_dataloader):\n",
        "        X = X.to(device)\n",
        "        label = label.to(device)\n",
        "\n",
        "        _, latent_params = vae(X)\n",
        "        mu_cs.append(latent_params['mu_c'])\n",
        "        mu_ss.append(latent_params['mu_s'])\n",
        "        labels.append(label)\n",
        "        styles.append(style)\n",
        "\n",
        "mu_cs = torch.cat(mu_cs, dim=0)\n",
        "mu_ss = torch.cat(mu_ss, dim=0)\n",
        "labels = torch.cat(labels, dim=0)\n",
        "styles = torch.cat(styles, dim=0)\n"
      ]
    },
    {
      "cell_type": "code",
      "execution_count": 40,
      "metadata": {},
      "outputs": [],
      "source": [
        "from sklearn.manifold import TSNE\n",
        "\n",
        "tsne = TSNE(n_components=2, perplexity=30, learning_rate=200, init='pca')\n",
        "mu_cs_tsne = tsne.fit_transform(mu_cs.cpu().numpy())"
      ]
    },
    {
      "cell_type": "code",
      "execution_count": null,
      "metadata": {},
      "outputs": [],
      "source": [
        "import matplotlib.pyplot as plt\n",
        "\n",
        "plt.scatter(mu_cs_tsne[:, 0], mu_cs_tsne[:, 1], alpha=0.3, \n",
        "            c=labels.cpu().numpy(), cmap='tab10')\n",
        "plt.colorbar(label='Digit Class')"
      ]
    },
    {
      "cell_type": "code",
      "execution_count": null,
      "metadata": {},
      "outputs": [],
      "source": [
        "style_labels = ['identity', 'stripe', 'zigzag', 'canny_edge', \"scale\", 'brightness']\n",
        "\n",
        "cmap = plt.get_cmap('viridis')\n",
        "colors = [cmap(i) for i in np.linspace(0, 1, len(style_labels))]\n",
        "\n",
        "fig, ax = plt.subplots()\n",
        "for g in range(len(style_labels)):\n",
        "    i = np.where(styles == g)[0]\n",
        "    ax.scatter(mu_cs_tsne[i,0], mu_cs_tsne[i,1], alpha=0.2, \n",
        "               c=colors[g], label=style_labels[g])\n",
        "ax.legend()\n",
        "plt.show()"
      ]
    },
    {
      "cell_type": "code",
      "execution_count": 43,
      "metadata": {},
      "outputs": [],
      "source": [
        "tsne = TSNE(n_components=2, perplexity=30, learning_rate=200, init='pca')\n",
        "mu_ss_tsne = tsne.fit_transform(mu_ss.cpu().numpy())"
      ]
    },
    {
      "cell_type": "code",
      "execution_count": null,
      "metadata": {},
      "outputs": [],
      "source": [
        "plt.scatter(mu_ss_tsne[:,0], mu_ss_tsne[:,1], alpha=0.3,\n",
        "            c=labels.cpu().numpy(), cmap='tab10')\n",
        "plt.colorbar(label='Digit Class')"
      ]
    },
    {
      "cell_type": "code",
      "execution_count": null,
      "metadata": {},
      "outputs": [],
      "source": [
        "fig, axs = plt.subplots(2, 5, figsize=(12, 5))\n",
        "for i, ax in enumerate(axs.flat):\n",
        "    cond = torch.where(labels == i)[0].cpu().numpy()\n",
        "    ax.scatter(mu_ss_tsne[cond,0], mu_ss_tsne[cond,1], alpha=0.3, label=f\"{i}\")\n",
        "    ax.legend(loc='upper left')"
      ]
    },
    {
      "cell_type": "code",
      "execution_count": null,
      "metadata": {},
      "outputs": [],
      "source": [
        "style_labels = ['identity', 'stripe', 'zigzag', 'canny_edge', 'scale', 'brightness']\n",
        "\n",
        "cmap = plt.get_cmap('viridis')\n",
        "colors = [cmap(i) for i in np.linspace(0, 1, len(style_labels))]\n",
        "fig, ax = plt.subplots()\n",
        "for g in range(len(style_labels)):\n",
        "    i = np.where(styles == g)[0]\n",
        "    ax.scatter(mu_ss_tsne[i,0], mu_ss_tsne[i,1], alpha=0.3, \n",
        "               c=colors[g], label=style_labels[g])\n",
        "ax.legend()\n",
        "plt.show()"
      ]
    },
    {
      "cell_type": "code",
      "execution_count": 86,
      "metadata": {},
      "outputs": [],
      "source": [
        "test_loader = DataLoader(test, batch_size=128, shuffle=True)\n",
        "X, c, s = next(iter(test_loader))\n",
        "X = X.to(device)\n",
        "vae.eval()\n",
        "X_hat, latent_params, z = vae(X.clone(), explicit=True)\n"
      ]
    },
    {
      "cell_type": "markdown",
      "metadata": {},
      "source": [
        "### l2 sim + lable-flipping"
      ]
    },
    {
      "cell_type": "code",
      "execution_count": 22,
      "metadata": {},
      "outputs": [],
      "source": [
        "Z_DIM = 16\n",
        "TEMP = 0.3\n",
        "ALPHA = 1e2\n",
        "LABEL_FLIPPING = True\n",
        "\n",
        "vae = VAE(total_z_dim=Z_DIM).to(device)\n",
        "dataloader = DataLoader(train, batch_size=128, shuffle=True)\n",
        "val_dataloader = DataLoader(valid, batch_size=128, shuffle=False)\n",
        "optimizer = torch.optim.Adam(vae.parameters(), lr=5e-4)\n",
        "trainer = CLEARVAETrainer(\n",
        "    vae,\n",
        "    optimizer,\n",
        "    sim_fn=\"l2\",\n",
        "    hyperparameter={\"temperature\": TEMP, \"beta\": 1/8, \"loc\": 0, \"scale\": 1,\n",
        "                    \"alpha\": ALPHA, \"label_flipping\": LABEL_FLIPPING},\n",
        "    verbose_period=5,\n",
        "    device=device,\n",
        ")"
      ]
    },
    {
      "cell_type": "code",
      "execution_count": 23,
      "metadata": {},
      "outputs": [
        {
          "name": "stderr",
          "output_type": "stream",
          "text": [
            "Epoch 0: 100%|██████████| 313/313 [00:03<00:00, 82.43batch/s, c_loss=0.451, kl_c=10.5, kl_s=11.4, recontr_loss=63.7, s_loss=0.136]  \n",
            "val-epoch 0: 100%|██████████| 79/79 [00:00<00:00, 220.39it/s]\n"
          ]
        },
        {
          "name": "stdout",
          "output_type": "stream",
          "text": [
            "val_recontr_loss=65.636, val_kl_c=10.480, val_kl_s=11.052, val_c_loss=0.345, val_s_loss=0.117\n",
            "gMIG: 0.197; elbo: 65.636\n"
          ]
        },
        {
          "name": "stderr",
          "output_type": "stream",
          "text": [
            "Epoch 5: 100%|██████████| 313/313 [00:03<00:00, 93.02batch/s, c_loss=0.232, kl_c=13.7, kl_s=16, recontr_loss=30.9, s_loss=0.132]     \n",
            "val-epoch 5: 100%|██████████| 79/79 [00:00<00:00, 234.20it/s]\n"
          ]
        },
        {
          "name": "stdout",
          "output_type": "stream",
          "text": [
            "val_recontr_loss=34.058, val_kl_c=13.890, val_kl_s=16.252, val_c_loss=0.183, val_s_loss=0.119\n",
            "gMIG: 0.246; elbo: 34.058\n"
          ]
        },
        {
          "name": "stderr",
          "output_type": "stream",
          "text": [
            "Epoch 10: 100%|██████████| 313/313 [00:03<00:00, 89.17batch/s, c_loss=0.0539, kl_c=14, kl_s=17.3, recontr_loss=32.9, s_loss=0.101]    \n",
            "val-epoch 10: 100%|██████████| 79/79 [00:00<00:00, 241.22it/s]\n"
          ]
        },
        {
          "name": "stdout",
          "output_type": "stream",
          "text": [
            "val_recontr_loss=27.536, val_kl_c=14.289, val_kl_s=17.781, val_c_loss=0.153, val_s_loss=0.115\n",
            "gMIG: 0.253; elbo: 27.536\n"
          ]
        },
        {
          "name": "stderr",
          "output_type": "stream",
          "text": [
            "Epoch 15: 100%|██████████| 313/313 [00:03<00:00, 87.06batch/s, c_loss=0.00329, kl_c=15.4, kl_s=18.9, recontr_loss=23.8, s_loss=0.158] \n",
            "val-epoch 15: 100%|██████████| 79/79 [00:00<00:00, 215.65it/s]\n"
          ]
        },
        {
          "name": "stdout",
          "output_type": "stream",
          "text": [
            "val_recontr_loss=23.946, val_kl_c=15.254, val_kl_s=18.867, val_c_loss=0.158, val_s_loss=0.114\n",
            "gMIG: 0.268; elbo: 23.946\n"
          ]
        },
        {
          "name": "stderr",
          "output_type": "stream",
          "text": [
            "Epoch 20: 100%|██████████| 313/313 [00:03<00:00, 92.87batch/s, c_loss=0.048, kl_c=16.1, kl_s=19.4, recontr_loss=23.9, s_loss=0.0987]   \n",
            "val-epoch 20: 100%|██████████| 79/79 [00:00<00:00, 234.06it/s]\n"
          ]
        },
        {
          "name": "stdout",
          "output_type": "stream",
          "text": [
            "val_recontr_loss=21.899, val_kl_c=15.610, val_kl_s=19.109, val_c_loss=0.155, val_s_loss=0.114\n",
            "gMIG: 0.277; elbo: 21.899\n"
          ]
        },
        {
          "name": "stderr",
          "output_type": "stream",
          "text": [
            "Epoch 25: 100%|██████████| 313/313 [00:03<00:00, 91.02batch/s, c_loss=0.0279, kl_c=16.1, kl_s=19.8, recontr_loss=23.7, s_loss=0.117]   \n",
            "val-epoch 25: 100%|██████████| 79/79 [00:00<00:00, 247.74it/s]\n"
          ]
        },
        {
          "name": "stdout",
          "output_type": "stream",
          "text": [
            "val_recontr_loss=21.611, val_kl_c=15.946, val_kl_s=19.652, val_c_loss=0.168, val_s_loss=0.113\n",
            "gMIG: 0.271; elbo: 21.611\n"
          ]
        },
        {
          "name": "stderr",
          "output_type": "stream",
          "text": [
            "Epoch 30: 100%|██████████| 313/313 [00:03<00:00, 86.99batch/s, c_loss=0.132, kl_c=15.2, kl_s=19.1, recontr_loss=21.2, s_loss=0.115]    \n",
            "val-epoch 30: 100%|██████████| 79/79 [00:00<00:00, 206.72it/s]\n"
          ]
        },
        {
          "name": "stdout",
          "output_type": "stream",
          "text": [
            "val_recontr_loss=20.394, val_kl_c=15.787, val_kl_s=20.203, val_c_loss=0.145, val_s_loss=0.113\n",
            "gMIG: 0.28; elbo: 20.394\n"
          ]
        }
      ],
      "source": [
        "trainer.fit(31, dataloader, val_dataloader)"
      ]
    },
    {
      "cell_type": "code",
      "execution_count": 24,
      "metadata": {},
      "outputs": [
        {
          "data": {
            "text/plain": [
              "(0.28113462745656487, 20.10638427734375)"
            ]
          },
          "execution_count": 24,
          "metadata": {},
          "output_type": "execute_result"
        }
      ],
      "source": [
        "trainer.evaluate(test_loader, False, 0)"
      ]
    },
    {
      "cell_type": "code",
      "execution_count": 168,
      "metadata": {},
      "outputs": [],
      "source": [
        "X, label, _ = next(iter(test_loader))\n",
        "X = X.to(device)\n",
        "label = label.to(device)\n"
      ]
    },
    {
      "cell_type": "code",
      "execution_count": 169,
      "metadata": {},
      "outputs": [],
      "source": [
        "vae.eval()\n",
        "X_hat, latent_params, z = vae(X.clone(), explicit=True)"
      ]
    },
    {
      "cell_type": "code",
      "execution_count": null,
      "metadata": {},
      "outputs": [],
      "source": [
        "display_util(9, 26, z, vae, int(Z_DIM / 2))"
      ]
    },
    {
      "cell_type": "code",
      "execution_count": null,
      "metadata": {},
      "outputs": [],
      "source": [
        "display_util(1, 3, z, vae, int(Z_DIM / 2))"
      ]
    },
    {
      "cell_type": "code",
      "execution_count": null,
      "metadata": {},
      "outputs": [],
      "source": [
        "display_util(17, 30, z, vae, int(Z_DIM / 2))"
      ]
    },
    {
      "cell_type": "code",
      "execution_count": null,
      "metadata": {},
      "outputs": [],
      "source": [
        "display_util(14, 6, z, vae, int(Z_DIM / 2))"
      ]
    },
    {
      "cell_type": "code",
      "execution_count": null,
      "metadata": {},
      "outputs": [],
      "source": [
        "display_util(1, 31, z, vae, int(Z_DIM / 2))"
      ]
    },
    {
      "cell_type": "code",
      "execution_count": null,
      "metadata": {},
      "outputs": [],
      "source": [
        "from tqdm import tqdm\n",
        "\n",
        "mu_cs = []\n",
        "mu_ss = []\n",
        "labels = []\n",
        "styles = []\n",
        "with torch.no_grad():\n",
        "    for X, label, style in tqdm(val_dataloader):\n",
        "        X = X.to(device)\n",
        "        label = label.to(device)\n",
        "\n",
        "        _, latent_params = vae(X)\n",
        "        mu_cs.append(latent_params['mu_c'])\n",
        "        mu_ss.append(latent_params['mu_s'])\n",
        "        labels.append(label)\n",
        "        styles.append(style)\n",
        "\n",
        "mu_cs = torch.cat(mu_cs, dim=0)\n",
        "mu_ss = torch.cat(mu_ss, dim=0)\n",
        "labels = torch.cat(labels, dim=0)\n",
        "styles = torch.cat(styles, dim=0)\n"
      ]
    },
    {
      "cell_type": "code",
      "execution_count": 32,
      "metadata": {},
      "outputs": [],
      "source": [
        "from sklearn.manifold import TSNE\n",
        "\n",
        "tsne = TSNE(n_components=2, perplexity=30, learning_rate=200, init='pca')\n",
        "mu_cs_tsne = tsne.fit_transform(mu_cs.cpu().numpy())"
      ]
    },
    {
      "cell_type": "code",
      "execution_count": null,
      "metadata": {},
      "outputs": [],
      "source": [
        "import matplotlib.pyplot as plt\n",
        "\n",
        "plt.scatter(mu_cs_tsne[:, 0], mu_cs_tsne[:, 1], alpha=0.3, \n",
        "            c=labels.cpu().numpy(), cmap='tab10')\n",
        "plt.colorbar(label='Digit Class')"
      ]
    },
    {
      "cell_type": "code",
      "execution_count": null,
      "metadata": {},
      "outputs": [],
      "source": [
        "style_labels = ['identity', 'stripe', 'zigzag', 'canny_edge', 'brightness']\n",
        "\n",
        "cmap = plt.get_cmap('viridis')\n",
        "colors = [cmap(i) for i in np.linspace(0, 1, len(style_labels))]\n",
        "\n",
        "fig, ax = plt.subplots()\n",
        "for g in range(len(style_labels)):\n",
        "    i = np.where(styles == g)[0]\n",
        "    ax.scatter(mu_cs_tsne[i,0], mu_cs_tsne[i,1], alpha=0.2, \n",
        "               c=colors[g], label=style_labels[g])\n",
        "ax.legend()\n",
        "plt.show()"
      ]
    },
    {
      "cell_type": "code",
      "execution_count": 35,
      "metadata": {},
      "outputs": [],
      "source": [
        "tsne = TSNE(n_components=2, perplexity=30, learning_rate=200, init='pca')\n",
        "mu_ss_tsne = tsne.fit_transform(mu_ss.cpu().numpy())"
      ]
    },
    {
      "cell_type": "code",
      "execution_count": null,
      "metadata": {},
      "outputs": [],
      "source": [
        "plt.scatter(mu_ss_tsne[:,0], mu_ss_tsne[:,1], alpha=0.3,\n",
        "            c=labels.cpu().numpy(), cmap='tab10')\n",
        "plt.colorbar(label='Digit Class')"
      ]
    },
    {
      "cell_type": "code",
      "execution_count": null,
      "metadata": {},
      "outputs": [],
      "source": [
        "fig, axs = plt.subplots(2, 5, figsize=(12, 5))\n",
        "for i, ax in enumerate(axs.flat):\n",
        "    cond = torch.where(labels == i)[0].cpu().numpy()\n",
        "    ax.scatter(mu_ss_tsne[cond,0], mu_ss_tsne[cond,1], alpha=0.3)"
      ]
    },
    {
      "cell_type": "code",
      "execution_count": null,
      "metadata": {},
      "outputs": [],
      "source": [
        "style_labels = ['identity', 'stripe', 'zigzag', 'canny_edge', 'brightness']\n",
        "\n",
        "cmap = plt.get_cmap('viridis')\n",
        "colors = [cmap(i) for i in np.linspace(0, 1, len(style_labels))]\n",
        "fig, ax = plt.subplots()\n",
        "for g in range(len(style_labels)):\n",
        "    i = np.where(styles == g)[0]\n",
        "    ax.scatter(mu_ss_tsne[i,0], mu_ss_tsne[i,1], alpha=0.3, \n",
        "               c=colors[g], label=style_labels[g])\n",
        "ax.legend()\n",
        "plt.show()"
      ]
    },
    {
      "cell_type": "code",
      "execution_count": null,
      "metadata": {},
      "outputs": [],
      "source": [
        "idxs = list(range(50, 100))\n",
        "\n",
        "plt.scatter(mu_ss_tsne[:1000, 0], mu_ss_tsne[:1000, 1], alpha=0.3)\n",
        "plt.scatter(mu_ss_tsne[idxs, 0], mu_ss_tsne[idxs, 1], c=labels[idxs].cpu().numpy(), cmap=\"tab10\")\n",
        "for i in idxs:\n",
        "    plt.text(mu_ss_tsne[i, 0], mu_ss_tsne[i, 1], f\"idx:{i}\", fontsize=10)\n",
        "plt.colorbar()"
      ]
    },
    {
      "cell_type": "code",
      "execution_count": null,
      "metadata": {},
      "outputs": [],
      "source": [
        "idx = 9\n",
        "display(transforms.ToPILImage()(vae.decode(\n",
        "    torch.cat([mu_cs[idx], mu_ss[idx]]).view(1, -1)\n",
        ")[0]))"
      ]
    },
    {
      "cell_type": "code",
      "execution_count": null,
      "metadata": {},
      "outputs": [],
      "source": [
        "for i in [53, 88, 62, 67, 73, 85, 71, 79, 98, 68]:\n",
        "    display(transforms.ToPILImage()(vae.decode(\n",
        "        torch.cat([mu_cs[idx], mu_ss[i]]).view(1, -1)\n",
        "    )[0]))"
      ]
    },
    {
      "cell_type": "markdown",
      "metadata": {},
      "source": [
        "### mahalanobis / modified l2 + label flipping"
      ]
    },
    {
      "cell_type": "code",
      "execution_count": 25,
      "metadata": {},
      "outputs": [],
      "source": [
        "Z_DIM = 16\n",
        "TEMP = 2\n",
        "ALPHA = 10\n",
        "LABEL_FLIPPING = True"
      ]
    },
    {
      "cell_type": "code",
      "execution_count": 29,
      "metadata": {},
      "outputs": [],
      "source": [
        "vae = VAE(total_z_dim=Z_DIM).to(device)\n",
        "dataloader = DataLoader(train, batch_size=128, shuffle=True)\n",
        "val_dataloader = DataLoader(valid, batch_size=128, shuffle=False)\n",
        "optimizer = torch.optim.Adam(vae.parameters(), lr=1e-3)\n",
        "trainer = CLEARVAETrainer(\n",
        "    vae,\n",
        "    optimizer,\n",
        "    sim_fn=\"jeffrey\",\n",
        "    hyperparameter={\"temperature\": TEMP, \"beta\": 1/2, \"loc\": 0, \"scale\": 1,\n",
        "                    \"alpha\": ALPHA, \"label_flipping\": LABEL_FLIPPING},\n",
        "    verbose_period=3,\n",
        "    device=device,\n",
        ")"
      ]
    },
    {
      "cell_type": "code",
      "execution_count": 30,
      "metadata": {},
      "outputs": [
        {
          "name": "stderr",
          "output_type": "stream",
          "text": [
            "Epoch 0: 100%|██████████| 313/313 [00:04<00:00, 75.21batch/s, c_loss=0.452, kl_c=6.54, kl_s=5.83, recontr_loss=60.4, s_loss=0.153] \n",
            "val-epoch 0: 100%|██████████| 79/79 [00:00<00:00, 214.88it/s]\n"
          ]
        },
        {
          "name": "stdout",
          "output_type": "stream",
          "text": [
            "val_recontr_loss=53.657, val_kl_c=6.368, val_kl_s=6.296, val_c_loss=0.300, val_s_loss=0.140\n",
            "gMIG: 0.149; elbo: 53.657\n"
          ]
        },
        {
          "name": "stderr",
          "output_type": "stream",
          "text": [
            "Epoch 3: 100%|██████████| 313/313 [00:03<00:00, 79.89batch/s, c_loss=0.134, kl_c=7.12, kl_s=6.02, recontr_loss=32.1, s_loss=0.362] \n",
            "val-epoch 3: 100%|██████████| 79/79 [00:00<00:00, 219.15it/s]\n"
          ]
        },
        {
          "name": "stdout",
          "output_type": "stream",
          "text": [
            "val_recontr_loss=32.443, val_kl_c=7.500, val_kl_s=5.970, val_c_loss=0.208, val_s_loss=0.146\n",
            "gMIG: 0.163; elbo: 32.443\n"
          ]
        },
        {
          "name": "stderr",
          "output_type": "stream",
          "text": [
            "Epoch 6: 100%|██████████| 313/313 [00:03<00:00, 78.75batch/s, c_loss=0.329, kl_c=7.96, kl_s=6.67, recontr_loss=34.4, s_loss=0.2]    \n",
            "val-epoch 6: 100%|██████████| 79/79 [00:00<00:00, 221.57it/s]\n"
          ]
        },
        {
          "name": "stdout",
          "output_type": "stream",
          "text": [
            "val_recontr_loss=28.012, val_kl_c=7.647, val_kl_s=6.611, val_c_loss=0.189, val_s_loss=0.159\n",
            "gMIG: 0.167; elbo: 28.012\n"
          ]
        },
        {
          "name": "stderr",
          "output_type": "stream",
          "text": [
            "Epoch 9: 100%|██████████| 313/313 [00:03<00:00, 80.53batch/s, c_loss=0.131, kl_c=7.75, kl_s=7.77, recontr_loss=31.5, s_loss=0.179]  \n",
            "val-epoch 9: 100%|██████████| 79/79 [00:00<00:00, 223.05it/s]\n"
          ]
        },
        {
          "name": "stdout",
          "output_type": "stream",
          "text": [
            "val_recontr_loss=25.541, val_kl_c=7.927, val_kl_s=7.367, val_c_loss=0.211, val_s_loss=0.201\n",
            "gMIG: 0.165; elbo: 25.541\n"
          ]
        },
        {
          "name": "stderr",
          "output_type": "stream",
          "text": [
            "Epoch 12: 100%|██████████| 313/313 [00:04<00:00, 77.80batch/s, c_loss=0.363, kl_c=8.03, kl_s=6.64, recontr_loss=24.7, s_loss=0.117]  \n",
            "val-epoch 12: 100%|██████████| 79/79 [00:00<00:00, 204.62it/s]\n"
          ]
        },
        {
          "name": "stdout",
          "output_type": "stream",
          "text": [
            "val_recontr_loss=24.652, val_kl_c=8.199, val_kl_s=6.758, val_c_loss=0.195, val_s_loss=0.163\n",
            "gMIG: 0.172; elbo: 24.652\n"
          ]
        },
        {
          "name": "stderr",
          "output_type": "stream",
          "text": [
            "Epoch 15: 100%|██████████| 313/313 [00:03<00:00, 79.01batch/s, c_loss=0.166, kl_c=8.45, kl_s=7.31, recontr_loss=30.4, s_loss=0.131]   \n",
            "val-epoch 15: 100%|██████████| 79/79 [00:00<00:00, 225.56it/s]\n"
          ]
        },
        {
          "name": "stdout",
          "output_type": "stream",
          "text": [
            "val_recontr_loss=23.468, val_kl_c=8.251, val_kl_s=7.105, val_c_loss=0.231, val_s_loss=0.184\n",
            "gMIG: 0.165; elbo: 23.468\n"
          ]
        },
        {
          "name": "stderr",
          "output_type": "stream",
          "text": [
            "Epoch 18: 100%|██████████| 313/313 [00:04<00:00, 78.13batch/s, c_loss=0.0193, kl_c=9.05, kl_s=6.91, recontr_loss=24.6, s_loss=0.308] \n",
            "val-epoch 18: 100%|██████████| 79/79 [00:00<00:00, 215.58it/s]\n"
          ]
        },
        {
          "name": "stdout",
          "output_type": "stream",
          "text": [
            "val_recontr_loss=22.772, val_kl_c=8.906, val_kl_s=6.752, val_c_loss=0.231, val_s_loss=0.177\n",
            "gMIG: 0.172; elbo: 22.772\n"
          ]
        },
        {
          "name": "stderr",
          "output_type": "stream",
          "text": [
            "Epoch 21: 100%|██████████| 313/313 [00:03<00:00, 79.59batch/s, c_loss=0.267, kl_c=9.42, kl_s=7.96, recontr_loss=24.5, s_loss=0.225]   \n",
            "val-epoch 21: 100%|██████████| 79/79 [00:00<00:00, 223.85it/s]\n"
          ]
        },
        {
          "name": "stdout",
          "output_type": "stream",
          "text": [
            "val_recontr_loss=22.599, val_kl_c=8.550, val_kl_s=7.182, val_c_loss=0.199, val_s_loss=0.180\n",
            "gMIG: 0.174; elbo: 22.599\n"
          ]
        },
        {
          "name": "stderr",
          "output_type": "stream",
          "text": [
            "Epoch 24: 100%|██████████| 313/313 [00:03<00:00, 78.84batch/s, c_loss=0.158, kl_c=8.75, kl_s=7.24, recontr_loss=19.9, s_loss=0.155]  \n",
            "val-epoch 24: 100%|██████████| 79/79 [00:00<00:00, 212.98it/s]\n"
          ]
        },
        {
          "name": "stdout",
          "output_type": "stream",
          "text": [
            "val_recontr_loss=21.762, val_kl_c=8.789, val_kl_s=7.363, val_c_loss=0.217, val_s_loss=0.194\n",
            "gMIG: 0.169; elbo: 21.762\n"
          ]
        },
        {
          "name": "stderr",
          "output_type": "stream",
          "text": [
            "Epoch 27: 100%|██████████| 313/313 [00:04<00:00, 77.76batch/s, c_loss=0.148, kl_c=8.9, kl_s=7.6, recontr_loss=25.4, s_loss=0.371]    \n",
            "val-epoch 27: 100%|██████████| 79/79 [00:00<00:00, 204.17it/s]\n"
          ]
        },
        {
          "name": "stdout",
          "output_type": "stream",
          "text": [
            "val_recontr_loss=22.102, val_kl_c=8.507, val_kl_s=6.957, val_c_loss=0.216, val_s_loss=0.177\n",
            "gMIG: 0.17; elbo: 22.102\n"
          ]
        },
        {
          "name": "stderr",
          "output_type": "stream",
          "text": [
            "Epoch 30: 100%|██████████| 313/313 [00:04<00:00, 77.44batch/s, c_loss=0.0587, kl_c=9.86, kl_s=8.25, recontr_loss=24.8, s_loss=0.369] \n",
            "val-epoch 30: 100%|██████████| 79/79 [00:00<00:00, 218.37it/s]\n"
          ]
        },
        {
          "name": "stdout",
          "output_type": "stream",
          "text": [
            "val_recontr_loss=21.136, val_kl_c=9.317, val_kl_s=7.272, val_c_loss=0.278, val_s_loss=0.183\n",
            "gMIG: 0.173; elbo: 21.136\n"
          ]
        }
      ],
      "source": [
        "trainer.fit(31, dataloader, val_dataloader)"
      ]
    },
    {
      "cell_type": "code",
      "execution_count": 31,
      "metadata": {},
      "outputs": [
        {
          "data": {
            "text/plain": [
              "(0.17478951003898147, 20.933490753173828)"
            ]
          },
          "execution_count": 31,
          "metadata": {},
          "output_type": "execute_result"
        }
      ],
      "source": [
        "trainer.evaluate(test_loader, False, 0)"
      ]
    },
    {
      "cell_type": "code",
      "execution_count": 101,
      "metadata": {},
      "outputs": [],
      "source": [
        "X, label, _ = next(iter(test_loader))\n",
        "X = X.to(device)\n",
        "label = label.to(device)\n",
        "vae.eval()\n",
        "X_hat, latent_params, z = vae(X, explicit=True)"
      ]
    },
    {
      "cell_type": "code",
      "execution_count": null,
      "metadata": {},
      "outputs": [],
      "source": [
        "display_util(9, 16, z, vae, int(Z_DIM / 2))"
      ]
    },
    {
      "cell_type": "code",
      "execution_count": null,
      "metadata": {},
      "outputs": [],
      "source": [
        "display_util(1, 3, z, vae, int(Z_DIM / 2))"
      ]
    },
    {
      "cell_type": "code",
      "execution_count": null,
      "metadata": {},
      "outputs": [],
      "source": [
        "display_util(17, 14, z, vae, int(Z_DIM / 2))"
      ]
    },
    {
      "cell_type": "code",
      "execution_count": null,
      "metadata": {},
      "outputs": [],
      "source": [
        "display_util(14, 6, z, vae, int(Z_DIM / 2))"
      ]
    },
    {
      "cell_type": "code",
      "execution_count": null,
      "metadata": {},
      "outputs": [],
      "source": [
        "display_util(31, 1, z, vae, int(Z_DIM / 2))"
      ]
    },
    {
      "cell_type": "code",
      "execution_count": null,
      "metadata": {},
      "outputs": [],
      "source": [
        "from tqdm import tqdm\n",
        "\n",
        "mu_cs = []\n",
        "mu_ss = []\n",
        "labels = []\n",
        "styles = []\n",
        "with torch.no_grad():\n",
        "    for X, label, style in tqdm(val_dataloader):\n",
        "        X = X.to(device)\n",
        "        label = label.to(device)\n",
        "\n",
        "        _, latent_params = vae(X)\n",
        "        mu_cs.append(latent_params['mu_c'])\n",
        "        mu_ss.append(latent_params['mu_s'])\n",
        "        labels.append(label)\n",
        "        styles.append(style)\n",
        "\n",
        "mu_cs = torch.cat(mu_cs, dim=0)\n",
        "mu_ss = torch.cat(mu_ss, dim=0)\n",
        "labels = torch.cat(labels, dim=0)\n",
        "styles = torch.cat(styles, dim=0)"
      ]
    },
    {
      "cell_type": "code",
      "execution_count": 88,
      "metadata": {},
      "outputs": [],
      "source": [
        "from sklearn.manifold import TSNE\n",
        "\n",
        "tsne = TSNE(n_components=2, perplexity=30, learning_rate=200, init='pca')\n",
        "mu_cs_tsne = tsne.fit_transform(mu_cs.cpu().numpy())"
      ]
    },
    {
      "cell_type": "code",
      "execution_count": null,
      "metadata": {},
      "outputs": [],
      "source": [
        "import matplotlib.pyplot as plt\n",
        "\n",
        "plt.scatter(mu_cs_tsne[:, 0], mu_cs_tsne[:, 1], alpha=0.3, \n",
        "            c=labels.cpu().numpy(), cmap='tab10')\n",
        "plt.colorbar(label='Digit Class')"
      ]
    },
    {
      "cell_type": "code",
      "execution_count": null,
      "metadata": {},
      "outputs": [],
      "source": [
        "style_labels = ['identity', 'stripe', 'zigzag', 'canny_edge', 'scale','brightness']\n",
        "\n",
        "cmap = plt.get_cmap('viridis')\n",
        "colors = [cmap(i) for i in np.linspace(0, 1, len(style_labels))]\n",
        "\n",
        "fig, ax = plt.subplots()\n",
        "for g in range(len(style_labels)):\n",
        "    i = np.where(styles == g)[0]\n",
        "    ax.scatter(mu_cs_tsne[i,0], mu_cs_tsne[i,1], alpha=0.2, \n",
        "               c=colors[g], label=style_labels[g])\n",
        "ax.legend()\n",
        "plt.show()"
      ]
    },
    {
      "cell_type": "code",
      "execution_count": 91,
      "metadata": {},
      "outputs": [],
      "source": [
        "tsne = TSNE(n_components=2, perplexity=30, learning_rate=200, init='pca')\n",
        "mu_ss_tsne = tsne.fit_transform(mu_ss.cpu().numpy())"
      ]
    },
    {
      "cell_type": "code",
      "execution_count": null,
      "metadata": {},
      "outputs": [],
      "source": [
        "plt.scatter(mu_ss_tsne[:,0], mu_ss_tsne[:,1], alpha=0.3,\n",
        "            c=labels.cpu().numpy(), cmap='tab10')\n",
        "plt.colorbar(label='Digit Class')"
      ]
    },
    {
      "cell_type": "code",
      "execution_count": null,
      "metadata": {},
      "outputs": [],
      "source": [
        "fig, axs = plt.subplots(2, 5, figsize=(12, 5))\n",
        "for i, ax in enumerate(axs.flat):\n",
        "    cond = torch.where(labels == i)[0].cpu().numpy()\n",
        "    ax.scatter(mu_ss_tsne[cond,0], mu_ss_tsne[cond,1], alpha=0.3)"
      ]
    },
    {
      "cell_type": "code",
      "execution_count": null,
      "metadata": {},
      "outputs": [],
      "source": [
        "style_labels = ['identity', 'stripe', 'zigzag', 'canny_edge', 'scale', 'brightness']\n",
        "\n",
        "cmap = plt.get_cmap('viridis')\n",
        "colors = [cmap(i) for i in np.linspace(0, 1, len(style_labels))]\n",
        "\n",
        "fig, ax = plt.subplots()\n",
        "for g in range(len(style_labels)):\n",
        "    i = np.where(styles == g)[0]\n",
        "    ax.scatter(mu_ss_tsne[i,0], mu_ss_tsne[i,1], alpha=0.3, \n",
        "               c=colors[g], label=style_labels[g])\n",
        "ax.legend()\n",
        "plt.show()"
      ]
    },
    {
      "cell_type": "code",
      "execution_count": null,
      "metadata": {},
      "outputs": [],
      "source": [
        "idxs = list(range(50, 150))\n",
        "\n",
        "plt.scatter(mu_ss_tsne[:1000, 0], mu_ss_tsne[:1000, 1], alpha=0.3)\n",
        "plt.scatter(mu_ss_tsne[idxs, 0], mu_ss_tsne[idxs, 1], c=labels[idxs].cpu().numpy(), cmap=\"tab10\")\n",
        "for i in idxs:\n",
        "    plt.text(mu_ss_tsne[i, 0], mu_ss_tsne[i, 1], f\"idx:{i}\", fontsize=10)\n",
        "plt.colorbar()"
      ]
    },
    {
      "cell_type": "code",
      "execution_count": null,
      "metadata": {},
      "outputs": [],
      "source": [
        "idx = 1\n",
        "display(transforms.ToPILImage()(vae.decode(\n",
        "    torch.cat([mu_cs[idx], mu_ss[idx]]).view(1, -1)\n",
        ")[0]))"
      ]
    },
    {
      "cell_type": "code",
      "execution_count": null,
      "metadata": {},
      "outputs": [],
      "source": [
        "for i in [136, 120, 84, 50, 52]:\n",
        "    display(transforms.ToPILImage()(vae.decode(\n",
        "        torch.cat([mu_cs[idx], mu_ss[i]]).view(1, -1)\n",
        "    )[0]))"
      ]
    },
    {
      "cell_type": "code",
      "execution_count": null,
      "metadata": {},
      "outputs": [],
      "source": []
    }
  ],
  "metadata": {
    "accelerator": "GPU",
    "colab": {
      "gpuType": "V100",
      "provenance": []
    },
    "kernelspec": {
      "display_name": "research",
      "language": "python",
      "name": "python3"
    },
    "language_info": {
      "codemirror_mode": {
        "name": "ipython",
        "version": 3
      },
      "file_extension": ".py",
      "mimetype": "text/x-python",
      "name": "python",
      "nbconvert_exporter": "python",
      "pygments_lexer": "ipython3",
      "version": "3.10.4"
    }
  },
  "nbformat": 4,
  "nbformat_minor": 0
}
