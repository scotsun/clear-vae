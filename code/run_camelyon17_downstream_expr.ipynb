{
    "cells": [
        {
            "cell_type": "code",
            "execution_count": null,
            "metadata": {
                "collapsed": true,
                "id": "VQ8aRHVZYYFC"
            },
            "outputs": [],
            "source": [
                "%%capture\n",
                "!pip install wilds\n",
                "!apt-get install libmagickwand-dev\n",
                "!pip install wand"
            ]
        },
        {
            "cell_type": "code",
            "execution_count": null,
            "metadata": {
                "colab": {
                    "base_uri": "https://localhost:8080/"
                },
                "executionInfo": {
                    "elapsed": 13763,
                    "status": "ok",
                    "timestamp": 1747318236755,
                    "user": {
                        "displayName": "anonymous",
                        "userId": "10175953867583691140"
                    },
                    "user_tz": 240
                },
                "id": "bfcZcV12g7Iz",
                "outputId": "020e3f0e-fcde-4b77-872b-e9230b8e09fd"
            },
            "outputs": [
                {
                    "output_type": "stream",
                    "name": "stdout",
                    "text": [
                        "Mounted at /content/drive\n"
                    ]
                }
            ],
            "source": [
                "from google.colab import drive\n",
                "drive.mount('/content/drive')"
            ]
        },
        {
            "cell_type": "code",
            "execution_count": null,
            "metadata": {
                "id": "moP7qlHxvmxs"
            },
            "outputs": [],
            "source": [
                "%%capture\n",
                "!mkdir /content/data/\n",
                "!mkdir /content/data/camelyon17_v1.0/\n",
                "!tar -xvzf /content/drive/MyDrive/clear-vae/data/camelyon17_v1.0/archive.tar.gz -C /content/data/camelyon17_v1.0/"
            ]
        },
        {
            "cell_type": "code",
            "execution_count": null,
            "metadata": {
                "id": "f-ZS_59C3xFb"
            },
            "outputs": [],
            "source": [
                "import sys\n",
                "import json\n",
                "\n",
                "sys.path.append('/content/drive/MyDrive/clear-vae')"
            ]
        },
        {
            "cell_type": "code",
            "execution_count": null,
            "metadata": {
                "collapsed": true,
                "id": "0z9Nl7bmYwzA"
            },
            "outputs": [],
            "source": [
                "from wilds import get_dataset\n",
                "from wilds.common.data_loaders import get_train_loader\n",
                "dataset = get_dataset(dataset=\"camelyon17\", download=False)"
            ]
        },
        {
            "cell_type": "code",
            "execution_count": null,
            "metadata": {
                "id": "WTjS7HvR-wyi"
            },
            "outputs": [],
            "source": [
                "import torch\n",
                "import torchvision.transforms as transforms\n",
                "from torch.utils.data import random_split\n",
                "from torch.utils.data import DataLoader\n",
                "\n",
                "device = \"cuda\" if torch.cuda.is_available() else \"cpu\""
            ]
        },
        {
            "cell_type": "code",
            "execution_count": null,
            "metadata": {
                "id": "kWphf01IZZk5"
            },
            "outputs": [],
            "source": [
                "train_data = dataset.get_subset(\n",
                "    \"train\",\n",
                "    transform=transforms.Compose(\n",
                "        [transforms.Resize((64, 64)), transforms.ToTensor()]\n",
                "    ),\n",
                ")\n",
                "train_data, valid_data = random_split(train_data, [0.8, 0.2])\n",
                "\n",
                "test_data = dataset.get_subset(\n",
                "    \"test\",\n",
                "    transform=transforms.Compose(\n",
                "        [transforms.Resize((64, 64)), transforms.ToTensor()]\n",
                "    ),\n",
                ")\n",
                "\n",
                "def collate_fn(batch):\n",
                "    x, y, meta = zip(*batch)\n",
                "    return torch.stack(x), torch.stack(y), torch.stack(meta)[:,0]\n",
                "\n",
                "train_loader = DataLoader(train_data, batch_size=64, shuffle=True, collate_fn=collate_fn)\n",
                "valid_loader = DataLoader(valid_data, batch_size=64, shuffle=True, collate_fn=collate_fn)\n",
                "test_loader = DataLoader(test_data, batch_size=64, shuffle=False, collate_fn=collate_fn)"
            ]
        },
        {
            "cell_type": "code",
            "execution_count": null,
            "metadata": {
                "collapsed": true,
                "id": "8ZxFFwd_f_5S"
            },
            "outputs": [],
            "source": [
                "import torch.nn as nn\n",
                "import numpy as np\n",
                "from src.trainer import DownstreamMLPTrainer, SimpleCNNTrainer\n",
                "from src.utils.trainer_utils import *\n",
                "import os"
            ]
        },
        {
            "cell_type": "code",
            "source": [
                "def init_weights(module):\n",
                "    if isinstance(module, (nn.Conv2d, nn.ConvTranspose2d, nn.Linear)):\n",
                "        # He uniform initialization\n",
                "        torch.nn.init.kaiming_uniform_(module.weight, mode='fan_in', nonlinearity='relu')\n",
                "        if module.bias is not None:\n",
                "            torch.nn.init.zeros_(module.bias)"
            ],
            "metadata": {
                "id": "4KSsAh26VAWP"
            },
            "execution_count": null,
            "outputs": []
        },
        {
            "cell_type": "code",
            "execution_count": null,
            "metadata": {
                "id": "_s4mhrCF4j3M"
            },
            "outputs": [],
            "source": [
                "def experiment_helper(\n",
                "    dataloaders,\n",
                "    vae_trainer,\n",
                "    epochs,\n",
                "):\n",
                "    train_loader = dataloaders[\"train_loader\"]\n",
                "    valid_loader = dataloaders[\"valid_loader\"]\n",
                "    test_loader = dataloaders[\"test_loader\"]\n",
                "    # Train VAE\n",
                "    vae_trainer.fit(epochs, train_loader, valid_loader)\n",
                "    vae_trainer.model.eval()\n",
                "\n",
                "    z_dim = vae_trainer.model.z_dim  # which is 1/2 * total_z_dim\n",
                "    device = vae_trainer.device\n",
                "    # Freeze VAE parameters\n",
                "    for p in vae_trainer.model.parameters():\n",
                "        p.requires_grad = False\n",
                "\n",
                "    # Create and train MLP classifier\n",
                "    mlp = nn.Sequential(\n",
                "        nn.Linear(z_dim, 256),\n",
                "        nn.BatchNorm1d(256),\n",
                "        nn.ReLU(),\n",
                "        nn.Linear(256, 10),\n",
                "    ).to(device)\n",
                "    optimizer = torch.optim.Adam(mlp.parameters(), lr=3e-4)\n",
                "    criterion = nn.CrossEntropyLoss()\n",
                "\n",
                "    trainer = DownstreamMLPTrainer(\n",
                "        vae_trainer.model, mlp, optimizer, criterion, 1, device\n",
                "    )\n",
                "    trainer.fit(1, train_loader, valid_loader)\n",
                "\n",
                "    # Evaluate on test set\n",
                "    (aupr_scores, auroc_scores), acc = trainer.evaluate(test_loader, False, 0)\n",
                "\n",
                "    return aupr_scores, auroc_scores, acc\n",
                "\n",
                "\n",
                "def experiment(dataloaders, trainer_kwargs, epochs, run_index,\n",
                "               save_root=\"/content/drive/MyDrive/clear-vae/expr_output/camelyon17/result\"):\n",
                "    train_loader = dataloaders[\"train_loader\"]\n",
                "    valid_loader = dataloaders[\"valid_loader\"]\n",
                "    test_loader = dataloaders[\"test_loader\"]\n",
                "\n",
                "    tc_trainer_kwargs = trainer_kwargs.copy()\n",
                "    tc_trainer_kwargs[\"temperature\"] = 0.1\n",
                "\n",
                "    models = {\n",
                "        \"baseline\": (\n",
                "            get_cnn_trainer,\n",
                "            {\"n_class\": 2, \"device\": trainer_kwargs[\"device\"], \"cnn_arch\": \"SimpleCNN64Classifier\",\n",
                "             \"in_channel\": trainer_kwargs[\"in_channel\"], \"verbose_period\": trainer_kwargs[\"verbose_period\"]},\n",
                "        ),\n",
                "        \"clear\": (\n",
                "            get_clearvae_trainer,\n",
                "            {\"ps\": True, **trainer_kwargs},\n",
                "        ),\n",
                "        \"clear-mim (L1OutUB)\": (\n",
                "            get_clearmimvae_trainer,\n",
                "            {\n",
                "                \"mi_estimator\": \"L1OutUB\",\n",
                "                \"la\": 3,\n",
                "                \"mi_estimator_lr\": 2e-3,\n",
                "                **trainer_kwargs,\n",
                "            },\n",
                "        ),\n",
                "        \"clear-mim (CLUB-S)\": (\n",
                "            get_clearmimvae_trainer,\n",
                "            {\n",
                "                \"mi_estimator\": \"CLUBSample\",\n",
                "                \"la\": 3,\n",
                "                \"mi_estimator_lr\": 2e-3,\n",
                "                **trainer_kwargs,\n",
                "            },\n",
                "        ),\n",
                "        \"clear-tc\": (\n",
                "            get_cleartcvae_trainer,\n",
                "            {\"la\": 1, \"factor_cls_lr\": 5e-4, **tc_trainer_kwargs},\n",
                "        ),\n",
                "        \"lamcnn\": (\n",
                "            get_lamcnn_trainer,\n",
                "            {\"n_class\": 2, \"lam_coef\": 0.001,\n",
                "             \"device\": trainer_kwargs[\"device\"], \"cnn_arch\": \"LAMCNN64Classifier\",\n",
                "             \"in_channel\": trainer_kwargs[\"in_channel\"], \"verbose_period\": trainer_kwargs[\"verbose_period\"]},\n",
                "        ),\n",
                "        \"gvae\": (\n",
                "            get_hierarchical_vae_trainer,\n",
                "            {\n",
                "                \"beta\": trainer_kwargs[\"beta\"],\n",
                "                \"vae_lr\": 1e-4,\n",
                "                \"vae_arch\": trainer_kwargs[\"vae_arch\"],\n",
                "                \"z_dim\": trainer_kwargs[\"z_dim\"],\n",
                "                \"group_mode\": \"GVAE\",\n",
                "                \"device\": trainer_kwargs[\"device\"],\n",
                "                \"in_channel\": trainer_kwargs[\"in_channel\"],\n",
                "                \"verbose_period\": trainer_kwargs[\"verbose_period\"],\n",
                "            },\n",
                "        ),\n",
                "        \"mlvae\": (\n",
                "            get_hierarchical_vae_trainer,\n",
                "            {\n",
                "                \"beta\": trainer_kwargs[\"beta\"],\n",
                "                \"vae_lr\": 1e-4,\n",
                "                \"vae_arch\": trainer_kwargs[\"vae_arch\"],\n",
                "                \"z_dim\": trainer_kwargs[\"z_dim\"],\n",
                "                \"group_mode\": \"MLVAE\",\n",
                "                \"device\": trainer_kwargs[\"device\"],\n",
                "                \"in_channel\": trainer_kwargs[\"in_channel\"],\n",
                "                \"verbose_period\": trainer_kwargs[\"verbose_period\"],\n",
                "            },\n",
                "        ),\n",
                "    }\n",
                "\n",
                "    filename = f\"{save_root}_{run_index}.json\"\n",
                "    if os.path.exists(filename):\n",
                "        with open(filename, \"r\") as infile:\n",
                "            results = json.load(infile) # Load existing data\n",
                "    else:\n",
                "        results = {}\n",
                "\n",
                "    for model_name, (trainer_func, params) in models.items():\n",
                "        print(f\"\\nTraining {model_name}:\")\n",
                "        trainer = trainer_func(**params)\n",
                "        trainer.model.apply(init_weights)\n",
                "\n",
                "        if isinstance(trainer, SimpleCNNTrainer):\n",
                "            trainer.fit(\n",
                "                epochs=6, train_loader=train_loader, valid_loader=valid_loader\n",
                "            )\n",
                "            (aupr_scores, auroc_scores), acc = trainer.evaluate(test_loader, False, 0)\n",
                "        else:\n",
                "            aupr_scores, auroc_scores, acc = experiment_helper(\n",
                "                dataloaders, trainer, epochs\n",
                "            )\n",
                "        temp = {\n",
                "            \"acc\": round(float(acc), 3),\n",
                "            \"pr\": {\n",
                "                \"overall\": round(np.mean(list(aupr_scores.values())), 3),\n",
                "                \"stratified\": aupr_scores,\n",
                "            },\n",
                "            \"roc\": {\n",
                "                \"overall\": round(np.mean(list(auroc_scores.values())), 3),\n",
                "                \"stratified\": auroc_scores,\n",
                "            },\n",
                "        }\n",
                "\n",
                "        results[model_name] = temp\n",
                "        with open(filename, \"w\") as outfile:\n",
                "            json.dump(results, outfile, indent=4)\n",
                "\n",
                "    return results"
            ]
        },
        {
            "cell_type": "code",
            "execution_count": null,
            "metadata": {
                "id": "q24hserGoKna"
            },
            "outputs": [],
            "source": [
                "dataloaders = {\n",
                "    \"train_loader\": train_loader,\n",
                "    \"valid_loader\": valid_loader,\n",
                "    \"test_loader\": test_loader,\n",
                "}\n",
                "trainer_kwargs = {\n",
                "    \"in_channel\": 3,\n",
                "    \"vae_arch\": \"VAE64\",\n",
                "    \"beta\": 1 / 32,\n",
                "    \"vae_lr\": 1e-4,\n",
                "    \"z_dim\": 64,\n",
                "    \"alpha\": 100,\n",
                "    \"temperature\": 0.3,\n",
                "    \"device\": device,\n",
                "    \"verbose_period\": 2\n",
                "}"
            ]
        },
        {
            "cell_type": "code",
            "execution_count": 15,
            "metadata": {
                "colab": {
                    "base_uri": "https://localhost:8080/"
                },
                "id": "8eEBxW2hpACw",
                "outputId": "443e1e3f-cc8e-4ed3-dba2-76c3132ce529",
                "executionInfo": {
                    "status": "ok",
                    "timestamp": 1747339710873,
                    "user_tz": 240,
                    "elapsed": 2325547,
                    "user": {
                        "displayName": "anonymous",
                        "userId": "10175953867583691140"
                    }
                }
            },
            "outputs": [
                {
                    "metadata": {
                        "tags": null
                    },
                    "name": "stdout",
                    "output_type": "stream",
                    "text": [
                        "\n",
                        "Training baseline:\n"
                    ]
                },
                {
                    "metadata": {
                        "tags": null
                    },
                    "name": "stderr",
                    "output_type": "stream",
                    "text": [
                        "epoch 0: 100%|██████████| 3781/3781 [04:32<00:00, 13.90batch/s, loss=0.0921]\n",
                        "val-epoch 0: 100%|██████████| 946/946 [01:03<00:00, 14.82it/s]\n"
                    ]
                },
                {
                    "metadata": {
                        "tags": null
                    },
                    "name": "stdout",
                    "output_type": "stream",
                    "text": [
                        "val_aupr: {0: np.float64(0.99), 1: np.float64(0.992)}\n",
                        "0.991\n",
                        "val_auroc: {0: np.float64(0.991), 1: np.float64(0.991)}\n",
                        "0.991\n",
                        "val_acc: 0.958\n"
                    ]
                },
                {
                    "metadata": {
                        "tags": null
                    },
                    "name": "stderr",
                    "output_type": "stream",
                    "text": [
                        "epoch 2: 100%|██████████| 3781/3781 [04:31<00:00, 13.91batch/s, loss=0.271]\n",
                        "val-epoch 2: 100%|██████████| 946/946 [01:03<00:00, 14.88it/s]\n"
                    ]
                },
                {
                    "metadata": {
                        "tags": null
                    },
                    "name": "stdout",
                    "output_type": "stream",
                    "text": [
                        "val_aupr: {0: np.float64(0.994), 1: np.float64(0.996)}\n",
                        "0.995\n",
                        "val_auroc: {0: np.float64(0.995), 1: np.float64(0.995)}\n",
                        "0.995\n",
                        "val_acc: 0.968\n"
                    ]
                },
                {
                    "metadata": {
                        "tags": null
                    },
                    "name": "stderr",
                    "output_type": "stream",
                    "text": [
                        "epoch 4: 100%|██████████| 3781/3781 [04:30<00:00, 13.98batch/s, loss=0.0305]\n",
                        "val-epoch 4: 100%|██████████| 946/946 [01:03<00:00, 14.89it/s]\n"
                    ]
                },
                {
                    "metadata": {
                        "tags": null
                    },
                    "name": "stdout",
                    "output_type": "stream",
                    "text": [
                        "val_aupr: {0: np.float64(0.992), 1: np.float64(0.995)}\n",
                        "0.994\n",
                        "val_auroc: {0: np.float64(0.994), 1: np.float64(0.994)}\n",
                        "0.994\n",
                        "val_acc: 0.968\n",
                        "\n",
                        "Training clear:\n"
                    ]
                },
                {
                    "metadata": {
                        "tags": null
                    },
                    "name": "stderr",
                    "output_type": "stream",
                    "text": [
                        "Epoch 0: 100%|██████████| 3781/3781 [05:13<00:00, 12.08batch/s, c_loss=0.0917, kl_c=64.1, kl_s=78.1, recontr_loss=287, s_loss=0.69]\n",
                        "val-epoch 0: 100%|██████████| 946/946 [01:07<00:00, 14.09it/s]\n"
                    ]
                },
                {
                    "metadata": {
                        "tags": null
                    },
                    "name": "stdout",
                    "output_type": "stream",
                    "text": [
                        "val_recontr_loss=283.632, val_kl_c=65.766, val_kl_s=80.368, val_c_loss=0.193, val_s_loss=0.705\n",
                        "gMIG: 0.316; mse: 283.632\n"
                    ]
                },
                {
                    "metadata": {
                        "tags": null
                    },
                    "name": "stderr",
                    "output_type": "stream",
                    "text": [
                        "Epoch 2: 100%|██████████| 3781/3781 [05:17<00:00, 11.90batch/s, c_loss=0.257, kl_c=73.8, kl_s=75.8, recontr_loss=200, s_loss=0.804]\n",
                        "val-epoch 2: 100%|██████████| 946/946 [01:07<00:00, 14.02it/s]\n"
                    ]
                },
                {
                    "metadata": {
                        "tags": null
                    },
                    "name": "stdout",
                    "output_type": "stream",
                    "text": [
                        "val_recontr_loss=139.627, val_kl_c=78.536, val_kl_s=75.521, val_c_loss=0.145, val_s_loss=0.718\n",
                        "gMIG: 0.468; mse: 139.627\n"
                    ]
                },
                {
                    "metadata": {
                        "tags": null
                    },
                    "name": "stderr",
                    "output_type": "stream",
                    "text": [
                        "Epoch 4: 100%|██████████| 3781/3781 [05:17<00:00, 11.91batch/s, c_loss=0.111, kl_c=81.5, kl_s=75.4, recontr_loss=147, s_loss=0.67]\n",
                        "val-epoch 4: 100%|██████████| 946/946 [01:07<00:00, 13.98it/s]\n"
                    ]
                },
                {
                    "metadata": {
                        "tags": null
                    },
                    "name": "stdout",
                    "output_type": "stream",
                    "text": [
                        "val_recontr_loss=126.443, val_kl_c=82.323, val_kl_s=77.141, val_c_loss=0.101, val_s_loss=0.714\n",
                        "gMIG: 0.478; mse: 126.443\n"
                    ]
                },
                {
                    "metadata": {
                        "tags": null
                    },
                    "name": "stderr",
                    "output_type": "stream",
                    "text": [
                        "Epoch 6: 100%|██████████| 3781/3781 [05:17<00:00, 11.91batch/s, c_loss=0.281, kl_c=92.1, kl_s=76.5, recontr_loss=130, s_loss=0.736]\n",
                        "val-epoch 6: 100%|██████████| 946/946 [01:07<00:00, 13.99it/s]\n"
                    ]
                },
                {
                    "metadata": {
                        "tags": null
                    },
                    "name": "stdout",
                    "output_type": "stream",
                    "text": [
                        "val_recontr_loss=122.867, val_kl_c=87.889, val_kl_s=76.984, val_c_loss=0.103, val_s_loss=0.715\n",
                        "gMIG: 0.509; mse: 122.867\n"
                    ]
                },
                {
                    "metadata": {
                        "tags": null
                    },
                    "name": "stderr",
                    "output_type": "stream",
                    "text": [
                        "epoch 0: 100%|██████████| 3781/3781 [04:26<00:00, 14.18batch/s, loss=0.0668]\n",
                        "val-epoch 0: 100%|██████████| 946/946 [01:04<00:00, 14.63it/s]\n"
                    ]
                },
                {
                    "metadata": {
                        "tags": null
                    },
                    "name": "stdout",
                    "output_type": "stream",
                    "text": [
                        "val_aupr: {0: np.float64(0.995), 1: np.float64(0.996)}\n",
                        "0.996\n",
                        "val_auroc: {0: np.float64(0.996), 1: np.float64(0.996)}\n",
                        "0.996\n",
                        "val_acc: 0.974\n",
                        "\n",
                        "Training clear-mim (L1OutUB):\n"
                    ]
                },
                {
                    "metadata": {
                        "tags": null
                    },
                    "name": "stderr",
                    "output_type": "stream",
                    "text": [
                        "Epoch 0: 100%|██████████| 3781/3781 [06:51<00:00,  9.18batch/s, c_loss=0.331, kl_c=55.6, kl_s=63.3, mi_loss=0.746, recontr_loss=338]\n",
                        "val-epoch 0: 100%|██████████| 946/946 [01:07<00:00, 13.96it/s]\n"
                    ]
                },
                {
                    "metadata": {
                        "tags": null
                    },
                    "name": "stdout",
                    "output_type": "stream",
                    "text": [
                        "val_recontr_loss=343.189, val_kl_c=64.877, val_kl_s=64.825, val_c_loss=0.177, val_mi_loss=1.037\n",
                        "gMIG: 0.38; mse: 343.189\n"
                    ]
                },
                {
                    "metadata": {
                        "tags": null
                    },
                    "name": "stderr",
                    "output_type": "stream",
                    "text": [
                        "Epoch 2: 100%|██████████| 3781/3781 [06:51<00:00,  9.19batch/s, c_loss=0.0437, kl_c=73.6, kl_s=75.5, mi_loss=0.0477, recontr_loss=161]\n",
                        "val-epoch 2: 100%|██████████| 946/946 [01:07<00:00, 14.01it/s]\n"
                    ]
                },
                {
                    "metadata": {
                        "tags": null
                    },
                    "name": "stdout",
                    "output_type": "stream",
                    "text": [
                        "val_recontr_loss=165.260, val_kl_c=79.039, val_kl_s=75.270, val_c_loss=0.114, val_mi_loss=0.601\n",
                        "gMIG: 0.495; mse: 165.26\n"
                    ]
                },
                {
                    "metadata": {
                        "tags": null
                    },
                    "name": "stderr",
                    "output_type": "stream",
                    "text": [
                        "Epoch 4: 100%|██████████| 3781/3781 [06:51<00:00,  9.18batch/s, c_loss=0.199, kl_c=78.6, kl_s=78.4, mi_loss=0.51, recontr_loss=123]\n",
                        "val-epoch 4: 100%|██████████| 946/946 [01:07<00:00, 13.97it/s]\n"
                    ]
                },
                {
                    "metadata": {
                        "tags": null
                    },
                    "name": "stdout",
                    "output_type": "stream",
                    "text": [
                        "val_recontr_loss=125.490, val_kl_c=80.862, val_kl_s=79.044, val_c_loss=0.094, val_mi_loss=0.645\n",
                        "gMIG: 0.428; mse: 125.49\n"
                    ]
                },
                {
                    "metadata": {
                        "tags": null
                    },
                    "name": "stderr",
                    "output_type": "stream",
                    "text": [
                        "Epoch 6: 100%|██████████| 3781/3781 [06:52<00:00,  9.18batch/s, c_loss=0.0227, kl_c=79.2, kl_s=76.1, mi_loss=0.0903, recontr_loss=110]\n",
                        "val-epoch 6: 100%|██████████| 946/946 [01:07<00:00, 13.98it/s]\n"
                    ]
                },
                {
                    "metadata": {
                        "tags": null
                    },
                    "name": "stdout",
                    "output_type": "stream",
                    "text": [
                        "val_recontr_loss=123.564, val_kl_c=82.031, val_kl_s=75.552, val_c_loss=0.097, val_mi_loss=0.051\n",
                        "gMIG: 0.402; mse: 123.564\n"
                    ]
                },
                {
                    "metadata": {
                        "tags": null
                    },
                    "name": "stderr",
                    "output_type": "stream",
                    "text": [
                        "epoch 0: 100%|██████████| 3781/3781 [04:26<00:00, 14.19batch/s, loss=0.0135]\n",
                        "val-epoch 0: 100%|██████████| 946/946 [01:03<00:00, 14.83it/s]\n"
                    ]
                },
                {
                    "metadata": {
                        "tags": null
                    },
                    "name": "stdout",
                    "output_type": "stream",
                    "text": [
                        "val_aupr: {0: np.float64(0.994), 1: np.float64(0.996)}\n",
                        "0.995\n",
                        "val_auroc: {0: np.float64(0.995), 1: np.float64(0.995)}\n",
                        "0.995\n",
                        "val_acc: 0.972\n",
                        "\n",
                        "Training clear-mim (CLUB-S):\n"
                    ]
                },
                {
                    "metadata": {
                        "tags": null
                    },
                    "name": "stderr",
                    "output_type": "stream",
                    "text": [
                        "Epoch 0: 100%|██████████| 3781/3781 [06:48<00:00,  9.26batch/s, c_loss=0.324, kl_c=38.9, kl_s=45.9, mi_loss=0.81, recontr_loss=395]\n",
                        "val-epoch 0: 100%|██████████| 946/946 [01:07<00:00, 14.05it/s]\n"
                    ]
                },
                {
                    "metadata": {
                        "tags": null
                    },
                    "name": "stdout",
                    "output_type": "stream",
                    "text": [
                        "val_recontr_loss=375.601, val_kl_c=44.715, val_kl_s=50.622, val_c_loss=0.305, val_mi_loss=1.529\n",
                        "gMIG: 0.176; mse: 375.601\n"
                    ]
                },
                {
                    "metadata": {
                        "tags": null
                    },
                    "name": "stderr",
                    "output_type": "stream",
                    "text": [
                        "Epoch 2: 100%|██████████| 3781/3781 [06:48<00:00,  9.26batch/s, c_loss=0.215, kl_c=42.8, kl_s=59.4, mi_loss=0.279, recontr_loss=159]\n",
                        "val-epoch 2: 100%|██████████| 946/946 [01:07<00:00, 14.11it/s]\n"
                    ]
                },
                {
                    "metadata": {
                        "tags": null
                    },
                    "name": "stdout",
                    "output_type": "stream",
                    "text": [
                        "val_recontr_loss=175.860, val_kl_c=46.510, val_kl_s=61.529, val_c_loss=0.218, val_mi_loss=0.742\n",
                        "gMIG: 0.289; mse: 175.86\n"
                    ]
                },
                {
                    "metadata": {
                        "tags": null
                    },
                    "name": "stderr",
                    "output_type": "stream",
                    "text": [
                        "Epoch 4: 100%|██████████| 3781/3781 [06:48<00:00,  9.26batch/s, c_loss=0.268, kl_c=54.6, kl_s=68.8, mi_loss=0.732, recontr_loss=143]\n",
                        "val-epoch 4: 100%|██████████| 946/946 [01:07<00:00, 14.03it/s]\n"
                    ]
                },
                {
                    "metadata": {
                        "tags": null
                    },
                    "name": "stdout",
                    "output_type": "stream",
                    "text": [
                        "val_recontr_loss=148.325, val_kl_c=55.558, val_kl_s=68.469, val_c_loss=0.168, val_mi_loss=0.601\n",
                        "gMIG: 0.375; mse: 148.325\n"
                    ]
                },
                {
                    "metadata": {
                        "tags": null
                    },
                    "name": "stderr",
                    "output_type": "stream",
                    "text": [
                        "Epoch 6: 100%|██████████| 3781/3781 [06:43<00:00,  9.37batch/s, c_loss=0.0755, kl_c=77.6, kl_s=74.9, mi_loss=-0.0814, recontr_loss=136]\n",
                        "val-epoch 6: 100%|██████████| 946/946 [01:06<00:00, 14.16it/s]\n"
                    ]
                },
                {
                    "metadata": {
                        "tags": null
                    },
                    "name": "stdout",
                    "output_type": "stream",
                    "text": [
                        "val_recontr_loss=128.278, val_kl_c=81.469, val_kl_s=72.009, val_c_loss=0.114, val_mi_loss=0.064\n",
                        "gMIG: 0.516; mse: 128.278\n"
                    ]
                },
                {
                    "metadata": {
                        "tags": null
                    },
                    "name": "stderr",
                    "output_type": "stream",
                    "text": [
                        "epoch 0: 100%|██████████| 3781/3781 [04:24<00:00, 14.31batch/s, loss=0.111]\n",
                        "val-epoch 0: 100%|██████████| 946/946 [01:03<00:00, 14.87it/s]\n"
                    ]
                },
                {
                    "metadata": {
                        "tags": null
                    },
                    "name": "stdout",
                    "output_type": "stream",
                    "text": [
                        "val_aupr: {0: np.float64(0.993), 1: np.float64(0.994)}\n",
                        "0.994\n",
                        "val_auroc: {0: np.float64(0.994), 1: np.float64(0.994)}\n",
                        "0.994\n",
                        "val_acc: 0.966\n",
                        "\n",
                        "Training lamcnn:\n"
                    ]
                },
                {
                    "metadata": {
                        "tags": null
                    },
                    "name": "stderr",
                    "output_type": "stream",
                    "text": [
                        "epoch 0: 100%|██████████| 3781/3781 [04:54<00:00, 12.82batch/s, ce_loss=0.157, lam_loss=0.709]\n",
                        "val-epoch 0: 100%|██████████| 946/946 [01:03<00:00, 15.00it/s]\n"
                    ]
                },
                {
                    "metadata": {
                        "tags": null
                    },
                    "name": "stdout",
                    "output_type": "stream",
                    "text": [
                        "val_aupr: {0: np.float64(0.992), 1: np.float64(0.993)}\n",
                        "0.992\n",
                        "val_auroc: {0: np.float64(0.993), 1: np.float64(0.993)}\n",
                        "0.993\n",
                        "val_acc: 0.962\n"
                    ]
                },
                {
                    "metadata": {
                        "tags": null
                    },
                    "name": "stderr",
                    "output_type": "stream",
                    "text": [
                        "epoch 2: 100%|██████████| 3781/3781 [04:54<00:00, 12.85batch/s, ce_loss=0.058, lam_loss=0.636]\n",
                        "val-epoch 2: 100%|██████████| 946/946 [01:03<00:00, 15.01it/s]\n"
                    ]
                },
                {
                    "metadata": {
                        "tags": null
                    },
                    "name": "stdout",
                    "output_type": "stream",
                    "text": [
                        "val_aupr: {0: np.float64(0.995), 1: np.float64(0.996)}\n",
                        "0.996\n",
                        "val_auroc: {0: np.float64(0.996), 1: np.float64(0.996)}\n",
                        "0.996\n",
                        "val_acc: 0.969\n"
                    ]
                },
                {
                    "metadata": {
                        "tags": null
                    },
                    "name": "stderr",
                    "output_type": "stream",
                    "text": [
                        "epoch 4: 100%|██████████| 3781/3781 [04:54<00:00, 12.85batch/s, ce_loss=0.331, lam_loss=0.967]\n",
                        "val-epoch 4: 100%|██████████| 946/946 [01:02<00:00, 15.03it/s]\n"
                    ]
                },
                {
                    "metadata": {
                        "tags": null
                    },
                    "name": "stdout",
                    "output_type": "stream",
                    "text": [
                        "val_aupr: {0: np.float64(0.992), 1: np.float64(0.993)}\n",
                        "0.992\n",
                        "val_auroc: {0: np.float64(0.993), 1: np.float64(0.993)}\n",
                        "0.993\n",
                        "val_acc: 0.96\n",
                        "\n",
                        "Training gvae:\n"
                    ]
                },
                {
                    "metadata": {
                        "tags": null
                    },
                    "name": "stderr",
                    "output_type": "stream",
                    "text": [
                        "epoch 0: 100%|██████████| 3781/3781 [05:03<00:00, 12.44batch/s, kl_c=60.6, kl_s=1.15e+3, reconstr_loss=4.19e+3]\n",
                        "val-epoch 0: 100%|██████████| 946/946 [01:04<00:00, 14.65it/s]\n"
                    ]
                },
                {
                    "metadata": {
                        "tags": null
                    },
                    "name": "stdout",
                    "output_type": "stream",
                    "text": [
                        "val_recontr_loss=278.514, val_kl_c=84.839, val_kl_s=80.459\n",
                        "gMIG: -0.001; mse: 278.514\n"
                    ]
                },
                {
                    "metadata": {
                        "tags": null
                    },
                    "name": "stderr",
                    "output_type": "stream",
                    "text": [
                        "epoch 2: 100%|██████████| 3781/3781 [05:04<00:00, 12.43batch/s, kl_c=67.1, kl_s=1.1e+3, reconstr_loss=2.04e+3]\n",
                        "val-epoch 2: 100%|██████████| 946/946 [01:05<00:00, 14.52it/s]\n"
                    ]
                },
                {
                    "metadata": {
                        "tags": null
                    },
                    "name": "stdout",
                    "output_type": "stream",
                    "text": [
                        "val_recontr_loss=149.989, val_kl_c=76.369, val_kl_s=81.860\n",
                        "gMIG: 0.051; mse: 149.989\n"
                    ]
                },
                {
                    "metadata": {
                        "tags": null
                    },
                    "name": "stderr",
                    "output_type": "stream",
                    "text": [
                        "epoch 4: 100%|██████████| 3781/3781 [05:04<00:00, 12.42batch/s, kl_c=70.6, kl_s=1.14e+3, reconstr_loss=2.03e+3]\n",
                        "val-epoch 4: 100%|██████████| 946/946 [01:05<00:00, 14.54it/s]\n"
                    ]
                },
                {
                    "metadata": {
                        "tags": null
                    },
                    "name": "stdout",
                    "output_type": "stream",
                    "text": [
                        "val_recontr_loss=136.634, val_kl_c=77.745, val_kl_s=81.057\n",
                        "gMIG: 0.125; mse: 136.634\n"
                    ]
                },
                {
                    "metadata": {
                        "tags": null
                    },
                    "name": "stderr",
                    "output_type": "stream",
                    "text": [
                        "epoch 6: 100%|██████████| 3781/3781 [05:03<00:00, 12.45batch/s, kl_c=69.5, kl_s=1.14e+3, reconstr_loss=2.07e+3]\n",
                        "val-epoch 6: 100%|██████████| 946/946 [01:04<00:00, 14.55it/s]\n"
                    ]
                },
                {
                    "metadata": {
                        "tags": null
                    },
                    "name": "stdout",
                    "output_type": "stream",
                    "text": [
                        "val_recontr_loss=136.613, val_kl_c=81.123, val_kl_s=85.059\n",
                        "gMIG: 0.128; mse: 136.613\n"
                    ]
                },
                {
                    "metadata": {
                        "tags": null
                    },
                    "name": "stderr",
                    "output_type": "stream",
                    "text": [
                        "epoch 0: 100%|██████████| 3781/3781 [04:24<00:00, 14.29batch/s, loss=0.38]\n",
                        "val-epoch 0: 100%|██████████| 946/946 [01:03<00:00, 14.83it/s]\n"
                    ]
                },
                {
                    "metadata": {
                        "tags": null
                    },
                    "name": "stdout",
                    "output_type": "stream",
                    "text": [
                        "val_aupr: {0: np.float64(0.928), 1: np.float64(0.931)}\n",
                        "0.93\n",
                        "val_auroc: {0: np.float64(0.931), 1: np.float64(0.931)}\n",
                        "0.931\n",
                        "val_acc: 0.857\n",
                        "\n",
                        "Training mlvae:\n"
                    ]
                },
                {
                    "metadata": {
                        "tags": null
                    },
                    "name": "stderr",
                    "output_type": "stream",
                    "text": [
                        "epoch 0: 100%|██████████| 3781/3781 [05:09<00:00, 12.23batch/s, kl_c=50.2, kl_s=1.17e+3, reconstr_loss=4.06e+3]\n",
                        "val-epoch 0: 100%|██████████| 946/946 [01:05<00:00, 14.55it/s]\n"
                    ]
                },
                {
                    "metadata": {
                        "tags": null
                    },
                    "name": "stdout",
                    "output_type": "stream",
                    "text": [
                        "val_recontr_loss=331.781, val_kl_c=6349.901, val_kl_s=82.411\n",
                        "gMIG: -0.01; mse: 331.781\n"
                    ]
                },
                {
                    "output_type": "stream",
                    "name": "stderr",
                    "text": [
                        "epoch 2: 100%|██████████| 3781/3781 [05:08<00:00, 12.24batch/s, kl_c=58, kl_s=1.25e+3, reconstr_loss=2.57e+3]\n",
                        "val-epoch 2: 100%|██████████| 946/946 [01:04<00:00, 14.56it/s]\n"
                    ]
                },
                {
                    "output_type": "stream",
                    "name": "stdout",
                    "text": [
                        "val_recontr_loss=176.505, val_kl_c=4789594.500, val_kl_s=84.460\n",
                        "gMIG: -0.006; mse: 176.505\n"
                    ]
                },
                {
                    "output_type": "stream",
                    "name": "stderr",
                    "text": [
                        "epoch 4: 100%|██████████| 3781/3781 [05:04<00:00, 12.40batch/s, kl_c=47.7, kl_s=1.13e+3, reconstr_loss=2.1e+3]\n",
                        "val-epoch 4: 100%|██████████| 946/946 [01:04<00:00, 14.68it/s]\n"
                    ]
                },
                {
                    "output_type": "stream",
                    "name": "stdout",
                    "text": [
                        "val_recontr_loss=182.324, val_kl_c=333151200.000, val_kl_s=81.579\n",
                        "gMIG: 0.018; mse: 182.324\n"
                    ]
                },
                {
                    "output_type": "stream",
                    "name": "stderr",
                    "text": [
                        "epoch 6: 100%|██████████| 3781/3781 [05:03<00:00, 12.46batch/s, kl_c=50.9, kl_s=1.09e+3, reconstr_loss=2.02e+3]\n",
                        "val-epoch 6: 100%|██████████| 946/946 [01:04<00:00, 14.72it/s]\n"
                    ]
                },
                {
                    "output_type": "stream",
                    "name": "stdout",
                    "text": [
                        "val_recontr_loss=172.421, val_kl_c=50106556.000, val_kl_s=78.458\n",
                        "gMIG: 0.025; mse: 172.421\n"
                    ]
                },
                {
                    "output_type": "stream",
                    "name": "stderr",
                    "text": [
                        "epoch 0: 100%|██████████| 3781/3781 [04:20<00:00, 14.49batch/s, loss=0.31]\n",
                        "val-epoch 0: 100%|██████████| 946/946 [01:02<00:00, 15.02it/s]\n"
                    ]
                },
                {
                    "output_type": "stream",
                    "name": "stdout",
                    "text": [
                        "val_aupr: {0: np.float64(0.933), 1: np.float64(0.932)}\n",
                        "0.933\n",
                        "val_auroc: {0: np.float64(0.933), 1: np.float64(0.933)}\n",
                        "0.933\n",
                        "val_acc: 0.859\n"
                    ]
                }
            ],
            "source": [
                "for i in range(1):\n",
                "    s = np.random.randint(1000)\n",
                "    np.random.seed(s)\n",
                "    torch.manual_seed(s)\n",
                "    rlt = experiment(dataloaders, trainer_kwargs, 7, run_index=s)\n"
            ]
        },
        {
            "cell_type": "code",
            "execution_count": null,
            "metadata": {
                "id": "y-B9WxgnvQG3",
                "colab": {
                    "base_uri": "https://localhost:8080/"
                },
                "outputId": "e588c63d-895b-4ab0-a08c-454620991b87"
            },
            "outputs": [
                {
                    "output_type": "stream",
                    "name": "stderr",
                    "text": [
                        "100%|██████████| 9/9 [00:09<00:00,  1.00s/it]"
                    ]
                }
            ],
            "source": [
                "from tqdm import tqdm\n",
                "import time\n",
                "\n",
                "for i in tqdm(range(9)):\n",
                "    time.sleep(1)\n",
                "\n",
                "!kill $(ps aux | awk '{print $2}')"
            ]
        }
    ],
    "metadata": {
        "accelerator": "GPU",
        "colab": {
            "gpuType": "L4",
            "machine_shape": "hm",
            "provenance": [],
            "authorship_tag": "ABX9TyOstQx0xbx99EtZntmXik+4"
        },
        "kernelspec": {
            "display_name": "Python 3",
            "name": "python3"
        },
        "language_info": {
            "name": "python"
        }
    },
    "nbformat": 4,
    "nbformat_minor": 0
}