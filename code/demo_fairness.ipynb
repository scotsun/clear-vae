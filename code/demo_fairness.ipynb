{
  "cells": [
    {
      "cell_type": "code",
      "execution_count": 1,
      "metadata": {
        "id": "lWnGaRTQYhxX"
      },
      "outputs": [],
      "source": [
        "from src.losses import auc\n",
        "import torch\n",
        "import torchvision\n",
        "import torchvision.transforms as transforms\n",
        "import numpy as np\n",
        "from tqdm import tqdm\n",
        "\n",
        "from torch.utils.data import DataLoader, random_split\n",
        "import matplotlib.pyplot as plt\n",
        "from torchvision.utils import make_grid\n",
        "\n",
        "from corruption_utils import corruptions\n",
        "\n",
        "%load_ext autoreload\n",
        "%autoreload 2"
      ]
    },
    {
      "cell_type": "code",
      "execution_count": 2,
      "metadata": {
        "id": "NzgAgndYYpWu"
      },
      "outputs": [],
      "source": [
        "%%capture\n",
        "mnist = torchvision.datasets.MNIST(\"../data\", train=True, download=True)\n",
        "# mnist = torchvision.datasets.FashionMNIST(\"../data\", train=True, download=True)"
      ]
    },
    {
      "cell_type": "code",
      "execution_count": 3,
      "metadata": {},
      "outputs": [],
      "source": [
        "device = \"cuda\" if torch.cuda.is_available() else \"cpu\""
      ]
    },
    {
      "cell_type": "markdown",
      "metadata": {},
      "source": [
        "### out-of-distribution"
      ]
    },
    {
      "cell_type": "code",
      "execution_count": 4,
      "metadata": {},
      "outputs": [],
      "source": [
        "from expr.expr_utils import generate_style_dict, KStyledMNISTGenerator, KStyledMNIST"
      ]
    },
    {
      "cell_type": "code",
      "execution_count": 5,
      "metadata": {},
      "outputs": [
        {
          "data": {
            "text/plain": [
              "<torch._C.Generator at 0x27b7e5169b0>"
            ]
          },
          "execution_count": 5,
          "metadata": {},
          "output_type": "execute_result"
        }
      ],
      "source": [
        "np.random.seed(101)\n",
        "torch.manual_seed(101)"
      ]
    },
    {
      "cell_type": "code",
      "execution_count": 6,
      "metadata": {},
      "outputs": [],
      "source": [
        "style_fns = [\n",
        "    corruptions.identity,\n",
        "    corruptions.stripe,\n",
        "    corruptions.zigzag,\n",
        "    corruptions.canny_edges,\n",
        "    lambda x: corruptions.scale(x, 5),\n",
        "    corruptions.brightness,\n",
        "]\n",
        "K = 3\n"
      ]
    },
    {
      "cell_type": "code",
      "execution_count": 7,
      "metadata": {
        "colab": {
          "base_uri": "https://localhost:8080/"
        },
        "id": "4Xl-lmReQPop",
        "outputId": "f5838243-225b-4e69-de60-e70bf55453c5"
      },
      "outputs": [
        {
          "name": "stderr",
          "output_type": "stream",
          "text": [
            "Generating dataset: 100%|██████████| 50000/50000 [00:12<00:00, 3999.76item/s]\n",
            "Generating dataset: 100%|██████████| 10000/10000 [00:01<00:00, 5470.32item/s]\n"
          ]
        }
      ],
      "source": [
        "mnist = torchvision.datasets.MNIST(\"../data\", train=True)\n",
        "mnist_train, mnist_test = random_split(mnist, [50000, 10000])\n",
        "style_dict = generate_style_dict(\n",
        "    classes=list(range(10)), styles=list(range(len(style_fns))), k=K\n",
        ")\n",
        "mnist_generator = KStyledMNISTGenerator(mnist_train, style_fns, style_dict, \"train\")\n",
        "train = KStyledMNIST(\n",
        "    mnist_generator,\n",
        "    transforms.Compose([transforms.ToTensor(), lambda img: img / 255.0]),\n",
        ")\n",
        "mnist_generator = KStyledMNISTGenerator(mnist_test, style_fns, style_dict, \"test\")\n",
        "test = KStyledMNIST(\n",
        "    mnist_generator,\n",
        "    transforms.Compose([transforms.ToTensor(), lambda img: img / 255.0]),\n",
        ")\n",
        "train, valid = random_split(train, [0.85, 0.15])"
      ]
    },
    {
      "cell_type": "code",
      "execution_count": 8,
      "metadata": {},
      "outputs": [
        {
          "data": {
            "text/plain": [
              "{0: {'train': array([0, 5, 4]), 'test': array([1, 2, 3])},\n",
              " 1: {'train': array([2, 5, 3]), 'test': array([0, 1, 4])},\n",
              " 2: {'train': array([3, 1, 2]), 'test': array([0, 4, 5])},\n",
              " 3: {'train': array([3, 5, 2]), 'test': array([0, 1, 4])},\n",
              " 4: {'train': array([1, 0, 2]), 'test': array([3, 4, 5])},\n",
              " 5: {'train': array([4, 5, 2]), 'test': array([0, 1, 3])},\n",
              " 6: {'train': array([2, 1, 0]), 'test': array([3, 4, 5])},\n",
              " 7: {'train': array([3, 5, 4]), 'test': array([0, 1, 2])},\n",
              " 8: {'train': array([1, 0, 2]), 'test': array([3, 4, 5])},\n",
              " 9: {'train': array([3, 4, 2]), 'test': array([0, 1, 5])}}"
            ]
          },
          "execution_count": 8,
          "metadata": {},
          "output_type": "execute_result"
        }
      ],
      "source": [
        "style_dict"
      ]
    },
    {
      "cell_type": "markdown",
      "metadata": {},
      "source": [
        "### Experiment"
      ]
    },
    {
      "cell_type": "code",
      "execution_count": 9,
      "metadata": {},
      "outputs": [
        {
          "data": {
            "image/png": "[encoded data removed]",
            "text/plain": [
              "<Figure size 640x480 with 1 Axes>"
            ]
          },
          "metadata": {},
          "output_type": "display_data"
        }
      ],
      "source": [
        "test_loader = DataLoader(test, batch_size=32, shuffle=False)\n",
        "\n",
        "X, label, style = next(iter(test_loader))\n",
        "X = X.to(device)\n",
        "label = label.to(device)\n",
        "\n",
        "plt.imshow(\n",
        "    make_grid(X.cpu(), nrow=16).permute(1, 2, 0)\n",
        ")\n",
        "plt.axis('off')\n",
        "plt.show()\n"
      ]
    },
    {
      "cell_type": "code",
      "execution_count": 10,
      "metadata": {},
      "outputs": [],
      "source": [
        "train_loader = DataLoader(train, batch_size=128, shuffle=True)\n",
        "valid_loader = DataLoader(valid, batch_size=128, shuffle=False)"
      ]
    },
    {
      "cell_type": "code",
      "execution_count": 11,
      "metadata": {},
      "outputs": [],
      "source": [
        "from src.utils.trainer_utils import get_cnn_trainer, get_clearvae_trainer, get_lamcnn_trainer"
      ]
    },
    {
      "cell_type": "code",
      "execution_count": null,
      "metadata": {},
      "outputs": [],
      "source": [
        "cnn_trainer = get_cnn_trainer(10, device)\n",
        "cnn_trainer.fit(51, train_loader, valid_loader)"
      ]
    },
    {
      "cell_type": "code",
      "execution_count": 42,
      "metadata": {},
      "outputs": [
        {
          "name": "stdout",
          "output_type": "stream",
          "text": [
            "m_auc: 0.886\n",
            "m_ap: 0.538\n",
            "acc: tensor(0.4812)\n"
          ]
        }
      ],
      "source": [
        "(aps, aucs), acc = cnn_trainer.evaluate(test_loader, False, 0)\n",
        "print(\"m_auc:\", np.mean(list(aucs.values())).round(3))\n",
        "print(\"m_ap:\", np.mean(list(aps.values())).round(3))\n",
        "print(\"acc:\", acc)"
      ]
    },
    {
      "cell_type": "code",
      "execution_count": 56,
      "metadata": {},
      "outputs": [
        {
          "name": "stderr",
          "output_type": "stream",
          "text": [
            "epoch 0: 100%|██████████| 333/333 [00:02<00:00, 113.28batch/s, ce_loss=0.0736, lam_loss=0.275]\n",
            "val-epoch 0: 100%|██████████| 59/59 [00:00<00:00, 546.40it/s]\n"
          ]
        },
        {
          "name": "stdout",
          "output_type": "stream",
          "text": [
            "val_aupr: {0: 0.995, 1: 0.987, 2: 0.971, 3: 0.963, 4: 0.985, 5: 0.968, 6: 0.99, 7: 0.97, 8: 0.965, 9: 0.93}\n",
            "0.972\n",
            "val_auroc: {0: 0.999, 1: 0.997, 2: 0.996, 3: 0.995, 4: 0.998, 5: 0.994, 6: 0.999, 7: 0.995, 8: 0.994, 9: 0.99}\n",
            "0.996\n",
            "val_acc: 0.922\n"
          ]
        },
        {
          "name": "stderr",
          "output_type": "stream",
          "text": [
            "epoch 5: 100%|██████████| 333/333 [00:02<00:00, 125.24batch/s, ce_loss=0.0231, lam_loss=0]    \n",
            "val-epoch 5: 100%|██████████| 59/59 [00:00<00:00, 559.97it/s]\n"
          ]
        },
        {
          "name": "stdout",
          "output_type": "stream",
          "text": [
            "val_aupr: {0: 1.0, 1: 0.997, 2: 0.996, 3: 0.994, 4: 0.999, 5: 0.994, 6: 0.999, 7: 0.995, 8: 0.996, 9: 0.993}\n",
            "0.996\n",
            "val_auroc: {0: 1.0, 1: 0.999, 2: 0.999, 3: 0.999, 4: 1.0, 5: 0.999, 6: 1.0, 7: 0.999, 8: 1.0, 9: 0.999}\n",
            "0.999\n",
            "val_acc: 0.975\n"
          ]
        },
        {
          "name": "stderr",
          "output_type": "stream",
          "text": [
            "epoch 10: 100%|██████████| 333/333 [00:02<00:00, 121.72batch/s, ce_loss=0.0661, lam_loss=0.857]\n",
            "val-epoch 10: 100%|██████████| 59/59 [00:00<00:00, 546.51it/s]\n"
          ]
        },
        {
          "name": "stdout",
          "output_type": "stream",
          "text": [
            "val_aupr: {0: 1.0, 1: 0.998, 2: 0.997, 3: 0.996, 4: 0.999, 5: 0.996, 6: 0.999, 7: 0.996, 8: 0.998, 9: 0.994}\n",
            "0.997\n",
            "val_auroc: {0: 1.0, 1: 1.0, 2: 1.0, 3: 1.0, 4: 1.0, 5: 0.999, 6: 1.0, 7: 1.0, 8: 1.0, 9: 0.999}\n",
            "1.0\n",
            "val_acc: 0.978\n"
          ]
        },
        {
          "name": "stderr",
          "output_type": "stream",
          "text": [
            "epoch 15: 100%|██████████| 333/333 [00:02<00:00, 125.84batch/s, ce_loss=0.00934, lam_loss=0]   \n",
            "val-epoch 15: 100%|██████████| 59/59 [00:00<00:00, 591.28it/s]\n"
          ]
        },
        {
          "name": "stdout",
          "output_type": "stream",
          "text": [
            "val_aupr: {0: 1.0, 1: 0.999, 2: 0.997, 3: 0.997, 4: 0.999, 5: 0.997, 6: 0.999, 7: 0.997, 8: 0.998, 9: 0.995}\n",
            "0.998\n",
            "val_auroc: {0: 1.0, 1: 1.0, 2: 1.0, 3: 1.0, 4: 1.0, 5: 1.0, 6: 1.0, 7: 1.0, 8: 1.0, 9: 0.999}\n",
            "1.0\n",
            "val_acc: 0.981\n"
          ]
        },
        {
          "name": "stderr",
          "output_type": "stream",
          "text": [
            "epoch 20: 100%|██████████| 333/333 [00:02<00:00, 124.66batch/s, ce_loss=0.0324, lam_loss=2.07]  \n",
            "val-epoch 20: 100%|██████████| 59/59 [00:00<00:00, 581.46it/s]\n"
          ]
        },
        {
          "name": "stdout",
          "output_type": "stream",
          "text": [
            "val_aupr: {0: 1.0, 1: 0.998, 2: 0.997, 3: 0.997, 4: 0.999, 5: 0.997, 6: 0.999, 7: 0.996, 8: 0.998, 9: 0.995}\n",
            "0.998\n",
            "val_auroc: {0: 1.0, 1: 1.0, 2: 0.999, 3: 1.0, 4: 1.0, 5: 1.0, 6: 1.0, 7: 1.0, 8: 1.0, 9: 0.999}\n",
            "1.0\n",
            "val_acc: 0.981\n"
          ]
        },
        {
          "name": "stderr",
          "output_type": "stream",
          "text": [
            "epoch 25: 100%|██████████| 333/333 [00:02<00:00, 126.45batch/s, ce_loss=0.00702, lam_loss=1.6]  \n",
            "val-epoch 25: 100%|██████████| 59/59 [00:00<00:00, 612.43it/s]\n"
          ]
        },
        {
          "name": "stdout",
          "output_type": "stream",
          "text": [
            "val_aupr: {0: 1.0, 1: 0.998, 2: 0.997, 3: 0.997, 4: 0.999, 5: 0.997, 6: 1.0, 7: 0.997, 8: 0.998, 9: 0.996}\n",
            "0.998\n",
            "val_auroc: {0: 1.0, 1: 1.0, 2: 0.999, 3: 1.0, 4: 1.0, 5: 1.0, 6: 1.0, 7: 1.0, 8: 1.0, 9: 0.999}\n",
            "1.0\n",
            "val_acc: 0.981\n"
          ]
        },
        {
          "name": "stderr",
          "output_type": "stream",
          "text": [
            "epoch 30: 100%|██████████| 333/333 [00:02<00:00, 123.33batch/s, ce_loss=0.00139, lam_loss=2.28] \n",
            "val-epoch 30: 100%|██████████| 59/59 [00:00<00:00, 580.33it/s]\n"
          ]
        },
        {
          "name": "stdout",
          "output_type": "stream",
          "text": [
            "val_aupr: {0: 1.0, 1: 0.998, 2: 0.997, 3: 0.997, 4: 0.999, 5: 0.997, 6: 0.999, 7: 0.997, 8: 0.998, 9: 0.996}\n",
            "0.998\n",
            "val_auroc: {0: 1.0, 1: 1.0, 2: 0.999, 3: 1.0, 4: 1.0, 5: 1.0, 6: 1.0, 7: 1.0, 8: 1.0, 9: 0.999}\n",
            "1.0\n",
            "val_acc: 0.983\n"
          ]
        }
      ],
      "source": [
        "lamcnn_trainer = get_lamcnn_trainer(10, device, lam_coef=0.0001)\n",
        "lamcnn_trainer.fit(31, train_loader, valid_loader)"
      ]
    },
    {
      "cell_type": "code",
      "execution_count": 58,
      "metadata": {},
      "outputs": [
        {
          "name": "stdout",
          "output_type": "stream",
          "text": [
            "m_auc: 0.911\n",
            "m_ap: 0.606\n",
            "acc: tensor(0.5259)\n"
          ]
        }
      ],
      "source": [
        "(aps, aucs), acc = lamcnn_trainer.evaluate(test_loader, False, 0)\n",
        "print(\"m_auc:\", np.mean(list(aucs.values())).round(3))\n",
        "print(\"m_ap:\", np.mean(list(aps.values())).round(3))\n",
        "print(\"acc:\", acc)"
      ]
    },
    {
      "cell_type": "code",
      "execution_count": null,
      "metadata": {},
      "outputs": [],
      "source": [
        "clear_trainer = get_clearvae_trainer(1/8, True, 5e-4, 16, 100, 0.1, device)\n",
        "clear_trainer.fit(31, train_loader, valid_loader)"
      ]
    },
    {
      "cell_type": "code",
      "execution_count": 19,
      "metadata": {},
      "outputs": [],
      "source": [
        "import torch.nn as nn\n",
        "from src.trainer import DownstreamMLPTrainer"
      ]
    },
    {
      "cell_type": "code",
      "execution_count": null,
      "metadata": {},
      "outputs": [],
      "source": [
        "z_dim = clear_trainer.model.z_dim  # which is 1/2 * total_z_dim\n",
        "device = clear_trainer.device\n",
        "# Freeze VAE parameters\n",
        "for p in clear_trainer.model.parameters():\n",
        "    p.requires_grad = False\n",
        "\n",
        "# Create and train MLP classifier\n",
        "mlp = nn.Sequential(\n",
        "    nn.Linear(z_dim, 256),\n",
        "    nn.BatchNorm1d(256),\n",
        "    nn.ReLU(),\n",
        "    nn.Linear(256, 10),\n",
        ").to(device)\n",
        "optimizer = torch.optim.Adam(mlp.parameters(), lr=3e-4)\n",
        "criterion = nn.CrossEntropyLoss()\n",
        "\n",
        "trainer = DownstreamMLPTrainer(\n",
        "    clear_trainer.model, mlp, optimizer, criterion, 10, device\n",
        ")\n",
        "trainer.fit(11, train_loader, valid_loader)"
      ]
    },
    {
      "cell_type": "code",
      "execution_count": 21,
      "metadata": {},
      "outputs": [
        {
          "name": "stdout",
          "output_type": "stream",
          "text": [
            "m_auc: 0.924\n",
            "m_ap: 0.687\n",
            "acc: tensor(0.5901)\n"
          ]
        }
      ],
      "source": [
        "(aps, aucs), acc = trainer.evaluate(test_loader, False, 0)\n",
        "print(\"m_auc:\", np.mean(list(aucs.values())).round(3))\n",
        "print(\"m_ap:\", np.mean(list(aps.values())).round(3))\n",
        "print(\"acc:\", acc)"
      ]
    }
  ],
  "metadata": {
    "accelerator": "GPU",
    "colab": {
      "gpuType": "V100",
      "provenance": []
    },
    "kernelspec": {
      "display_name": "research",
      "language": "python",
      "name": "python3"
    },
    "language_info": {
      "codemirror_mode": {
        "name": "ipython",
        "version": 3
      },
      "file_extension": ".py",
      "mimetype": "text/x-python",
      "name": "python",
      "nbconvert_exporter": "python",
      "pygments_lexer": "ipython3",
      "version": "3.10.4"
    }
  },
  "nbformat": 4,
  "nbformat_minor": 0
}
