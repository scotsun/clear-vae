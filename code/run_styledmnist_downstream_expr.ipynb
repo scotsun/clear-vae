{
 "cells": [
  {
   "cell_type": "code",
   "execution_count": 1,
   "metadata": {
    "colab": {
     "base_uri": "https://localhost:8080/"
    },
    "executionInfo": {
     "elapsed": 7750,
     "status": "ok",
     "timestamp": 1744035388136,
     "user": {
      "displayName": "Scott Sun",
      "userId": "10175953867583691140"
     },
     "user_tz": 240
    },
    "id": "CtYoyms5IAO7",
    "outputId": "e3342aeb-efa2-4719-961d-7fb2ba7248b2"
   },
   "outputs": [
    {
     "name": "stdout",
     "output_type": "stream",
     "text": [
      "Mounted at /content/drive\n"
     ]
    }
   ],
   "source": [
    "from google.colab import drive\n",
    "drive.mount('/content/drive')"
   ]
  },
  {
   "cell_type": "code",
   "execution_count": 2,
   "metadata": {
    "collapsed": true,
    "executionInfo": {
     "elapsed": 16157,
     "status": "ok",
     "timestamp": 1744035406230,
     "user": {
      "displayName": "Scott Sun",
      "userId": "10175953867583691140"
     },
     "user_tz": 240
    },
    "id": "LoXE8zybKvkB"
   },
   "outputs": [],
   "source": [
    "%%capture\n",
    "!apt-get install libmagickwand-dev\n",
    "!pip install wand"
   ]
  },
  {
   "cell_type": "code",
   "execution_count": 3,
   "metadata": {
    "executionInfo": {
     "elapsed": 11,
     "status": "ok",
     "timestamp": 1744035406244,
     "user": {
      "displayName": "Scott Sun",
      "userId": "10175953867583691140"
     },
     "user_tz": 240
    },
    "id": "IYnHBQoYI0Ny"
   },
   "outputs": [],
   "source": [
    "import os\n",
    "import sys\n",
    "\n",
    "sys.path.append('/content/drive/MyDrive/clear-vae')\n",
    "os.chdir('/content/drive/MyDrive/clear-vae')"
   ]
  },
  {
   "cell_type": "code",
   "execution_count": null,
   "metadata": {
    "colab": {
     "base_uri": "https://localhost:8080/"
    },
    "collapsed": true,
    "id": "6alqw7tFEoDu",
    "outputId": "69163b4c-7cbd-42ef-aa93-4aa5cc415c88"
   },
   "outputs": [],
   "source": [
    "for i in range(10):\n",
    "    print(f\"Running iteration {i+1}\")\n",
    "    !python run_styledmnist_downstream_expr.py --data_root_path /content/ --temperature 0.1\n",
    "    print(f\"Complete iteration {i+1}\")\n",
    "\n",
    "from tqdm import tqdm\n",
    "import time\n",
    "\n",
    "for i in tqdm(range(9)):\n",
    "    time.sleep(1)\n",
    "\n",
    "!kill $(ps aux | awk '{print $2}')"
   ]
  },
  {
   "cell_type": "code",
   "execution_count": null,
   "metadata": {
    "id": "bbn3QqwVH9cg"
   },
   "outputs": [],
   "source": []
  }
 ],
 "metadata": {
  "accelerator": "GPU",
  "colab": {
   "authorship_tag": "ABX9TyN0SIGZKehWFob6PkohR+dQ",
   "gpuType": "L4",
   "machine_shape": "hm",
   "provenance": []
  },
  "kernelspec": {
   "display_name": "Python 3",
   "name": "python3"
  },
  "language_info": {
   "name": "python"
  }
 },
 "nbformat": 4,
 "nbformat_minor": 0
}
