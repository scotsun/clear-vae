{
    "cells": [
        {
            "cell_type": "code",
            "execution_count": null,
            "metadata": {
                "colab": {
                    "base_uri": "https://localhost:8080/"
                },
                "executionInfo": {
                    "elapsed": 22213,
                    "status": "ok",
                    "timestamp": 1737506618175,
                    "user": {
                        "displayName": "anonymous",
                        "userId": "10175953867583691140"
                    },
                    "user_tz": 300
                },
                "id": "CtYoyms5IAO7",
                "outputId": "ccaa0e72-3396-4fb4-ddb1-bfa3cc4aecb6"
            },
            "outputs": [
                {
                    "name": "stdout",
                    "output_type": "stream",
                    "text": [
                        "Mounted at /content/drive\n"
                    ]
                }
            ],
            "source": [
                "from google.colab import drive\n",
                "drive.mount('/content/drive')"
            ]
        },
        {
            "cell_type": "code",
            "execution_count": null,
            "metadata": {
                "id": "vdnnkJY-wnPw"
            },
            "outputs": [],
            "source": [
                "%%capture\n",
                "!apt-get install libmagickwand-dev\n",
                "!pip install wand"
            ]
        },
        {
            "cell_type": "code",
            "execution_count": null,
            "metadata": {
                "id": "IYnHBQoYI0Ny"
            },
            "outputs": [],
            "source": [
                "import os\n",
                "import sys\n",
                "\n",
                "sys.path.append('/content/drive/MyDrive/clear-vae')\n",
                "os.chdir('/content/drive/MyDrive/clear-vae')"
            ]
        },
        {
            "cell_type": "code",
            "execution_count": null,
            "metadata": {
                "id": "xf4h0MW2r4vN"
            },
            "outputs": [],
            "source": [
                "!cp -r ./data/celeba /content/celeba"
            ]
        },
        {
            "cell_type": "code",
            "execution_count": null,
            "metadata": {
                "colab": {
                    "background_save": true,
                    "base_uri": "https://localhost:8080/"
                },
                "collapsed": true,
                "id": "6alqw7tFEoDu",
                "outputId": "d9301311-b404-41cf-98e0-0b31da70e8da"
            },
            "outputs": [],
            "source": [
                "for i in range(10):\n",
                "    print(f\"Running iteration {i+1}\")\n",
                "    !python run_celeba_downstream_expr.py --data_root_path /content/\n",
                "    print(f\"Complete iteration {i+1}\")\n",
                "\n",
                "from tqdm import tqdm\n",
                "import time\n",
                "\n",
                "for i in tqdm(range(5)):\n",
                "    time.sleep(1)\n",
                "\n",
                "!kill $(ps aux | awk '{print $2}')"
            ]
        }
    ],
    "metadata": {
        "accelerator": "GPU",
        "colab": {
            "authorship_tag": "ABX9TyOJiS7tuNvfh/IbeD3/eQ/u",
            "gpuType": "L4",
            "machine_shape": "hm",
            "provenance": []
        },
        "kernelspec": {
            "display_name": "Python 3",
            "name": "python3"
        },
        "language_info": {
            "name": "python"
        }
    },
    "nbformat": 4,
    "nbformat_minor": 0
}