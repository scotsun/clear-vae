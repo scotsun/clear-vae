{
 "cells": [
  {
   "cell_type": "code",
   "execution_count": 14,
   "metadata": {},
   "outputs": [],
   "source": [
    "import numpy as np\n",
    "import torch\n",
    "import torch.distributions as dis"
   ]
  },
  {
   "cell_type": "code",
   "execution_count": 12,
   "metadata": {},
   "outputs": [],
   "source": [
    "def relative_stat(estimate, se, truth):\n",
    "\t\"\"\"Return relative \"\"\"\n",
    "\treturn (estimate - truth) / truth, se / truth\n",
    "\n",
    "\n",
    "def experiment_step(d_loc, T):\n",
    "\tp = dis.Normal(loc=0, scale=1)\n",
    "\tq = dis.Normal(loc=d_loc, scale=1)\n",
    "\ttruth = dis.kl_divergence(q, p)\n",
    "\n",
    "\tx = q.sample(sample_shape=(T,))\n",
    "\tlogr = p.log_prob(x) - q.log_prob(x)\n",
    "\n",
    "\tk1 = -logr\n",
    "\tk2 = logr ** 2 / 2\n",
    "\tk3 = (logr.exp() - 1) - logr\n",
    "\n",
    "\trelative_bias_list, relative_se_list = [], []\n",
    "\tfor k in (k1, k2, k3):\n",
    "\t\trelative_bias, relative_se = relative_stat(k.mean(), k.std(), truth)\n",
    "\t\trelative_bias_list.append(float(relative_bias))\n",
    "\t\trelative_se_list.append(float(relative_se))\n",
    "\t\n",
    "\treturn relative_bias_list, relative_se_list"
   ]
  },
  {
   "cell_type": "code",
   "execution_count": 13,
   "metadata": {},
   "outputs": [
    {
     "data": {
      "text/plain": [
       "([2.236786365509033, -0.030158767476677895, -0.038029663264751434],\n",
       " [19.625577926635742, 1.287672996520996, 1.2843981981277466])"
      ]
     },
     "execution_count": 13,
     "metadata": {},
     "output_type": "execute_result"
    }
   ],
   "source": [
    "experiment_step(0.1, 50)"
   ]
  },
  {
   "cell_type": "code",
   "execution_count": null,
   "metadata": {},
   "outputs": [],
   "source": [
    "rel_biaes = []\n",
    "rel_ses = []\n",
    "for d in np.linspace(0.5, 5, 37):\n",
    "\t_rel_bias, _rel_se = experiment_step(d, 50)\n",
    "\trel_biaes.append(_rel_bias)\n",
    "\trel_ses.append(_rel_se)\n",
    "\n",
    "exp_data = np.column_stack([np.linspace(0.5, 5, 37), np.array(rel_biaes), np.array(rel_ses)])"
   ]
  }
 ],
 "metadata": {
  "kernelspec": {
   "display_name": "research",
   "language": "python",
   "name": "python3"
  },
  "language_info": {
   "codemirror_mode": {
    "name": "ipython",
    "version": 3
   },
   "file_extension": ".py",
   "mimetype": "text/x-python",
   "name": "python",
   "nbconvert_exporter": "python",
   "pygments_lexer": "ipython3",
   "version": "3.10.4"
  }
 },
 "nbformat": 4,
 "nbformat_minor": 2
}
